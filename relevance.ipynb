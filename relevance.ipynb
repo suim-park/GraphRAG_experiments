{
 "cells": [
  {
   "cell_type": "markdown",
   "metadata": {},
   "source": [
    "# GraphRAG Relevance, Factuality and Synthesis Evaluation"
   ]
  },
  {
   "cell_type": "markdown",
   "metadata": {},
   "source": [
    "## Step 0: environment set up"
   ]
  },
  {
   "cell_type": "code",
   "execution_count": 1,
   "metadata": {
    "jupyter": {
     "is_executing": true
    }
   },
   "outputs": [
    {
     "data": {
      "text/plain": [
       "True"
      ]
     },
     "execution_count": 1,
     "metadata": {},
     "output_type": "execute_result"
    }
   ],
   "source": [
    "from dotenv import load_dotenv\n",
    "import os\n",
    "from langchain_neo4j import Neo4jGraph\n",
    "from libs import create_vector_index\n",
    "import pandas as pd\n",
    "from conn import (\n",
    "    connect2Googlesheet,\n",
    "    retrieval_rel_docs,\n",
    "    get_concatenate_df,\n",
    "    apply_metric,\n",
    ")\n",
    "from libs import context_builder\n",
    "\n",
    "# Force reload of the .env file\n",
    "load_dotenv()"
   ]
  },
  {
   "cell_type": "code",
   "execution_count": 2,
   "metadata": {},
   "outputs": [
    {
     "name": "stdout",
     "output_type": "stream",
     "text": [
      "Connected to Neo4j database successfully.\n"
     ]
    }
   ],
   "source": [
    "# Connect to Neo4j database\n",
    "try:\n",
    "    graph = Neo4jGraph(\n",
    "        url=os.getenv(\"NEO4J_URL\"),\n",
    "        username=os.getenv(\"NEO4J_USERNAME\"),\n",
    "        password=os.getenv(\"NEO4J_PASSWORD\"),\n",
    "    )\n",
    "    print(\"Connected to Neo4j database successfully.\")\n",
    "except ValueError as e:\n",
    "    print(f\"Could not connect to Neo4j database: {e}\")"
   ]
  },
  {
   "cell_type": "markdown",
   "metadata": {},
   "source": [
    "## Step 1: Create vector index"
   ]
  },
  {
   "cell_type": "code",
   "execution_count": 4,
   "metadata": {},
   "outputs": [
    {
     "name": "stdout",
     "output_type": "stream",
     "text": [
      "Index 'entities' exists but has incorrect dimensions: None. Recreating...\n"
     ]
    }
   ],
   "source": [
    "# create_vector_index(graph, \"entities\")"
   ]
  },
  {
   "cell_type": "markdown",
   "metadata": {},
   "source": [
    "## Step 2: Load questions from retrieve result doc and relevant doc"
   ]
  },
  {
   "cell_type": "code",
   "execution_count": 4,
   "metadata": {},
   "outputs": [
    {
     "data": {
      "text/html": [
       "<div>\n",
       "<style scoped>\n",
       "    .dataframe tbody tr th:only-of-type {\n",
       "        vertical-align: middle;\n",
       "    }\n",
       "\n",
       "    .dataframe tbody tr th {\n",
       "        vertical-align: top;\n",
       "    }\n",
       "\n",
       "    .dataframe thead th {\n",
       "        text-align: right;\n",
       "    }\n",
       "</style>\n",
       "<table border=\"1\" class=\"dataframe\">\n",
       "  <thead>\n",
       "    <tr style=\"text-align: right;\">\n",
       "      <th></th>\n",
       "      <th>condition</th>\n",
       "      <th>number</th>\n",
       "      <th>docs</th>\n",
       "      <th>Question</th>\n",
       "      <th>Mahmud's Note</th>\n",
       "      <th>status</th>\n",
       "      <th>comments</th>\n",
       "      <th></th>\n",
       "    </tr>\n",
       "  </thead>\n",
       "  <tbody>\n",
       "    <tr>\n",
       "      <th>0</th>\n",
       "      <td>ARDS</td>\n",
       "      <td>1</td>\n",
       "      <td>ACURASYS</td>\n",
       "      <td>Does early administration of neuromuscular blo...</td>\n",
       "      <td>Like</td>\n",
       "      <td></td>\n",
       "      <td></td>\n",
       "      <td></td>\n",
       "    </tr>\n",
       "    <tr>\n",
       "      <th>1</th>\n",
       "      <td>ARDS</td>\n",
       "      <td>2</td>\n",
       "      <td>ACURASYS</td>\n",
       "      <td>Do patients with severe ARDS being treated wit...</td>\n",
       "      <td>Replace</td>\n",
       "      <td>fixed</td>\n",
       "      <td></td>\n",
       "      <td></td>\n",
       "    </tr>\n",
       "    <tr>\n",
       "      <th>2</th>\n",
       "      <td>ARDS</td>\n",
       "      <td>3</td>\n",
       "      <td>ROSE</td>\n",
       "      <td>In patients with moderate to severe ARDS, does...</td>\n",
       "      <td>Maybe this question: In patients with moderate...</td>\n",
       "      <td>fixed</td>\n",
       "      <td></td>\n",
       "      <td></td>\n",
       "    </tr>\n",
       "    <tr>\n",
       "      <th>3</th>\n",
       "      <td>ARDS</td>\n",
       "      <td>4</td>\n",
       "      <td>ROSE</td>\n",
       "      <td>Do patients with moderate-to-severe ARDS have ...</td>\n",
       "      <td>Local question (not sure if this is the aim of...</td>\n",
       "      <td>fixed</td>\n",
       "      <td>Wrong concept since PEEP by itself is mandator...</td>\n",
       "      <td>Does the use of neuromuscular blockers in pati...</td>\n",
       "    </tr>\n",
       "    <tr>\n",
       "      <th>4</th>\n",
       "      <td>ARDS</td>\n",
       "      <td>5</td>\n",
       "      <td>FACTT</td>\n",
       "      <td>Among patients with ALI/ARDS, does a conservat...</td>\n",
       "      <td>Local question (not sure if this is the aim of...</td>\n",
       "      <td>fixed</td>\n",
       "      <td>Check if studies defined conservative by CVP &lt;...</td>\n",
       "      <td></td>\n",
       "    </tr>\n",
       "  </tbody>\n",
       "</table>\n",
       "</div>"
      ],
      "text/plain": [
       "  condition  number      docs  \\\n",
       "0      ARDS       1  ACURASYS   \n",
       "1      ARDS       2  ACURASYS   \n",
       "2      ARDS       3      ROSE   \n",
       "3      ARDS       4      ROSE   \n",
       "4      ARDS       5     FACTT   \n",
       "\n",
       "                                            Question  \\\n",
       "0  Does early administration of neuromuscular blo...   \n",
       "1  Do patients with severe ARDS being treated wit...   \n",
       "2  In patients with moderate to severe ARDS, does...   \n",
       "3  Do patients with moderate-to-severe ARDS have ...   \n",
       "4  Among patients with ALI/ARDS, does a conservat...   \n",
       "\n",
       "                                       Mahmud's Note status  \\\n",
       "0                                               Like          \n",
       "1                                            Replace  fixed   \n",
       "2  Maybe this question: In patients with moderate...  fixed   \n",
       "3  Local question (not sure if this is the aim of...  fixed   \n",
       "4  Local question (not sure if this is the aim of...  fixed   \n",
       "\n",
       "                                            comments  \\\n",
       "0                                                      \n",
       "1                                                      \n",
       "2                                                      \n",
       "3  Wrong concept since PEEP by itself is mandator...   \n",
       "4  Check if studies defined conservative by CVP <...   \n",
       "\n",
       "                                                      \n",
       "0                                                     \n",
       "1                                                     \n",
       "2                                                     \n",
       "3  Does the use of neuromuscular blockers in pati...  \n",
       "4                                                     "
      ]
     },
     "execution_count": 4,
     "metadata": {},
     "output_type": "execute_result"
    }
   ],
   "source": [
    "spreadsheet = connect2Googlesheet()\n",
    "\n",
    "# Select the worksheet: relevance\n",
    "worksheet = spreadsheet.get_worksheet(2)\n",
    "\n",
    "# Get all records as a list of dictionaries\n",
    "data = worksheet.get_all_records()\n",
    "\n",
    "# Convert to Pandas DataFrame\n",
    "df_MedQ = pd.DataFrame(data)\n",
    "df_MedQ.head()"
   ]
  },
  {
   "cell_type": "markdown",
   "metadata": {},
   "source": [
    "## Step 3: Relevance check for top K questions"
   ]
  },
  {
   "cell_type": "code",
   "execution_count": 5,
   "metadata": {},
   "outputs": [],
   "source": [
    "def retrieval_rel_docs(graph, questions, top_k=5):\n",
    "    top_k_questions = questions.head(top_k)\n",
    "    # Initialize a list to store the results\n",
    "    results = []\n",
    "    # Iterate over the top k questions\n",
    "    for index, row in top_k_questions.iterrows():\n",
    "        question_number = index + 1  # Assuming the question number is the index + 1\n",
    "        question = row[\n",
    "            \"Question\"\n",
    "        ]  # Replace 'Question' with the actual column name for questions in df_MedQ\n",
    "\n",
    "        # Generate response for the question\n",
    "        context = context_builder(graph, question, method=\"vector\")\n",
    "\n",
    "        # Extract relevant documents from the response content\n",
    "        # docs = response.choices[0].message.content  # Adjust this based on the actual response structure\n",
    "\n",
    "        # Append the result to the list\n",
    "        results.append(\n",
    "            {\n",
    "                \"Question number\": question_number,\n",
    "                \"Question\": question,\n",
    "                \"Retrieved\": context,\n",
    "            }\n",
    "        )\n",
    "\n",
    "    # Convert the results to a DataFrame\n",
    "    results_df = pd.DataFrame(\n",
    "        results, columns=[\"Question number\", \"Question\", \"Retrieved\"]\n",
    "    )\n",
    "\n",
    "    return results_df\n",
    "\n",
    "\n",
    "# retrieval_rel_docs (graph, questions, top_k=1)"
   ]
  },
  {
   "cell_type": "code",
   "execution_count": 17,
   "metadata": {},
   "outputs": [],
   "source": [
    "# Set pandas display options to show the full text content\n",
    "pd.set_option(\"display.max_colwidth\", None)\n",
    "pd.set_option(\"display.max_rows\", None)\n",
    "pd.set_option(\"display.max_columns\", None)\n",
    "topk = 5\n",
    "results_df = retrieval_rel_docs(graph, df_MedQ, top_k=topk)\n",
    "results_df\n",
    "# results_df.to_csv('./outputs/retrieved_docs_results.csv', index=False)"
   ]
  },
  {
   "cell_type": "code",
   "execution_count": 8,
   "metadata": {},
   "outputs": [
    {
     "data": {
      "text/html": [
       "<div>\n",
       "<style scoped>\n",
       "    .dataframe tbody tr th:only-of-type {\n",
       "        vertical-align: middle;\n",
       "    }\n",
       "\n",
       "    .dataframe tbody tr th {\n",
       "        vertical-align: top;\n",
       "    }\n",
       "\n",
       "    .dataframe thead th {\n",
       "        text-align: right;\n",
       "    }\n",
       "</style>\n",
       "<table border=\"1\" class=\"dataframe\">\n",
       "  <thead>\n",
       "    <tr style=\"text-align: right;\">\n",
       "      <th></th>\n",
       "      <th>Question number</th>\n",
       "      <th>Generated Docs</th>\n",
       "    </tr>\n",
       "  </thead>\n",
       "  <tbody>\n",
       "    <tr>\n",
       "      <th>0</th>\n",
       "      <td>1</td>\n",
       "      <td>\"ACURASYS\"</td>\n",
       "    </tr>\n",
       "    <tr>\n",
       "      <th>1</th>\n",
       "      <td>2</td>\n",
       "      <td>\"ACURASYS\"</td>\n",
       "    </tr>\n",
       "    <tr>\n",
       "      <th>2</th>\n",
       "      <td>3</td>\n",
       "      <td>\"ACURASYS\"</td>\n",
       "    </tr>\n",
       "    <tr>\n",
       "      <th>3</th>\n",
       "      <td>4</td>\n",
       "      <td>\"ROSE\", \"ACURASYS\"</td>\n",
       "    </tr>\n",
       "    <tr>\n",
       "      <th>4</th>\n",
       "      <td>5</td>\n",
       "      <td>\"ARDS\", \"ACURASYS\"</td>\n",
       "    </tr>\n",
       "  </tbody>\n",
       "</table>\n",
       "</div>"
      ],
      "text/plain": [
       "   Question number      Generated Docs\n",
       "0                1          \"ACURASYS\"\n",
       "1                2          \"ACURASYS\"\n",
       "2                3          \"ACURASYS\"\n",
       "3                4  \"ROSE\", \"ACURASYS\"\n",
       "4                5  \"ARDS\", \"ACURASYS\""
      ]
     },
     "execution_count": 8,
     "metadata": {},
     "output_type": "execute_result"
    }
   ],
   "source": [
    "# old results\n",
    "old_results = pd.read_csv(\"retrieved_docs_results.csv\")\n",
    "old_results"
   ]
  },
  {
   "cell_type": "code",
   "execution_count": 15,
   "metadata": {},
   "outputs": [
    {
     "data": {
      "text/html": [
       "<div>\n",
       "<style scoped>\n",
       "    .dataframe tbody tr th:only-of-type {\n",
       "        vertical-align: middle;\n",
       "    }\n",
       "\n",
       "    .dataframe tbody tr th {\n",
       "        vertical-align: top;\n",
       "    }\n",
       "\n",
       "    .dataframe thead th {\n",
       "        text-align: right;\n",
       "    }\n",
       "</style>\n",
       "<table border=\"1\" class=\"dataframe\">\n",
       "  <thead>\n",
       "    <tr style=\"text-align: right;\">\n",
       "      <th></th>\n",
       "      <th>Question</th>\n",
       "      <th>Relevant Docs</th>\n",
       "      <th>Generated Docs</th>\n",
       "    </tr>\n",
       "  </thead>\n",
       "  <tbody>\n",
       "    <tr>\n",
       "      <th>0</th>\n",
       "      <td>Relevace Q1</td>\n",
       "      <td>ACURASYS ROSE</td>\n",
       "      <td>ACURASYS</td>\n",
       "    </tr>\n",
       "    <tr>\n",
       "      <th>1</th>\n",
       "      <td>Relevace Q2</td>\n",
       "      <td>ACURASYS ROSE</td>\n",
       "      <td>ACURASYS</td>\n",
       "    </tr>\n",
       "  </tbody>\n",
       "</table>\n",
       "</div>"
      ],
      "text/plain": [
       "      Question  Relevant Docs Generated Docs\n",
       "0  Relevace Q1  ACURASYS ROSE       ACURASYS\n",
       "1  Relevace Q2  ACURASYS ROSE       ACURASYS"
      ]
     },
     "execution_count": 15,
     "metadata": {},
     "output_type": "execute_result"
    }
   ],
   "source": [
    "# load the relevant documents\n",
    "topk = 2\n",
    "results_df = pd.read_csv(\"retrieved_docs_results.csv\")\n",
    "relevant_docs_df = pd.read_csv(\"relevant_docs.csv\").rename(\n",
    "    columns={\"Docs\": \"Relevant Docs\"}\n",
    ")\n",
    "concatenated_df = get_concatenate_df(results_df, relevant_docs_df, topk)\n",
    "concatenated_df.head()"
   ]
  },
  {
   "cell_type": "code",
   "execution_count": 16,
   "metadata": {},
   "outputs": [
    {
     "data": {
      "text/html": [
       "<div>\n",
       "<style scoped>\n",
       "    .dataframe tbody tr th:only-of-type {\n",
       "        vertical-align: middle;\n",
       "    }\n",
       "\n",
       "    .dataframe tbody tr th {\n",
       "        vertical-align: top;\n",
       "    }\n",
       "\n",
       "    .dataframe thead th {\n",
       "        text-align: right;\n",
       "    }\n",
       "</style>\n",
       "<table border=\"1\" class=\"dataframe\">\n",
       "  <thead>\n",
       "    <tr style=\"text-align: right;\">\n",
       "      <th></th>\n",
       "      <th>Unnamed: 0</th>\n",
       "      <th>Question</th>\n",
       "      <th>Relevant Docs</th>\n",
       "    </tr>\n",
       "  </thead>\n",
       "  <tbody>\n",
       "    <tr>\n",
       "      <th>0</th>\n",
       "      <td>0</td>\n",
       "      <td>Relevace Q1</td>\n",
       "      <td>ACURASYS, ROSE</td>\n",
       "    </tr>\n",
       "    <tr>\n",
       "      <th>1</th>\n",
       "      <td>1</td>\n",
       "      <td>Relevace Q2</td>\n",
       "      <td>ACURASYS, ROSE</td>\n",
       "    </tr>\n",
       "    <tr>\n",
       "      <th>2</th>\n",
       "      <td>2</td>\n",
       "      <td>Relevace Q3</td>\n",
       "      <td>ROSE</td>\n",
       "    </tr>\n",
       "    <tr>\n",
       "      <th>3</th>\n",
       "      <td>3</td>\n",
       "      <td>Relevace Q4</td>\n",
       "      <td>ROSE</td>\n",
       "    </tr>\n",
       "    <tr>\n",
       "      <th>4</th>\n",
       "      <td>4</td>\n",
       "      <td>Relevace Q5</td>\n",
       "      <td>FACTT</td>\n",
       "    </tr>\n",
       "  </tbody>\n",
       "</table>\n",
       "</div>"
      ],
      "text/plain": [
       "   Unnamed: 0     Question   Relevant Docs\n",
       "0           0  Relevace Q1  ACURASYS, ROSE\n",
       "1           1  Relevace Q2  ACURASYS, ROSE\n",
       "2           2  Relevace Q3            ROSE\n",
       "3           3  Relevace Q4            ROSE\n",
       "4           4  Relevace Q5           FACTT"
      ]
     },
     "execution_count": 16,
     "metadata": {},
     "output_type": "execute_result"
    }
   ],
   "source": [
    "relevant_docs_df.head()\n",
    "query = \"Find the most relevant document for critical care research\"\n",
    "context_builder(graph, query, method=\"vector\")\n",
    "relevant_docs_df.head()"
   ]
  },
  {
   "cell_type": "code",
   "execution_count": 14,
   "metadata": {},
   "outputs": [
    {
     "data": {
      "text/html": [
       "<div>\n",
       "<style scoped>\n",
       "    .dataframe tbody tr th:only-of-type {\n",
       "        vertical-align: middle;\n",
       "    }\n",
       "\n",
       "    .dataframe tbody tr th {\n",
       "        vertical-align: top;\n",
       "    }\n",
       "\n",
       "    .dataframe thead th {\n",
       "        text-align: right;\n",
       "    }\n",
       "</style>\n",
       "<table border=\"1\" class=\"dataframe\">\n",
       "  <thead>\n",
       "    <tr style=\"text-align: right;\">\n",
       "      <th></th>\n",
       "      <th>Question</th>\n",
       "      <th>Relevant Docs</th>\n",
       "      <th>Generated Docs</th>\n",
       "      <th>Accuracy</th>\n",
       "      <th>Precision</th>\n",
       "      <th>Recall</th>\n",
       "    </tr>\n",
       "  </thead>\n",
       "  <tbody>\n",
       "    <tr>\n",
       "      <th>0</th>\n",
       "      <td>Relevace Q1</td>\n",
       "      <td>ACURASYS ROSE</td>\n",
       "      <td>ACURASYS</td>\n",
       "      <td>0.5</td>\n",
       "      <td>1.0</td>\n",
       "      <td>0.5</td>\n",
       "    </tr>\n",
       "    <tr>\n",
       "      <th>1</th>\n",
       "      <td>Relevace Q2</td>\n",
       "      <td>ACURASYS ROSE</td>\n",
       "      <td>ACURASYS</td>\n",
       "      <td>0.5</td>\n",
       "      <td>1.0</td>\n",
       "      <td>0.5</td>\n",
       "    </tr>\n",
       "  </tbody>\n",
       "</table>\n",
       "</div>"
      ],
      "text/plain": [
       "      Question  Relevant Docs Generated Docs  Accuracy  Precision  Recall\n",
       "0  Relevace Q1  ACURASYS ROSE       ACURASYS       0.5        1.0     0.5\n",
       "1  Relevace Q2  ACURASYS ROSE       ACURASYS       0.5        1.0     0.5"
      ]
     },
     "execution_count": 14,
     "metadata": {},
     "output_type": "execute_result"
    }
   ],
   "source": [
    "# Display the concatenated DataFrame with metrics\n",
    "concatenated_df = apply_metric(concatenated_df)\n",
    "concatenated_df\n",
    "# Save the concatenated DataFrame to a CSV file\n",
    "# concatenated_df.to_csv('./outputs/concatenated_results.csv', index=False)"
   ]
  }
 ],
 "metadata": {
  "kernelspec": {
   "display_name": ".venv",
   "language": "python",
   "name": "python3"
  },
  "language_info": {
   "codemirror_mode": {
    "name": "ipython",
    "version": 3
   },
   "file_extension": ".py",
   "mimetype": "text/x-python",
   "name": "python",
   "nbconvert_exporter": "python",
   "pygments_lexer": "ipython3",
   "version": "3.12.3"
  }
 },
 "nbformat": 4,
 "nbformat_minor": 2
}
