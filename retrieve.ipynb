{
 "cells": [
  {
   "cell_type": "markdown",
   "metadata": {},
   "source": [
    "# GraphRAG Relevance, Factuality and Synthesis Evaluation"
   ]
  },
  {
   "cell_type": "markdown",
   "metadata": {},
   "source": [
    "## Step 0: environment set up"
   ]
  },
  {
   "cell_type": "code",
   "execution_count": 8,
   "metadata": {
    "jupyter": {
     "is_executing": true
    }
   },
   "outputs": [
    {
     "data": {
      "text/plain": [
       "True"
      ]
     },
     "execution_count": 8,
     "metadata": {},
     "output_type": "execute_result"
    }
   ],
   "source": [
    "from dotenv import load_dotenv\n",
    "import os\n",
    "from langchain_neo4j import Neo4jGraph\n",
    "from libs import create_vector_index\n",
    "import pandas as pd\n",
    "from conn import (\n",
    "    connect2Googlesheet,\n",
    "    retrieval_rel_docs,\n",
    "    get_concatenate_df,\n",
    "    apply_metric,\n",
    ")\n",
    "from libs import context_builder\n",
    "\n",
    "# Force reload of the .env file\n",
    "load_dotenv()"
   ]
  },
  {
   "cell_type": "code",
   "execution_count": 11,
   "metadata": {},
   "outputs": [
    {
     "name": "stdout",
     "output_type": "stream",
     "text": [
      "Connected to Neo4j database successfully.\n"
     ]
    }
   ],
   "source": [
    "# Connect to Neo4j database\n",
    "try:\n",
    "    graph = Neo4jGraph(\n",
    "        url=os.getenv(\"NEO4J_URL\"),\n",
    "        username=os.getenv(\"NEO4J_USERNAME\"),\n",
    "        password=os.getenv(\"NEO4J_PASSWORD\"),\n",
    "    )\n",
    "    print(\"Connected to Neo4j database successfully.\")\n",
    "except ValueError as e:\n",
    "    print(f\"Could not connect to Neo4j database: {e}\")"
   ]
  },
  {
   "cell_type": "markdown",
   "metadata": {},
   "source": [
    "## Step 1: Create vector index"
   ]
  },
  {
   "cell_type": "code",
   "execution_count": 12,
   "metadata": {},
   "outputs": [
    {
     "name": "stdout",
     "output_type": "stream",
     "text": [
      "Index 'entities' exists but has incorrect dimensions: None. Recreating...\n"
     ]
    }
   ],
   "source": [
    "create_vector_index(graph, \"entities\")"
   ]
  },
  {
   "cell_type": "markdown",
   "metadata": {},
   "source": [
    "## Step 2: Load questions from google sheet"
   ]
  },
  {
   "cell_type": "code",
   "execution_count": 15,
   "metadata": {},
   "outputs": [
    {
     "ename": "FileNotFoundError",
     "evalue": "[Errno 2] No such file or directory: 'reliable-mode-399404-dc4b73f57296.json # DO NOT CHANGE HERE!!!'",
     "output_type": "error",
     "traceback": [
      "\u001b[0;31m---------------------------------------------------------------------------\u001b[0m",
      "\u001b[0;31mFileNotFoundError\u001b[0m                         Traceback (most recent call last)",
      "Cell \u001b[0;32mIn[15], line 1\u001b[0m\n\u001b[0;32m----> 1\u001b[0m spreadsheet \u001b[38;5;241m=\u001b[39m \u001b[43mconnect2Googlesheet\u001b[49m\u001b[43m(\u001b[49m\u001b[43m)\u001b[49m\n\u001b[1;32m      3\u001b[0m \u001b[38;5;66;03m# Select the worksheet: relevance\u001b[39;00m\n\u001b[1;32m      4\u001b[0m worksheet \u001b[38;5;241m=\u001b[39m spreadsheet\u001b[38;5;241m.\u001b[39mget_worksheet(\u001b[38;5;241m2\u001b[39m)\n",
      "File \u001b[0;32m~/Downloads/25Spring/IDS 798 Capstone Project/Neo4j/GraphRAG_experiments/conn.py:15\u001b[0m, in \u001b[0;36mconnect2Googlesheet\u001b[0;34m()\u001b[0m\n\u001b[1;32m     13\u001b[0m \u001b[38;5;28;01mif\u001b[39;00m creds_path \u001b[38;5;129;01mis\u001b[39;00m \u001b[38;5;28;01mNone\u001b[39;00m:\n\u001b[1;32m     14\u001b[0m     \u001b[38;5;28;01mraise\u001b[39;00m \u001b[38;5;167;01mValueError\u001b[39;00m(\u001b[38;5;124m\"\u001b[39m\u001b[38;5;124mThe environment variable GOOGLE_SHEET_CREDS is not set.\u001b[39m\u001b[38;5;124m\"\u001b[39m)\n\u001b[0;32m---> 15\u001b[0m creds \u001b[38;5;241m=\u001b[39m \u001b[43mServiceAccountCredentials\u001b[49m\u001b[38;5;241;43m.\u001b[39;49m\u001b[43mfrom_json_keyfile_name\u001b[49m\u001b[43m(\u001b[49m\u001b[43mcreds_path\u001b[49m\u001b[43m,\u001b[49m\u001b[43m \u001b[49m\u001b[43mscope\u001b[49m\u001b[43m)\u001b[49m\n\u001b[1;32m     16\u001b[0m client \u001b[38;5;241m=\u001b[39m gspread\u001b[38;5;241m.\u001b[39mauthorize(creds)\n\u001b[1;32m     17\u001b[0m sheet_url \u001b[38;5;241m=\u001b[39m \u001b[38;5;124m'\u001b[39m\u001b[38;5;124mhttps://docs.google.com/spreadsheets/d/1GRStLZdPvZTN-DDcxND3xaYaHGGl-wVCQxWdsFRhsqs/edit?gid=408470182#gid=408470182\u001b[39m\u001b[38;5;124m'\u001b[39m\n",
      "File \u001b[0;32m~/Downloads/25Spring/IDS 798 Capstone Project/Neo4j/GraphRAG_experiments/.venv/lib/python3.12/site-packages/oauth2client/service_account.py:219\u001b[0m, in \u001b[0;36mServiceAccountCredentials.from_json_keyfile_name\u001b[0;34m(cls, filename, scopes, token_uri, revoke_uri)\u001b[0m\n\u001b[1;32m    193\u001b[0m \u001b[38;5;129m@classmethod\u001b[39m\n\u001b[1;32m    194\u001b[0m \u001b[38;5;28;01mdef\u001b[39;00m\u001b[38;5;250m \u001b[39m\u001b[38;5;21mfrom_json_keyfile_name\u001b[39m(\u001b[38;5;28mcls\u001b[39m, filename, scopes\u001b[38;5;241m=\u001b[39m\u001b[38;5;124m'\u001b[39m\u001b[38;5;124m'\u001b[39m,\n\u001b[1;32m    195\u001b[0m                            token_uri\u001b[38;5;241m=\u001b[39m\u001b[38;5;28;01mNone\u001b[39;00m, revoke_uri\u001b[38;5;241m=\u001b[39m\u001b[38;5;28;01mNone\u001b[39;00m):\n\u001b[1;32m    197\u001b[0m \u001b[38;5;250m    \u001b[39m\u001b[38;5;124;03m\"\"\"Factory constructor from JSON keyfile by name.\u001b[39;00m\n\u001b[1;32m    198\u001b[0m \n\u001b[1;32m    199\u001b[0m \u001b[38;5;124;03m    Args:\u001b[39;00m\n\u001b[0;32m   (...)\u001b[0m\n\u001b[1;32m    217\u001b[0m \u001b[38;5;124;03m            the keyfile.\u001b[39;00m\n\u001b[1;32m    218\u001b[0m \u001b[38;5;124;03m    \"\"\"\u001b[39;00m\n\u001b[0;32m--> 219\u001b[0m     \u001b[38;5;28;01mwith\u001b[39;00m \u001b[38;5;28;43mopen\u001b[39;49m\u001b[43m(\u001b[49m\u001b[43mfilename\u001b[49m\u001b[43m,\u001b[49m\u001b[43m \u001b[49m\u001b[38;5;124;43m'\u001b[39;49m\u001b[38;5;124;43mr\u001b[39;49m\u001b[38;5;124;43m'\u001b[39;49m\u001b[43m)\u001b[49m \u001b[38;5;28;01mas\u001b[39;00m file_obj:\n\u001b[1;32m    220\u001b[0m         client_credentials \u001b[38;5;241m=\u001b[39m json\u001b[38;5;241m.\u001b[39mload(file_obj)\n\u001b[1;32m    221\u001b[0m     \u001b[38;5;28;01mreturn\u001b[39;00m \u001b[38;5;28mcls\u001b[39m\u001b[38;5;241m.\u001b[39m_from_parsed_json_keyfile(client_credentials, scopes,\n\u001b[1;32m    222\u001b[0m                                          token_uri\u001b[38;5;241m=\u001b[39mtoken_uri,\n\u001b[1;32m    223\u001b[0m                                          revoke_uri\u001b[38;5;241m=\u001b[39mrevoke_uri)\n",
      "\u001b[0;31mFileNotFoundError\u001b[0m: [Errno 2] No such file or directory: 'reliable-mode-399404-dc4b73f57296.json # DO NOT CHANGE HERE!!!'"
     ]
    }
   ],
   "source": [
    "spreadsheet = connect2Googlesheet()\n",
    "\n",
    "# Select the worksheet: relevance\n",
    "worksheet = spreadsheet.get_worksheet(2)\n",
    "\n",
    "# Get all records as a list of dictionaries\n",
    "data = worksheet.get_all_records()\n",
    "\n",
    "# Convert to Pandas DataFrame\n",
    "df_MedQ = pd.DataFrame(data)\n",
    "df_MedQ.head()"
   ]
  },
  {
   "cell_type": "markdown",
   "metadata": {},
   "source": [
    "## Step 3: Relevance check for top K questions"
   ]
  },
  {
   "cell_type": "code",
   "execution_count": 5,
   "metadata": {},
   "outputs": [],
   "source": [
    "def retrieval_rel_docs(graph, questions, top_k=5):\n",
    "    top_k_questions = questions.head(top_k)\n",
    "    # Initialize a list to store the results\n",
    "    results = []\n",
    "    # Iterate over the top k questions\n",
    "    for index, row in top_k_questions.iterrows():\n",
    "        question_number = index + 1  # Assuming the question number is the index + 1\n",
    "        question = row[\n",
    "            \"Question\"\n",
    "        ]  # Replace 'Question' with the actual column name for questions in df_MedQ\n",
    "\n",
    "        # Generate response for the question\n",
    "        context = context_builder(graph, question, method=\"vector\")\n",
    "\n",
    "        # Extract relevant documents from the response content\n",
    "        # docs = response.choices[0].message.content  # Adjust this based on the actual response structure\n",
    "\n",
    "        # Append the result to the list\n",
    "        results.append(\n",
    "            {\n",
    "                \"Question number\": question_number,\n",
    "                \"Question\": question,\n",
    "                \"Retrieved\": context,\n",
    "            }\n",
    "        )\n",
    "\n",
    "    # Convert the results to a DataFrame\n",
    "    results_df = pd.DataFrame(\n",
    "        results, columns=[\"Question number\", \"Question\", \"Retrieved\"]\n",
    "    )\n",
    "\n",
    "    return results_df\n",
    "\n",
    "\n",
    "# retrieval_rel_docs (graph, questions, top_k=1)"
   ]
  },
  {
   "cell_type": "code",
   "execution_count": 6,
   "metadata": {},
   "outputs": [
    {
     "data": {
      "text/html": [
       "<div>\n",
       "<style scoped>\n",
       "    .dataframe tbody tr th:only-of-type {\n",
       "        vertical-align: middle;\n",
       "    }\n",
       "\n",
       "    .dataframe tbody tr th {\n",
       "        vertical-align: top;\n",
       "    }\n",
       "\n",
       "    .dataframe thead th {\n",
       "        text-align: right;\n",
       "    }\n",
       "</style>\n",
       "<table border=\"1\" class=\"dataframe\">\n",
       "  <thead>\n",
       "    <tr style=\"text-align: right;\">\n",
       "      <th></th>\n",
       "      <th>Question number</th>\n",
       "      <th>Question</th>\n",
       "      <th>Retrieved</th>\n",
       "    </tr>\n",
       "  </thead>\n",
       "  <tbody>\n",
       "    <tr>\n",
       "      <th>0</th>\n",
       "      <td>1</td>\n",
       "      <td>Does early administration of neuromuscular blocking agents increases the ventilator free days?</td>\n",
       "      <td>Given the following context in the format [(File Name, Text),...] \\n[('LSPA.pdf', ' clinical trials have shown that early mobilization in both medical and surgical  critically ill patients is safe and associated with increased ventilator-free days and improved  physical function at hospital discharge.22–25 Early mobilization is limited by use of deep  sedation and development of delirium, which can be minimized through the use of scale- based targeted light sedation is implemented early on.26 After reviewing this literature in 2013, the Society of Critical Care Medicine (SCCM)’s')]</td>\n",
       "    </tr>\n",
       "    <tr>\n",
       "      <th>1</th>\n",
       "      <td>2</td>\n",
       "      <td>Do patients with severe ARDS being treated with neuromuscular blocking agents have increased muscle weakness?</td>\n",
       "      <td>Given the following context in the format [(File Name, Text),...] \\n[('ACURASYS.pdf', ' Steroidal  compounds (vecuronium, pancuronium, and ro\\xad cu\\xadronium) may carry the highest risk of myopa- thy,23 although myopathy has also been reported  with benzylisoquinolines, including cisatracuri- um besylate.24,25 Muscle weakness was not in- creased significantly by the use of the neuro- muscular blocking agent in our study. The short  duration of use of the neuromuscular blocking  agent probably explains this result. In conclusion, this multicenter trial provides  evidence that the administration of a neuromuscu- lar blocking agent early in the course of severe  ARDS managed with low-tidal-volume ventilation  may improve outcomes. Future studies are need- ed to replicate and expand these findings before  they can be widely adopted in clinical practice. Supported by the Assistance Publique–Hôpitaux de Marseille  and a grant from the Ministère de')]</td>\n",
       "    </tr>\n",
       "    <tr>\n",
       "      <th>2</th>\n",
       "      <td>3</td>\n",
       "      <td>In patients with moderate to severe ARDS, does early use of continuous neuromuscular blockade improve mortality?</td>\n",
       "      <td>Given the following context in the format [(File Name, Text),...] \\n[('ACURASYS.pdf', ' Steroidal  compounds (vecuronium, pancuronium, and ro\\xad cu\\xadronium) may carry the highest risk of myopa- thy,23 although myopathy has also been reported  with benzylisoquinolines, including cisatracuri- um besylate.24,25 Muscle weakness was not in- creased significantly by the use of the neuro- muscular blocking agent in our study. The short  duration of use of the neuromuscular blocking  agent probably explains this result. In conclusion, this multicenter trial provides  evidence that the administration of a neuromuscu- lar blocking agent early in the course of severe  ARDS managed with low-tidal-volume ventilation  may improve outcomes. Future studies are need- ed to replicate and expand these findings before  they can be widely adopted in clinical practice. Supported by the Assistance Publique–Hôpitaux de Marseille  and a grant from the Ministère de')]</td>\n",
       "    </tr>\n",
       "    <tr>\n",
       "      <th>3</th>\n",
       "      <td>4</td>\n",
       "      <td>Do patients with moderate-to-severe ARDS have a significance difference in mortality rate beween patients who recieved an early and continous cisatracurium infusion than those with usual care approach with lighter sedation targets?</td>\n",
       "      <td>Given the following context in the format [(File Name, Text),...] \\n[('ROSE.pdf', ' approach to mechanical ventilation  that included lighter sedation targets. This trial  had high adherence to the protocol, including  minimal crossover use of neuromuscular block- ade and high adherence to the recommended  ventilation and fluid strategy. The results of  prespecified subgroup analyses were consistent  with those of the primary analysis across sever- ity and duration of ARDS and across trial sites  with different exclusion rates for previous neuro- muscular blockade use. Several factors may explain why our findings  differed from those of ACURASYS, the previous  multicenter trial that showed a benefit with  early continuous neuromuscular blockade. First,  we used a higher PEEP strategy in both groups  to test our intervention in the context of best  care and to reduce the likelihood of differential  PEEP use across groups. Higher PEEP may itself  reduce mortality among patients with moderate- to-severe ARDS, thereby blunting the potential  treatment effect of early')]</td>\n",
       "    </tr>\n",
       "    <tr>\n",
       "      <th>4</th>\n",
       "      <td>5</td>\n",
       "      <td>Among patients with ALI/ARDS, does a conservative fluid management strategy improves lung function and decrease ventilator days compared to liberal strategy?</td>\n",
       "      <td>Given the following context in the format [(File Name, Text),...] \\n[('FMWSCPARDS.pdf', ' mortality to FACTT Conservative. FACTT Conservative has improved ventilator-free days,  ICU-free days, and prevalence of acute kidney injury than FACTT Liberal. FACTT Lite can  be used as a simplified and safe alternative to FACTT Conservative for the management of  fluid balance in patients with ARDS. Supplementary Material Refer to Web version on PubMed Central for supplementary material. Acknowledgments Supported, in part, by the National Institutes of Health, National')]</td>\n",
       "    </tr>\n",
       "  </tbody>\n",
       "</table>\n",
       "</div>"
      ],
      "text/plain": [
       "   Question number  \\\n",
       "0                1   \n",
       "1                2   \n",
       "2                3   \n",
       "3                4   \n",
       "4                5   \n",
       "\n",
       "                                                                                                                                                                                                                                  Question  \\\n",
       "0                                                                                                                                           Does early administration of neuromuscular blocking agents increases the ventilator free days?   \n",
       "1                                                                                                                            Do patients with severe ARDS being treated with neuromuscular blocking agents have increased muscle weakness?   \n",
       "2                                                                                                                         In patients with moderate to severe ARDS, does early use of continuous neuromuscular blockade improve mortality?   \n",
       "3  Do patients with moderate-to-severe ARDS have a significance difference in mortality rate beween patients who recieved an early and continous cisatracurium infusion than those with usual care approach with lighter sedation targets?   \n",
       "4                                                                            Among patients with ALI/ARDS, does a conservative fluid management strategy improves lung function and decrease ventilator days compared to liberal strategy?   \n",
       "\n",
       "                                                                                                                                                                                                                                                                                                                                                                                                                                                                                                                                                                                                                                                                                                                                                                                                                                                                                                                                                                                                                                                                                                                    Retrieved  \n",
       "0                                                                                                                                                                                                                                                                                                                                                                                                                                                                                                                Given the following context in the format [(File Name, Text),...] \\n[('LSPA.pdf', ' clinical trials have shown that early mobilization in both medical and surgical  critically ill patients is safe and associated with increased ventilator-free days and improved  physical function at hospital discharge.22–25 Early mobilization is limited by use of deep  sedation and development of delirium, which can be minimized through the use of scale- based targeted light sedation is implemented early on.26 After reviewing this literature in 2013, the Society of Critical Care Medicine (SCCM)’s')]  \n",
       "1                                                                                                                             Given the following context in the format [(File Name, Text),...] \\n[('ACURASYS.pdf', ' Steroidal  compounds (vecuronium, pancuronium, and ro\\xad cu\\xadronium) may carry the highest risk of myopa- thy,23 although myopathy has also been reported  with benzylisoquinolines, including cisatracuri- um besylate.24,25 Muscle weakness was not in- creased significantly by the use of the neuro- muscular blocking agent in our study. The short  duration of use of the neuromuscular blocking  agent probably explains this result. In conclusion, this multicenter trial provides  evidence that the administration of a neuromuscu- lar blocking agent early in the course of severe  ARDS managed with low-tidal-volume ventilation  may improve outcomes. Future studies are need- ed to replicate and expand these findings before  they can be widely adopted in clinical practice. Supported by the Assistance Publique–Hôpitaux de Marseille  and a grant from the Ministère de')]  \n",
       "2                                                                                                                             Given the following context in the format [(File Name, Text),...] \\n[('ACURASYS.pdf', ' Steroidal  compounds (vecuronium, pancuronium, and ro\\xad cu\\xadronium) may carry the highest risk of myopa- thy,23 although myopathy has also been reported  with benzylisoquinolines, including cisatracuri- um besylate.24,25 Muscle weakness was not in- creased significantly by the use of the neuro- muscular blocking agent in our study. The short  duration of use of the neuromuscular blocking  agent probably explains this result. In conclusion, this multicenter trial provides  evidence that the administration of a neuromuscu- lar blocking agent early in the course of severe  ARDS managed with low-tidal-volume ventilation  may improve outcomes. Future studies are need- ed to replicate and expand these findings before  they can be widely adopted in clinical practice. Supported by the Assistance Publique–Hôpitaux de Marseille  and a grant from the Ministère de')]  \n",
       "3  Given the following context in the format [(File Name, Text),...] \\n[('ROSE.pdf', ' approach to mechanical ventilation  that included lighter sedation targets. This trial  had high adherence to the protocol, including  minimal crossover use of neuromuscular block- ade and high adherence to the recommended  ventilation and fluid strategy. The results of  prespecified subgroup analyses were consistent  with those of the primary analysis across sever- ity and duration of ARDS and across trial sites  with different exclusion rates for previous neuro- muscular blockade use. Several factors may explain why our findings  differed from those of ACURASYS, the previous  multicenter trial that showed a benefit with  early continuous neuromuscular blockade. First,  we used a higher PEEP strategy in both groups  to test our intervention in the context of best  care and to reduce the likelihood of differential  PEEP use across groups. Higher PEEP may itself  reduce mortality among patients with moderate- to-severe ARDS, thereby blunting the potential  treatment effect of early')]  \n",
       "4                                                                                                                                                                                                                                                                                                                                                                                                                                                                                                                                   Given the following context in the format [(File Name, Text),...] \\n[('FMWSCPARDS.pdf', ' mortality to FACTT Conservative. FACTT Conservative has improved ventilator-free days,  ICU-free days, and prevalence of acute kidney injury than FACTT Liberal. FACTT Lite can  be used as a simplified and safe alternative to FACTT Conservative for the management of  fluid balance in patients with ARDS. Supplementary Material Refer to Web version on PubMed Central for supplementary material. Acknowledgments Supported, in part, by the National Institutes of Health, National')]  "
      ]
     },
     "execution_count": 6,
     "metadata": {},
     "output_type": "execute_result"
    }
   ],
   "source": [
    "# Set pandas display options to show the full text content\n",
    "pd.set_option(\"display.max_colwidth\", None)\n",
    "pd.set_option(\"display.max_rows\", None)\n",
    "pd.set_option(\"display.max_columns\", None)\n",
    "topk = 5\n",
    "results_df = retrieval_rel_docs(graph, df_MedQ, top_k=topk)\n",
    "results_df\n",
    "# results_df.to_csv('./outputs/retrieved_docs_results.csv', index=False)"
   ]
  },
  {
   "cell_type": "code",
   "execution_count": 7,
   "metadata": {},
   "outputs": [
    {
     "data": {
      "text/html": [
       "<div>\n",
       "<style scoped>\n",
       "    .dataframe tbody tr th:only-of-type {\n",
       "        vertical-align: middle;\n",
       "    }\n",
       "\n",
       "    .dataframe tbody tr th {\n",
       "        vertical-align: top;\n",
       "    }\n",
       "\n",
       "    .dataframe thead th {\n",
       "        text-align: right;\n",
       "    }\n",
       "</style>\n",
       "<table border=\"1\" class=\"dataframe\">\n",
       "  <thead>\n",
       "    <tr style=\"text-align: right;\">\n",
       "      <th></th>\n",
       "      <th>Question number</th>\n",
       "      <th>Generated Docs</th>\n",
       "    </tr>\n",
       "  </thead>\n",
       "  <tbody>\n",
       "    <tr>\n",
       "      <th>0</th>\n",
       "      <td>1</td>\n",
       "      <td>\"ACURASYS\"</td>\n",
       "    </tr>\n",
       "    <tr>\n",
       "      <th>1</th>\n",
       "      <td>2</td>\n",
       "      <td>\"ACURASYS\"</td>\n",
       "    </tr>\n",
       "    <tr>\n",
       "      <th>2</th>\n",
       "      <td>3</td>\n",
       "      <td>\"ACURASYS\"</td>\n",
       "    </tr>\n",
       "    <tr>\n",
       "      <th>3</th>\n",
       "      <td>4</td>\n",
       "      <td>\"ROSE\", \"ACURASYS\"</td>\n",
       "    </tr>\n",
       "    <tr>\n",
       "      <th>4</th>\n",
       "      <td>5</td>\n",
       "      <td>\"ARDS\", \"ACURASYS\"</td>\n",
       "    </tr>\n",
       "  </tbody>\n",
       "</table>\n",
       "</div>"
      ],
      "text/plain": [
       "   Question number      Generated Docs\n",
       "0                1          \"ACURASYS\"\n",
       "1                2          \"ACURASYS\"\n",
       "2                3          \"ACURASYS\"\n",
       "3                4  \"ROSE\", \"ACURASYS\"\n",
       "4                5  \"ARDS\", \"ACURASYS\""
      ]
     },
     "execution_count": 7,
     "metadata": {},
     "output_type": "execute_result"
    }
   ],
   "source": [
    "# old results\n",
    "old_results = pd.read_csv(\"./outputs/retrieved_docs_results.csv\")\n",
    "old_results"
   ]
  },
  {
   "cell_type": "code",
   "execution_count": null,
   "metadata": {},
   "outputs": [],
   "source": [
    "# load the relevant documents\n",
    "# topk = 2\n",
    "# results_df = pd.read_csv('./outputs/retrieved_docs_results.csv')\n",
    "# relevant_docs_df = pd.read_csv('./outputs/relevant_docs.csv').rename(columns={'Docs': 'Relevant Docs'})\n",
    "# concatenated_df = get_concatenate_df(results_df, relevant_docs_df, topk)\n",
    "# concatenated_df.head()\n",
    "# relevant_docs_df.head()\n",
    "# context_builder(graph, query, method=\"vector\")\n",
    "# relevant_docs_df.head()"
   ]
  },
  {
   "cell_type": "code",
   "execution_count": 10,
   "metadata": {},
   "outputs": [],
   "source": [
    "# Display the concatenated DataFrame with metrics\n",
    "# concatenated_df = apply_metric(concatenated_df)\n",
    "# concatenated_df\n",
    "# Save the concatenated DataFrame to a CSV file\n",
    "# concatenated_df.to_csv('./outputs/concatenated_results.csv', index=False)"
   ]
  }
 ],
 "metadata": {
  "kernelspec": {
   "display_name": ".venv",
   "language": "python",
   "name": "python3"
  },
  "language_info": {
   "codemirror_mode": {
    "name": "ipython",
    "version": 3
   },
   "file_extension": ".py",
   "mimetype": "text/x-python",
   "name": "python",
   "nbconvert_exporter": "python",
   "pygments_lexer": "ipython3",
   "version": "3.12.3"
  }
 },
 "nbformat": 4,
 "nbformat_minor": 2
}
