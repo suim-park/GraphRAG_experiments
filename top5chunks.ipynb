{
 "cells": [
  {
   "cell_type": "markdown",
   "metadata": {},
   "source": [
    "# Get the Top 5 Chunks to Check Paper's Stance"
   ]
  },
  {
   "cell_type": "markdown",
   "metadata": {},
   "source": [
    "## Step 0: Environment Setup"
   ]
  },
  {
   "cell_type": "code",
   "execution_count": 1,
   "metadata": {},
   "outputs": [
    {
     "data": {
      "text/plain": [
       "True"
      ]
     },
     "execution_count": 1,
     "metadata": {},
     "output_type": "execute_result"
    }
   ],
   "source": [
    "from dotenv import load_dotenv  # type: ignore\n",
    "import os\n",
    "from langchain_neo4j import Neo4jGraph  # type: ignore\n",
    "from libs import create_vector_index\n",
    "import pandas as pd  # type: ignore\n",
    "from conn import connect2Googlesheet\n",
    "from annolibs import get_all_chunks_per_paper, compare_embeddings\n",
    "from openai import OpenAI\n",
    "\n",
    "load_dotenv()"
   ]
  },
  {
   "cell_type": "code",
   "execution_count": 2,
   "metadata": {},
   "outputs": [
    {
     "name": "stdout",
     "output_type": "stream",
     "text": [
      "Connected to Neo4j database successfully.\n"
     ]
    }
   ],
   "source": [
    "# Connect to Neo4j database\n",
    "try:\n",
    "    graph = Neo4jGraph(\n",
    "        url=os.getenv(\"NEO4J_URL\"),\n",
    "        username=os.getenv(\"NEO4J_USERNAME\"),\n",
    "        password=os.getenv(\"NEO4J_PASSWORD\"),\n",
    "    )\n",
    "    print(\"Connected to Neo4j database successfully.\")\n",
    "except ValueError as e:\n",
    "    print(f\"Could not connect to Neo4j database: {e}\")"
   ]
  },
  {
   "cell_type": "code",
   "execution_count": 3,
   "metadata": {},
   "outputs": [],
   "source": [
    "# Check if the entities index exists\n",
    "index_name = \"entities\"\n",
    "query = \"SHOW INDEXES YIELD name, type WHERE type = 'VECTOR' AND name = $index_name\"\n",
    "\n",
    "result = graph.query(query, params={\"index_name\": index_name})\n",
    "if result:\n",
    "    print(\"The 'entities' index already exists.\")\n",
    "else:\n",
    "    create_vector_index(graph, \"entities\")"
   ]
  },
  {
   "cell_type": "markdown",
   "metadata": {},
   "source": [
    "## Step 1: Load Questions from Google Sheet"
   ]
  },
  {
   "cell_type": "code",
   "execution_count": 4,
   "metadata": {},
   "outputs": [
    {
     "data": {
      "text/html": [
       "<div>\n",
       "<style scoped>\n",
       "    .dataframe tbody tr th:only-of-type {\n",
       "        vertical-align: middle;\n",
       "    }\n",
       "\n",
       "    .dataframe tbody tr th {\n",
       "        vertical-align: top;\n",
       "    }\n",
       "\n",
       "    .dataframe thead th {\n",
       "        text-align: right;\n",
       "    }\n",
       "</style>\n",
       "<table border=\"1\" class=\"dataframe\">\n",
       "  <thead>\n",
       "    <tr style=\"text-align: right;\">\n",
       "      <th></th>\n",
       "      <th>condition</th>\n",
       "      <th>number</th>\n",
       "      <th>docs</th>\n",
       "      <th>Question</th>\n",
       "      <th>Mahmud's Note</th>\n",
       "      <th>status</th>\n",
       "      <th>comments</th>\n",
       "      <th></th>\n",
       "    </tr>\n",
       "  </thead>\n",
       "  <tbody>\n",
       "    <tr>\n",
       "      <th>0</th>\n",
       "      <td>ARDS</td>\n",
       "      <td>1</td>\n",
       "      <td>ACURASYS</td>\n",
       "      <td>Does early administration of neuromuscular blo...</td>\n",
       "      <td>Like</td>\n",
       "      <td></td>\n",
       "      <td></td>\n",
       "      <td></td>\n",
       "    </tr>\n",
       "    <tr>\n",
       "      <th>1</th>\n",
       "      <td>ARDS</td>\n",
       "      <td>2</td>\n",
       "      <td>ACURASYS</td>\n",
       "      <td>Do patients with severe ARDS being treated wit...</td>\n",
       "      <td>Replace</td>\n",
       "      <td>fixed</td>\n",
       "      <td></td>\n",
       "      <td></td>\n",
       "    </tr>\n",
       "    <tr>\n",
       "      <th>2</th>\n",
       "      <td>ARDS</td>\n",
       "      <td>3</td>\n",
       "      <td>ROSE</td>\n",
       "      <td>In patients with moderate to severe ARDS, does...</td>\n",
       "      <td>Maybe this question: In patients with moderate...</td>\n",
       "      <td>fixed</td>\n",
       "      <td></td>\n",
       "      <td></td>\n",
       "    </tr>\n",
       "    <tr>\n",
       "      <th>3</th>\n",
       "      <td>ARDS</td>\n",
       "      <td>4</td>\n",
       "      <td>ROSE</td>\n",
       "      <td>Do patients with moderate-to-severe ARDS have ...</td>\n",
       "      <td>Local question (not sure if this is the aim of...</td>\n",
       "      <td>fixed</td>\n",
       "      <td>Wrong concept since PEEP by itself is mandator...</td>\n",
       "      <td>Does the use of neuromuscular blockers in pati...</td>\n",
       "    </tr>\n",
       "    <tr>\n",
       "      <th>4</th>\n",
       "      <td>ARDS</td>\n",
       "      <td>5</td>\n",
       "      <td>FACTT</td>\n",
       "      <td>Among patients with ALI/ARDS, does a conservat...</td>\n",
       "      <td>Local question (not sure if this is the aim of...</td>\n",
       "      <td>fixed</td>\n",
       "      <td>Check if studies defined conservative by CVP &lt;...</td>\n",
       "      <td></td>\n",
       "    </tr>\n",
       "  </tbody>\n",
       "</table>\n",
       "</div>"
      ],
      "text/plain": [
       "  condition  number      docs  \\\n",
       "0      ARDS       1  ACURASYS   \n",
       "1      ARDS       2  ACURASYS   \n",
       "2      ARDS       3      ROSE   \n",
       "3      ARDS       4      ROSE   \n",
       "4      ARDS       5     FACTT   \n",
       "\n",
       "                                            Question  \\\n",
       "0  Does early administration of neuromuscular blo...   \n",
       "1  Do patients with severe ARDS being treated wit...   \n",
       "2  In patients with moderate to severe ARDS, does...   \n",
       "3  Do patients with moderate-to-severe ARDS have ...   \n",
       "4  Among patients with ALI/ARDS, does a conservat...   \n",
       "\n",
       "                                       Mahmud's Note status  \\\n",
       "0                                               Like          \n",
       "1                                            Replace  fixed   \n",
       "2  Maybe this question: In patients with moderate...  fixed   \n",
       "3  Local question (not sure if this is the aim of...  fixed   \n",
       "4  Local question (not sure if this is the aim of...  fixed   \n",
       "\n",
       "                                            comments  \\\n",
       "0                                                      \n",
       "1                                                      \n",
       "2                                                      \n",
       "3  Wrong concept since PEEP by itself is mandator...   \n",
       "4  Check if studies defined conservative by CVP <...   \n",
       "\n",
       "                                                      \n",
       "0                                                     \n",
       "1                                                     \n",
       "2                                                     \n",
       "3  Does the use of neuromuscular blockers in pati...  \n",
       "4                                                     "
      ]
     },
     "execution_count": 4,
     "metadata": {},
     "output_type": "execute_result"
    }
   ],
   "source": [
    "spreadsheet = connect2Googlesheet()\n",
    "\n",
    "# Select the worksheet: relevance\n",
    "worksheet = spreadsheet.get_worksheet(2)\n",
    "\n",
    "# Get all records as a list of dictionaries\n",
    "data = worksheet.get_all_records()\n",
    "\n",
    "# Convert to Pandas DataFrame\n",
    "df_Paper = pd.DataFrame(data)\n",
    "df_Paper.head()"
   ]
  },
  {
   "cell_type": "markdown",
   "metadata": {},
   "source": [
    "## Step 2: Get the Chunks from Each Paper"
   ]
  },
  {
   "cell_type": "code",
   "execution_count": 5,
   "metadata": {},
   "outputs": [
    {
     "name": "stdout",
     "output_type": "stream",
     "text": [
      "Found 35 papers related to Sepsis:\n",
      "Number of unique paper names: 35\n",
      "Found 100 chunks in paper ADRENAL\n",
      "Found 100 chunks in paper ANNANE\n",
      "Found 98 chunks in paper APROCCHSS\n",
      "Found 99 chunks in paper CORTICUS\n",
      "Found 100 chunks in paper HEAT\n",
      "Found 100 chunks in paper PROWESS\n",
      "Found 100 chunks in paper ALBIOS\n",
      "Found 100 chunks in paper SAFE\n",
      "Found 99 chunks in paper ProMISe\n",
      "Found 100 chunks in paper PROWESS-SHOCK\n",
      "Found 0 chunks in paper DPSMVAS\n",
      "Found 100 chunks in paper NEvsVP\n",
      "Found 100 chunks in paper LOVIT\n",
      "Found 100 chunks in paper PLMALDHSS\n",
      "Found 100 chunks in paper SADASS\n",
      "Found 100 chunks in paper ULS\n",
      "Found 95 chunks in paper SS3vsSS2\n",
      "Found 100 chunks in paper EHPSS\n",
      "Found 100 chunks in paper FRESHS\n",
      "Found 100 chunks in paper NSS\n",
      "Found 100 chunks in paper SEPSISPAM\n",
      "Found 100 chunks in paper SOAP-II\n",
      "Found 100 chunks in paper TRISS\n",
      "Found 100 chunks in paper VASST\n",
      "Found 100 chunks in paper Rivers Trial\n",
      "Found 99 chunks in paper ProCESS\n",
      "Found 100 chunks in paper ARISE\n",
      "Found 100 chunks in paper HYPRESS\n",
      "Found 100 chunks in paper IDEAL-ICU\n",
      "Found 100 chunks in paper FEAST\n",
      "Found 100 chunks in paper NSEPSIS\n",
      "Found 100 chunks in paper UHSEPSIS\n",
      "Found 100 chunks in paper CABS\n",
      "Found 37 chunks in paper DDS\n",
      "Found 100 chunks in paper EDIS\n"
     ]
    }
   ],
   "source": [
    "# Filter papers with 'Sepsis' in condition\n",
    "sepsis_papers = df_Paper[\n",
    "    df_Paper[\"condition\"].str.contains(\"Sepsis\", case=False, na=False)\n",
    "]\n",
    "\n",
    "# Display the filtered papers\n",
    "print(f\"Found {len(sepsis_papers)} papers related to Sepsis:\")\n",
    "# display(sepsis_papers)\n",
    "\n",
    "# Get unique paper names\n",
    "sepsis_paper_names = sepsis_papers[\"docs\"].str.strip().unique()\n",
    "print(f\"Number of unique paper names: {len(sepsis_paper_names)}\")\n",
    "sepsis_papers_chunks = get_all_chunks_per_paper(graph, sepsis_paper_names)"
   ]
  },
  {
   "cell_type": "code",
   "execution_count": 6,
   "metadata": {},
   "outputs": [],
   "source": [
    "# # check if the expected number of papers match the actual number of papers\n",
    "# # Get list of expected papers\n",
    "# expected_papers = list(sepsis_papers_chunks.values())  # 딕셔너리의 값을 리스트로 변환\n",
    "\n",
    "# # Get list of actual papers from chunks_of_paper directory\n",
    "# actual_papers = [\n",
    "#     f.replace(\"chunks_of_\", \"\").replace(\".csv\", \"\")\n",
    "#     for f in os.listdir(\"./chunks_of_paper\")\n",
    "#     if f.endswith(\".csv\")\n",
    "# ]\n",
    "\n",
    "# # Find missing papers\n",
    "# missing_papers = set(expected_papers) - set(actual_papers)\n",
    "\n",
    "# print(\"Missing papers:\")\n",
    "# for paper in missing_papers:\n",
    "#     print(f\"- {paper}\")"
   ]
  },
  {
   "cell_type": "markdown",
   "metadata": {},
   "source": [
    "## Step 3: Compare Question Embedding and Paper Chunk Embeddings"
   ]
  },
  {
   "cell_type": "code",
   "execution_count": 42,
   "metadata": {},
   "outputs": [
    {
     "name": "stdout",
     "output_type": "stream",
     "text": [
      "Question 1: Does early administration of neuromuscular blocking agents increases the ventilator free days?\n",
      "\n",
      "Paper 1: ADRENAL\n"
     ]
    },
    {
     "data": {
      "text/plain": [
       "'No, the text chunks do not directly address the question about the effect of early administration of neuromuscular blocking agents on ventilator-free days.'"
      ]
     },
     "metadata": {},
     "output_type": "display_data"
    },
    {
     "name": "stdout",
     "output_type": "stream",
     "text": [
      "\n",
      "Paper 2: ANNANE\n"
     ]
    },
    {
     "data": {
      "text/plain": [
       "'No, the question does not have relevance to the provided text chunks.'"
      ]
     },
     "metadata": {},
     "output_type": "display_data"
    },
    {
     "name": "stdout",
     "output_type": "stream",
     "text": [
      "\n",
      "Paper 3: APROCCHSS\n"
     ]
    },
    {
     "data": {
      "text/plain": [
       "'No, the text chunks do not address the effect of neuromuscular blocking agents on ventilator-free days.'"
      ]
     },
     "metadata": {},
     "output_type": "display_data"
    },
    {
     "name": "stdout",
     "output_type": "stream",
     "text": [
      "\n",
      "Paper 4: CORTICUS\n"
     ]
    },
    {
     "data": {
      "text/plain": [
       "'No, the text chunks do not provide information relevant to the question about early administration of neuromuscular blocking agents and ventilator-free days.'"
      ]
     },
     "metadata": {},
     "output_type": "display_data"
    },
    {
     "name": "stdout",
     "output_type": "stream",
     "text": [
      "\n",
      "Paper 5: HEAT\n"
     ]
    },
    {
     "data": {
      "text/plain": [
       "'Yes, the question is relevant as it pertains to ventilator-free days, which are mentioned in the text chunks discussing outcomes related to mechanical ventilation.'"
      ]
     },
     "metadata": {},
     "output_type": "display_data"
    },
    {
     "name": "stdout",
     "output_type": "stream",
     "text": [
      "\n",
      "Paper 6: PROWESS\n"
     ]
    },
    {
     "data": {
      "text/plain": [
       "'No, the text chunks do not provide relevant information regarding the effects of early administration of neuromuscular blocking agents on ventilator-free days.'"
      ]
     },
     "metadata": {},
     "output_type": "display_data"
    },
    {
     "name": "stdout",
     "output_type": "stream",
     "text": [
      "\n",
      "Paper 7: ALBIOS\n"
     ]
    },
    {
     "data": {
      "text/plain": [
       "'No, the text chunks do not contain relevant information regarding the effect of early administration of neuromuscular blocking agents on ventilator-free days.'"
      ]
     },
     "metadata": {},
     "output_type": "display_data"
    },
    {
     "name": "stdout",
     "output_type": "stream",
     "text": [
      "\n",
      "Paper 8: SAFE\n"
     ]
    },
    {
     "data": {
      "text/plain": [
       "'No, the question about neuromuscular blocking agents and ventilator-free days is not relevant to the provided text chunks, which focus on fluid administration and its effects in a clinical setting.'"
      ]
     },
     "metadata": {},
     "output_type": "display_data"
    },
    {
     "name": "stdout",
     "output_type": "stream",
     "text": [
      "\n",
      "Paper 9: ProMISe\n"
     ]
    },
    {
     "data": {
      "text/plain": [
       "'No, the text chunks do not provide relevant information regarding the effect of early administration of neuromuscular blocking agents on ventilator-free days.'"
      ]
     },
     "metadata": {},
     "output_type": "display_data"
    },
    {
     "name": "stdout",
     "output_type": "stream",
     "text": [
      "\n",
      "Paper 10: PROWESS-SHOCK\n"
     ]
    },
    {
     "data": {
      "text/plain": [
       "'No, the text chunks do not provide relevant information regarding the effect of early administration of neuromuscular blocking agents on ventilator-free days.'"
      ]
     },
     "metadata": {},
     "output_type": "display_data"
    },
    {
     "name": "stdout",
     "output_type": "stream",
     "text": [
      "\n",
      "Paper 11: DPSMVAS\n",
      "No chunk data found for paper: DPSMVAS\n"
     ]
    },
    {
     "data": {
      "text/plain": [
       "'No, the question does not have relevant text chunks provided for context.'"
      ]
     },
     "metadata": {},
     "output_type": "display_data"
    },
    {
     "name": "stdout",
     "output_type": "stream",
     "text": [
      "\n",
      "Paper 12: NEvsVP\n"
     ]
    },
    {
     "data": {
      "text/plain": [
       "'No, the question about neuromuscular blocking agents and ventilator-free days does not have relevance to the provided text chunks, which primarily focus on vasopressor management in septic shock.'"
      ]
     },
     "metadata": {},
     "output_type": "display_data"
    },
    {
     "name": "stdout",
     "output_type": "stream",
     "text": [
      "\n",
      "Paper 13: LOVIT\n"
     ]
    },
    {
     "data": {
      "text/plain": [
       "'No, the provided text chunks do not address the influence of early administration of neuromuscular blocking agents on ventilator-free days.'"
      ]
     },
     "metadata": {},
     "output_type": "display_data"
    },
    {
     "name": "stdout",
     "output_type": "stream",
     "text": [
      "\n",
      "Paper 14: PLMALDHSS\n"
     ]
    },
    {
     "data": {
      "text/plain": [
       "'No, the question does not have relevance to the text chunks provided. The text discusses the effects of glucocorticoids, vasopressor treatment, and mechanical ventilation but does not specifically address neuromuscular blocking agents or their impact on ventilator-free days.'"
      ]
     },
     "metadata": {},
     "output_type": "display_data"
    },
    {
     "name": "stdout",
     "output_type": "stream",
     "text": [
      "\n",
      "Paper 15: SADASS\n"
     ]
    },
    {
     "data": {
      "text/plain": [
       "'No, the question about neuromuscular blocking agents and ventilator-free days is not relevant to the provided text chunks, which discuss drotrecogin alfa and its effects on mortality and sepsis treatment.'"
      ]
     },
     "metadata": {},
     "output_type": "display_data"
    },
    {
     "name": "stdout",
     "output_type": "stream",
     "text": [
      "\n",
      "Paper 16: ULS\n"
     ]
    },
    {
     "data": {
      "text/plain": [
       "'No, the question does not have relevance to the provided text chunks.'"
      ]
     },
     "metadata": {},
     "output_type": "display_data"
    },
    {
     "name": "stdout",
     "output_type": "stream",
     "text": [
      "\n",
      "Paper 17: SS3vsSS2\n"
     ]
    },
    {
     "data": {
      "text/plain": [
       "'No, the question does not have relevance to the provided text chunks. They discuss septic shock and related treatments, but do not mention neuromuscular blocking agents or ventilator-free days.'"
      ]
     },
     "metadata": {},
     "output_type": "display_data"
    },
    {
     "name": "stdout",
     "output_type": "stream",
     "text": [
      "\n",
      "Paper 18: EHPSS\n"
     ]
    },
    {
     "data": {
      "text/plain": [
       "'No, the question about neuromuscular blocking agents and ventilator-free days is not relevant to the provided text chunks.'"
      ]
     },
     "metadata": {},
     "output_type": "display_data"
    },
    {
     "name": "stdout",
     "output_type": "stream",
     "text": [
      "\n",
      "Paper 19: FRESHS\n"
     ]
    },
    {
     "data": {
      "text/plain": [
       "'Yes, the question is relevant as it involves the effects of neuromuscular blocking agents, which may relate to mechanical ventilation and ventilator-free days, but the provided text chunks do not mention neuromuscular blocking agents or their effects.'"
      ]
     },
     "metadata": {},
     "output_type": "display_data"
    },
    {
     "name": "stdout",
     "output_type": "stream",
     "text": [
      "\n",
      "Paper 20: NSS\n"
     ]
    },
    {
     "data": {
      "text/plain": [
       "'No, the question does not have relevance to the provided text chunks. The text focuses on vasopressors and their effects, without mentioning neuromuscular blocking agents or ventilator-free days.'"
      ]
     },
     "metadata": {},
     "output_type": "display_data"
    },
    {
     "name": "stdout",
     "output_type": "stream",
     "text": [
      "\n",
      "Paper 21: SEPSISPAM\n"
     ]
    },
    {
     "data": {
      "text/plain": [
       "'No, the text chunks do not relate to the question about neuromuscular blocking agents and ventilator-free days.'"
      ]
     },
     "metadata": {},
     "output_type": "display_data"
    },
    {
     "name": "stdout",
     "output_type": "stream",
     "text": [
      "\n",
      "Paper 22: SOAP-II\n"
     ]
    },
    {
     "data": {
      "text/plain": [
       "'No, the text chunks do not provide relevant information regarding the early administration of neuromuscular blocking agents and its effect on ventilator-free days.'"
      ]
     },
     "metadata": {},
     "output_type": "display_data"
    },
    {
     "name": "stdout",
     "output_type": "stream",
     "text": [
      "\n",
      "Paper 23: TRISS\n"
     ]
    },
    {
     "data": {
      "text/plain": [
       "'No, the question does not have relevance to the provided text chunks.'"
      ]
     },
     "metadata": {},
     "output_type": "display_data"
    },
    {
     "name": "stdout",
     "output_type": "stream",
     "text": [
      "\n",
      "Paper 24: VASST\n"
     ]
    },
    {
     "data": {
      "text/plain": [
       "'No, the question about neuromuscular blocking agents and ventilator-free days has no relevance to the provided text chunks, which focus on the use of vasopressin versus norepinephrine in septic shock.'"
      ]
     },
     "metadata": {},
     "output_type": "display_data"
    },
    {
     "name": "stdout",
     "output_type": "stream",
     "text": [
      "\n",
      "Paper 25: Rivers Trial\n"
     ]
    },
    {
     "data": {
      "text/plain": [
       "'No, the question about neuromuscular blocking agents does not have relevance to the provided text chunks, which mainly discuss goal-directed therapy in severe sepsis and septic shock.'"
      ]
     },
     "metadata": {},
     "output_type": "display_data"
    },
    {
     "name": "stdout",
     "output_type": "stream",
     "text": [
      "\n",
      "Paper 26: ProCESS\n"
     ]
    },
    {
     "data": {
      "text/plain": [
       "'No, the question does not have relevance to the text chunks provided.'"
      ]
     },
     "metadata": {},
     "output_type": "display_data"
    },
    {
     "name": "stdout",
     "output_type": "stream",
     "text": [
      "\n",
      "Paper 27: ARISE\n"
     ]
    },
    {
     "data": {
      "text/plain": [
       "'No, the text chunks do not address the question regarding the early administration of neuromuscular blocking agents and ventilator-free days.'"
      ]
     },
     "metadata": {},
     "output_type": "display_data"
    },
    {
     "name": "stdout",
     "output_type": "stream",
     "text": [
      "\n",
      "Paper 28: HYPRESS\n"
     ]
    },
    {
     "data": {
      "text/plain": [
       "'No, the text chunks do not directly address the question regarding the early administration of neuromuscular blocking agents and its effect on ventilator-free days.'"
      ]
     },
     "metadata": {},
     "output_type": "display_data"
    },
    {
     "name": "stdout",
     "output_type": "stream",
     "text": [
      "\n",
      "Paper 29: IDEAL-ICU\n"
     ]
    },
    {
     "data": {
      "text/plain": [
       "'Yes, the question has relevance as it pertains to the outcomes discussed in the text chunks, specifically regarding mechanical ventilation days and ICU stays.'"
      ]
     },
     "metadata": {},
     "output_type": "display_data"
    },
    {
     "name": "stdout",
     "output_type": "stream",
     "text": [
      "\n",
      "Paper 30: FEAST\n"
     ]
    },
    {
     "data": {
      "text/plain": [
       "'No, the question does not have relevance to the provided text chunks.'"
      ]
     },
     "metadata": {},
     "output_type": "display_data"
    },
    {
     "name": "stdout",
     "output_type": "stream",
     "text": [
      "\n",
      "Paper 31: NSEPSIS\n"
     ]
    },
    {
     "data": {
      "text/plain": [
       "'No, the question does not have any relevance to the provided text chunks.'"
      ]
     },
     "metadata": {},
     "output_type": "display_data"
    },
    {
     "name": "stdout",
     "output_type": "stream",
     "text": [
      "\n",
      "Paper 32: UHSEPSIS\n"
     ]
    },
    {
     "data": {
      "text/plain": [
       "'No, the question does not have relevance to the text chunks provided.'"
      ]
     },
     "metadata": {},
     "output_type": "display_data"
    },
    {
     "name": "stdout",
     "output_type": "stream",
     "text": [
      "\n",
      "Paper 33: CABS\n"
     ]
    },
    {
     "data": {
      "text/plain": [
       "'No, the question does not have relevance to the provided text chunks.'"
      ]
     },
     "metadata": {},
     "output_type": "display_data"
    },
    {
     "name": "stdout",
     "output_type": "stream",
     "text": [
      "\n",
      "Paper 34: DDS\n"
     ]
    },
    {
     "data": {
      "text/plain": [
       "'No, the question does not have relevance to the text chunks provided. The text focuses on sedation and effects of dexmedetomidine without discussing neuromuscular blocking agents.'"
      ]
     },
     "metadata": {},
     "output_type": "display_data"
    },
    {
     "name": "stdout",
     "output_type": "stream",
     "text": [
      "\n",
      "Paper 35: EDIS\n"
     ]
    },
    {
     "data": {
      "text/plain": [
       "'No, the question does not have relevance to the text chunks provided.'"
      ]
     },
     "metadata": {},
     "output_type": "display_data"
    }
   ],
   "source": [
    "api_key = os.getenv(\"OPENAI_API_KEY\")\n",
    "if not api_key:\n",
    "    raise ValueError(\"OPENAI_API_KEY not found in .env file\")\n",
    "\n",
    "client = OpenAI(api_key=api_key)\n",
    "\n",
    "pd.set_option(\"display.max_colwidth\", None)\n",
    "pd.set_option(\"display.max_rows\", None)\n",
    "pd.set_option(\"display.max_columns\", None)\n",
    "\n",
    "idx = 0  # index of the question. Change this to test different questions\n",
    "test_question = df_Paper[\"Question\"].iloc[idx]\n",
    "print(f\"Question {idx+1}: {test_question}\")\n",
    "\n",
    "for i, paper in enumerate(sepsis_paper_names):\n",
    "    print(f\"\\nPaper {i+1}: {paper}\")\n",
    "    paper_name = str(paper)  # without .pdf extension\n",
    "    top5chunks = compare_embeddings(question=test_question, paper=paper_name, top_k=5)\n",
    "\n",
    "    prompt = (\n",
    "        f\"Does the following question have any relevance to the text chunks below? Keep your answer short\\n\\nQuestion: {test_question}\\n\\nText Chunks:\\n\"\n",
    "        + \"\\n\".join(\n",
    "            [f\"{i+1}. {text}\" for i, text in enumerate(top5chunks[\"chunk_text\"])]\n",
    "        )\n",
    "    )\n",
    "\n",
    "    try:\n",
    "        response = client.chat.completions.create(\n",
    "            model=\"gpt-4o-mini\",\n",
    "            messages=[{\"role\": \"user\", \"content\": prompt}],\n",
    "            max_tokens=200,\n",
    "        )\n",
    "    except Exception as e:\n",
    "        print(f\"Error: {e}\")\n",
    "        continue\n",
    "\n",
    "    output = response.choices[0].message.content.strip()\n",
    "    display(output)"
   ]
  }
 ],
 "metadata": {
  "kernelspec": {
   "display_name": ".venv",
   "language": "python",
   "name": "python3"
  },
  "language_info": {
   "codemirror_mode": {
    "name": "ipython",
    "version": 3
   },
   "file_extension": ".py",
   "mimetype": "text/x-python",
   "name": "python",
   "nbconvert_exporter": "python",
   "pygments_lexer": "ipython3",
   "version": "3.12.3"
  }
 },
 "nbformat": 4,
 "nbformat_minor": 2
}
