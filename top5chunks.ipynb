{
 "cells": [
  {
   "cell_type": "markdown",
   "metadata": {},
   "source": [
    "# Get the Top 5 Chunks to Check Paper's Stance"
   ]
  },
  {
   "cell_type": "markdown",
   "metadata": {},
   "source": [
    "## Step 0: Environment Setup"
   ]
  },
  {
   "cell_type": "code",
   "execution_count": 1,
   "metadata": {},
   "outputs": [
    {
     "data": {
      "text/plain": [
       "True"
      ]
     },
     "execution_count": 1,
     "metadata": {},
     "output_type": "execute_result"
    }
   ],
   "source": [
    "from dotenv import load_dotenv  # type: ignore\n",
    "import os\n",
    "from langchain_neo4j import Neo4jGraph  # type: ignore\n",
    "from libs import create_vector_index\n",
    "import pandas as pd  # type: ignore\n",
    "from conn import connect2Googlesheet\n",
    "from annolibs import get_all_chunks_per_paper, compare_embeddings\n",
    "from openai import OpenAI\n",
    "\n",
    "load_dotenv()"
   ]
  },
  {
   "cell_type": "code",
   "execution_count": 2,
   "metadata": {},
   "outputs": [
    {
     "name": "stdout",
     "output_type": "stream",
     "text": [
      "Connected to Neo4j database successfully.\n"
     ]
    }
   ],
   "source": [
    "# Connect to Neo4j database\n",
    "try:\n",
    "    graph = Neo4jGraph(\n",
    "        url=os.getenv(\"NEO4J_URL\"),\n",
    "        username=os.getenv(\"NEO4J_USERNAME\"),\n",
    "        password=os.getenv(\"NEO4J_PASSWORD\"),\n",
    "    )\n",
    "    print(\"Connected to Neo4j database successfully.\")\n",
    "except ValueError as e:\n",
    "    print(f\"Could not connect to Neo4j database: {e}\")"
   ]
  },
  {
   "cell_type": "code",
   "execution_count": 3,
   "metadata": {},
   "outputs": [],
   "source": [
    "# Check if the entities index exists\n",
    "index_name = \"entities\"\n",
    "query = \"SHOW INDEXES YIELD name, type WHERE type = 'VECTOR' AND name = $index_name\"\n",
    "\n",
    "result = graph.query(query, params={\"index_name\": index_name})\n",
    "if result:\n",
    "    print(\"The 'entities' index already exists.\")\n",
    "else:\n",
    "    create_vector_index(graph, \"entities\")"
   ]
  },
  {
   "cell_type": "markdown",
   "metadata": {},
   "source": [
    "## Step 1: Load Questions from Google Sheet"
   ]
  },
  {
   "cell_type": "code",
   "execution_count": 4,
   "metadata": {},
   "outputs": [
    {
     "data": {
      "text/html": [
       "<div>\n",
       "<style scoped>\n",
       "    .dataframe tbody tr th:only-of-type {\n",
       "        vertical-align: middle;\n",
       "    }\n",
       "\n",
       "    .dataframe tbody tr th {\n",
       "        vertical-align: top;\n",
       "    }\n",
       "\n",
       "    .dataframe thead th {\n",
       "        text-align: right;\n",
       "    }\n",
       "</style>\n",
       "<table border=\"1\" class=\"dataframe\">\n",
       "  <thead>\n",
       "    <tr style=\"text-align: right;\">\n",
       "      <th></th>\n",
       "      <th>condition</th>\n",
       "      <th>number</th>\n",
       "      <th>docs</th>\n",
       "      <th>Question</th>\n",
       "      <th>Mahmud's Note</th>\n",
       "      <th>status</th>\n",
       "      <th>comments</th>\n",
       "      <th></th>\n",
       "    </tr>\n",
       "  </thead>\n",
       "  <tbody>\n",
       "    <tr>\n",
       "      <th>0</th>\n",
       "      <td>ARDS</td>\n",
       "      <td>1</td>\n",
       "      <td>ACURASYS</td>\n",
       "      <td>Does early administration of neuromuscular blo...</td>\n",
       "      <td>Like</td>\n",
       "      <td></td>\n",
       "      <td></td>\n",
       "      <td></td>\n",
       "    </tr>\n",
       "    <tr>\n",
       "      <th>1</th>\n",
       "      <td>ARDS</td>\n",
       "      <td>2</td>\n",
       "      <td>ACURASYS</td>\n",
       "      <td>Do patients with severe ARDS being treated wit...</td>\n",
       "      <td>Replace</td>\n",
       "      <td>fixed</td>\n",
       "      <td></td>\n",
       "      <td></td>\n",
       "    </tr>\n",
       "    <tr>\n",
       "      <th>2</th>\n",
       "      <td>ARDS</td>\n",
       "      <td>3</td>\n",
       "      <td>ROSE</td>\n",
       "      <td>In patients with moderate to severe ARDS, does...</td>\n",
       "      <td>Maybe this question: In patients with moderate...</td>\n",
       "      <td>fixed</td>\n",
       "      <td></td>\n",
       "      <td></td>\n",
       "    </tr>\n",
       "    <tr>\n",
       "      <th>3</th>\n",
       "      <td>ARDS</td>\n",
       "      <td>4</td>\n",
       "      <td>ROSE</td>\n",
       "      <td>Do patients with moderate-to-severe ARDS have ...</td>\n",
       "      <td>Local question (not sure if this is the aim of...</td>\n",
       "      <td>fixed</td>\n",
       "      <td>Wrong concept since PEEP by itself is mandator...</td>\n",
       "      <td>Does the use of neuromuscular blockers in pati...</td>\n",
       "    </tr>\n",
       "    <tr>\n",
       "      <th>4</th>\n",
       "      <td>ARDS</td>\n",
       "      <td>5</td>\n",
       "      <td>FACTT</td>\n",
       "      <td>Among patients with ALI/ARDS, does a conservat...</td>\n",
       "      <td>Local question (not sure if this is the aim of...</td>\n",
       "      <td>fixed</td>\n",
       "      <td>Check if studies defined conservative by CVP &lt;...</td>\n",
       "      <td></td>\n",
       "    </tr>\n",
       "  </tbody>\n",
       "</table>\n",
       "</div>"
      ],
      "text/plain": [
       "  condition  number      docs  \\\n",
       "0      ARDS       1  ACURASYS   \n",
       "1      ARDS       2  ACURASYS   \n",
       "2      ARDS       3      ROSE   \n",
       "3      ARDS       4      ROSE   \n",
       "4      ARDS       5     FACTT   \n",
       "\n",
       "                                            Question  \\\n",
       "0  Does early administration of neuromuscular blo...   \n",
       "1  Do patients with severe ARDS being treated wit...   \n",
       "2  In patients with moderate to severe ARDS, does...   \n",
       "3  Do patients with moderate-to-severe ARDS have ...   \n",
       "4  Among patients with ALI/ARDS, does a conservat...   \n",
       "\n",
       "                                       Mahmud's Note status  \\\n",
       "0                                               Like          \n",
       "1                                            Replace  fixed   \n",
       "2  Maybe this question: In patients with moderate...  fixed   \n",
       "3  Local question (not sure if this is the aim of...  fixed   \n",
       "4  Local question (not sure if this is the aim of...  fixed   \n",
       "\n",
       "                                            comments  \\\n",
       "0                                                      \n",
       "1                                                      \n",
       "2                                                      \n",
       "3  Wrong concept since PEEP by itself is mandator...   \n",
       "4  Check if studies defined conservative by CVP <...   \n",
       "\n",
       "                                                      \n",
       "0                                                     \n",
       "1                                                     \n",
       "2                                                     \n",
       "3  Does the use of neuromuscular blockers in pati...  \n",
       "4                                                     "
      ]
     },
     "execution_count": 4,
     "metadata": {},
     "output_type": "execute_result"
    }
   ],
   "source": [
    "spreadsheet = connect2Googlesheet()\n",
    "\n",
    "# Select the worksheet: relevance\n",
    "worksheet = spreadsheet.get_worksheet(2)\n",
    "\n",
    "# Get all records as a list of dictionaries\n",
    "data = worksheet.get_all_records()\n",
    "\n",
    "# Convert to Pandas DataFrame\n",
    "df_Paper = pd.DataFrame(data)\n",
    "df_Paper.head()"
   ]
  },
  {
   "cell_type": "markdown",
   "metadata": {},
   "source": [
    "## Step 2: Get the Chunks from Each Paper"
   ]
  },
  {
   "cell_type": "code",
   "execution_count": 5,
   "metadata": {},
   "outputs": [
    {
     "name": "stdout",
     "output_type": "stream",
     "text": [
      "Found 35 papers related to Sepsis:\n",
      "Number of unique paper names: 35\n",
      "Found 100 chunks in paper ADRENAL\n",
      "Found 100 chunks in paper ANNANE\n",
      "Found 98 chunks in paper APROCCHSS\n",
      "Found 99 chunks in paper CORTICUS\n",
      "Found 100 chunks in paper HEAT\n",
      "Found 100 chunks in paper PROWESS\n",
      "Found 100 chunks in paper ALBIOS\n",
      "Found 100 chunks in paper SAFE\n",
      "Found 99 chunks in paper ProMISe\n",
      "Found 100 chunks in paper PROWESS-SHOCK\n",
      "Found 0 chunks in paper DPSMVAS\n",
      "Found 100 chunks in paper NEvsVP\n",
      "Found 100 chunks in paper LOVIT\n",
      "Found 100 chunks in paper PLMALDHSS\n",
      "Found 100 chunks in paper SADASS\n",
      "Found 100 chunks in paper ULS\n",
      "Found 95 chunks in paper SS3vsSS2\n",
      "Found 100 chunks in paper EHPSS\n",
      "Found 100 chunks in paper FRESHS\n",
      "Found 100 chunks in paper NSS\n",
      "Found 100 chunks in paper SEPSISPAM\n",
      "Found 100 chunks in paper SOAP-II\n",
      "Found 100 chunks in paper TRISS\n",
      "Found 100 chunks in paper VASST\n",
      "Found 100 chunks in paper Rivers Trial\n",
      "Found 99 chunks in paper ProCESS\n",
      "Found 100 chunks in paper ARISE\n",
      "Found 107 chunks in paper HYPRESS\n",
      "Found 100 chunks in paper IDEAL-ICU\n",
      "Found 100 chunks in paper FEAST\n",
      "Found 100 chunks in paper NSEPSIS\n",
      "Found 100 chunks in paper UHSEPSIS\n",
      "Found 100 chunks in paper CABS\n",
      "Found 37 chunks in paper DDS\n",
      "Found 100 chunks in paper EDIS\n"
     ]
    }
   ],
   "source": [
    "# Filter papers with 'Sepsis' in condition\n",
    "sepsis_papers = df_Paper[\n",
    "    df_Paper[\"condition\"].str.contains(\"Sepsis\", case=False, na=False)\n",
    "]\n",
    "\n",
    "# Display the filtered papers\n",
    "print(f\"Found {len(sepsis_papers)} papers related to Sepsis:\")\n",
    "# display(sepsis_papers)\n",
    "\n",
    "# Get unique paper names\n",
    "sepsis_paper_names = sepsis_papers[\"docs\"].str.strip().unique()\n",
    "print(f\"Number of unique paper names: {len(sepsis_paper_names)}\")\n",
    "sepsis_papers_chunks = get_all_chunks_per_paper(graph, sepsis_paper_names)"
   ]
  },
  {
   "cell_type": "code",
   "execution_count": 6,
   "metadata": {},
   "outputs": [],
   "source": [
    "# # check if the expected number of papers match the actual number of papers\n",
    "# # Get list of expected papers\n",
    "# expected_papers = list(sepsis_papers_chunks.values())  # 딕셔너리의 값을 리스트로 변환\n",
    "\n",
    "# # Get list of actual papers from chunks_of_paper directory\n",
    "# actual_papers = [\n",
    "#     f.replace(\"chunks_of_\", \"\").replace(\".csv\", \"\")\n",
    "#     for f in os.listdir(\"./chunks_of_paper\")\n",
    "#     if f.endswith(\".csv\")\n",
    "# ]\n",
    "\n",
    "# # Find missing papers\n",
    "# missing_papers = set(expected_papers) - set(actual_papers)\n",
    "\n",
    "# print(\"Missing papers:\")\n",
    "# for paper in missing_papers:\n",
    "#     print(f\"- {paper}\")"
   ]
  },
  {
   "cell_type": "markdown",
   "metadata": {},
   "source": [
    "## Step 3: Compare Question Embedding and Paper Chunk Embeddings"
   ]
  },
  {
   "cell_type": "code",
   "execution_count": 6,
   "metadata": {},
   "outputs": [
    {
     "name": "stdout",
     "output_type": "stream",
     "text": [
      "Question 11: Patients with septic shock undergoing mechanical ventilation, did continuous infusion of hydrocortisone result in lower 90-day mortality?\n"
     ]
    }
   ],
   "source": [
    "api_key = os.getenv(\"OPENAI_API_KEY\")\n",
    "if not api_key:\n",
    "    raise ValueError(\"OPENAI_API_KEY not found in .env file\")\n",
    "\n",
    "client = OpenAI(api_key=api_key)\n",
    "\n",
    "pd.set_option(\"display.max_colwidth\", None)\n",
    "pd.set_option(\"display.max_rows\", None)\n",
    "pd.set_option(\"display.max_columns\", None)\n",
    "\n",
    "idx = 10  # index of the question. Change this to test different questions\n",
    "test_question = df_Paper[\"Question\"].iloc[idx]\n",
    "print(f\"Question {idx+1}: {test_question}\")"
   ]
  },
  {
   "cell_type": "code",
   "execution_count": null,
   "metadata": {},
   "outputs": [],
   "source": [
    "# for i, paper in enumerate(sepsis_paper_names):\n",
    "#     print(f\"\\nPaper {i+1}: {paper}\")\n",
    "#     paper_name = str(paper)  # without .pdf extension\n",
    "#     top5chunks = compare_embeddings(question=test_question, paper=paper_name, top_k=5)\n",
    "\n",
    "#     prompt = (\n",
    "#         f\"Does the following question have any relevance to the text chunks below? Keep your answer short\\n\\nQuestion: {test_question}\\n\\nText Chunks:\\n\"\n",
    "#         + \"\\n\".join(\n",
    "#             [f\"{i+1}. {text}\" for i, text in enumerate(top5chunks[\"chunk_text\"])]\n",
    "#         )\n",
    "#     )\n",
    "\n",
    "#     try:\n",
    "#         response = client.chat.completions.create(\n",
    "#             model=\"gpt-4o-mini\",\n",
    "#             messages=[{\"role\": \"user\", \"content\": prompt}],\n",
    "#             max_tokens=200,\n",
    "#         )\n",
    "#     except Exception as e:\n",
    "#         print(f\"Error: {e}\")\n",
    "#         continue\n",
    "\n",
    "#     output = response.choices[0].message.content.strip()\n",
    "#     display(output)"
   ]
  },
  {
   "cell_type": "code",
   "execution_count": 8,
   "metadata": {},
   "outputs": [
    {
     "name": "stdout",
     "output_type": "stream",
     "text": [
      "\n",
      "Processing Paper: NEvsVP\n"
     ]
    },
    {
     "data": {
      "text/plain": [
       "'Yes, the question is relevant as it pertains to the investigation of treatment effects (specifically hydrocortisone) on mortality in patients with septic shock, which is a common theme in the provided text chunks discussing septic shock and treatment outcomes.'"
      ]
     },
     "metadata": {},
     "output_type": "display_data"
    }
   ],
   "source": [
    "# 특정 문서 선택 (예: 첫 번째 문서)\n",
    "paper_name = str(\n",
    "    sepsis_paper_names[11]\n",
    ")  # 첫 번째 문서를 선택, 원하는 인덱스로 변경 가능\n",
    "\n",
    "print(f\"\\nProcessing Paper: {paper_name}\")\n",
    "\n",
    "# 선택한 문서에 대한 top 5 chunks 가져오기\n",
    "top5chunks = compare_embeddings(question=test_question, paper=paper_name, top_k=5)\n",
    "\n",
    "# 프롬프트 생성\n",
    "prompt = (\n",
    "    f\"Does the following question have any relevance to the text chunks below? Keep your answer short\\n\\nQuestion: {test_question}\\n\\nText Chunks:\\n\"\n",
    "    + \"\\n\".join([f\"{i+1}. {text}\" for i, text in enumerate(top5chunks[\"chunk_text\"])])\n",
    ")\n",
    "\n",
    "# GPT-4o-mini에 요청\n",
    "try:\n",
    "    response = client.chat.completions.create(\n",
    "        model=\"gpt-4o-mini\",\n",
    "        messages=[{\"role\": \"user\", \"content\": prompt}],\n",
    "        max_tokens=200,\n",
    "    )\n",
    "except Exception as e:\n",
    "    print(f\"Error: {e}\")\n",
    "    response = None\n",
    "\n",
    "# 결과 출력\n",
    "if response:\n",
    "    output = response.choices[0].message.content.strip()\n",
    "    display(output)"
   ]
  },
  {
   "cell_type": "code",
   "execution_count": 9,
   "metadata": {},
   "outputs": [
    {
     "data": {
      "text/html": [
       "<div>\n",
       "<style scoped>\n",
       "    .dataframe tbody tr th:only-of-type {\n",
       "        vertical-align: middle;\n",
       "    }\n",
       "\n",
       "    .dataframe tbody tr th {\n",
       "        vertical-align: top;\n",
       "    }\n",
       "\n",
       "    .dataframe thead th {\n",
       "        text-align: right;\n",
       "    }\n",
       "</style>\n",
       "<table border=\"1\" class=\"dataframe\">\n",
       "  <thead>\n",
       "    <tr style=\"text-align: right;\">\n",
       "      <th></th>\n",
       "      <th>paper_name</th>\n",
       "      <th>position</th>\n",
       "      <th>chunk_text</th>\n",
       "      <th>similarity_score</th>\n",
       "    </tr>\n",
       "  </thead>\n",
       "  <tbody>\n",
       "    <tr>\n",
       "      <th>90</th>\n",
       "      <td>NEvsVP.pdf</td>\n",
       "      <td>91</td>\n",
       "      <td>, Cooper DJ, Holmes CL, Mehta S, Granton JT, Storms MM, et al.: Vasopressin versus norepinephrine infusion in patients with septic shock. N Engl J Med 358:877–887, 2008. 4. Levy MM, Evans LE, Rhodes A: The Surviving Sepsis Campaign Bundle: 2018 update. Intensive Care Med 44:925–928, 2018. 5. Bauer SR, Aloi JJ, Ahren</td>\n",
       "      <td>0.6554</td>\n",
       "    </tr>\n",
       "    <tr>\n",
       "      <th>40</th>\n",
       "      <td>NEvsVP.pdf</td>\n",
       "      <td>41</td>\n",
       "      <td>Copyright © 2019 by the Shock Society. Unauthorized reproduction of this article is prohibited. We compared the effect of the discontinuation order on mortality in septic shock and detected no significant difference in either overall mortality or ICU mortality between the two groups (OR 1.28, 95% CI 0.77 to 2.10, P ¼ 0.34; OR 0.99, 95% CI 0.74 to 1.34, P ¼ 0.96) (Fig. 3</td>\n",
       "      <td>0.6330</td>\n",
       "    </tr>\n",
       "    <tr>\n",
       "      <th>81</th>\n",
       "      <td>NEvsVP.pdf</td>\n",
       "      <td>82</td>\n",
       "      <td>a less severe septic shock (3, 31). In a subgroup analysis, we divided the studies into two subgroups according to a predefined corticosteroids usage rate of 75%. A higher incidence of hypotension was observed when VP was discon- tinued first in studies in which patients received corticosteroid therapy percentage below 75%. It is worth noting that only the study by Jeon et al. (7) indicated that patients for whom NE was discontinued first were more likely</td>\n",
       "      <td>0.6260</td>\n",
       "    </tr>\n",
       "    <tr>\n",
       "      <th>64</th>\n",
       "      <td>NEvsVP.pdf</td>\n",
       "      <td>65</td>\n",
       "      <td>the critically ill. Accumulated evidence dem- onstrates that targeting and maintaining the goal MAP along with the early initiation of vasoactive agents in patients with septic shock is associated with reduced mortality rates (14, 15). FIG. 3. The effect of different vasopressor discontinuation order on overall mortality (A) and ICU mortality (B) in patients with septic shock. CI indicates confidence interval; DC, discontinued; M-H, Mantel-Haenszel</td>\n",
       "      <td>0.6175</td>\n",
       "    </tr>\n",
       "    <tr>\n",
       "      <th>87</th>\n",
       "      <td>NEvsVP.pdf</td>\n",
       "      <td>88</td>\n",
       "      <td>not been associated with poor outcomes in septic shock patient who receives concomitant VP and NE therapy. The use of corticosteroids may mitigate this effect. However, the TSA indicated a lack of firm evidence for these results. A multicenter, prospective, RCT is warranted to con- firm these findings. REFERENCES 1. Singer M, Deutschman CS, Seymour CW, Shankar-Hari M, Annane D, Bauer M, Bellomo R, Bernard</td>\n",
       "      <td>0.6169</td>\n",
       "    </tr>\n",
       "  </tbody>\n",
       "</table>\n",
       "</div>"
      ],
      "text/plain": [
       "    paper_name  position  \\\n",
       "90  NEvsVP.pdf        91   \n",
       "40  NEvsVP.pdf        41   \n",
       "81  NEvsVP.pdf        82   \n",
       "64  NEvsVP.pdf        65   \n",
       "87  NEvsVP.pdf        88   \n",
       "\n",
       "                                                                                                                                                                                                                                                                                                                                                                                                                                                                      chunk_text  \\\n",
       "90                                                                                                                                                 , Cooper DJ, Holmes CL, Mehta S, Granton JT, Storms MM, et al.: Vasopressin versus norepinephrine infusion in patients with septic shock. N Engl J Med 358:877–887, 2008. 4. Levy MM, Evans LE, Rhodes A: The Surviving Sepsis Campaign Bundle: 2018 update. Intensive Care Med 44:925–928, 2018. 5. Bauer SR, Aloi JJ, Ahren   \n",
       "40                                                                                          Copyright © 2019 by the Shock Society. Unauthorized reproduction of this article is prohibited. We compared the effect of the discontinuation order on mortality in septic shock and detected no significant difference in either overall mortality or ICU mortality between the two groups (OR 1.28, 95% CI 0.77 to 2.10, P ¼ 0.34; OR 0.99, 95% CI 0.74 to 1.34, P ¼ 0.96) (Fig. 3   \n",
       "81   a less severe septic shock (3, 31). In a subgroup analysis, we divided the studies into two subgroups according to a predefined corticosteroids usage rate of 75%. A higher incidence of hypotension was observed when VP was discon- tinued first in studies in which patients received corticosteroid therapy percentage below 75%. It is worth noting that only the study by Jeon et al. (7) indicated that patients for whom NE was discontinued first were more likely   \n",
       "64          the critically ill. Accumulated evidence dem- onstrates that targeting and maintaining the goal MAP along with the early initiation of vasoactive agents in patients with septic shock is associated with reduced mortality rates (14, 15). FIG. 3. The effect of different vasopressor discontinuation order on overall mortality (A) and ICU mortality (B) in patients with septic shock. CI indicates confidence interval; DC, discontinued; M-H, Mantel-Haenszel   \n",
       "87                                                      not been associated with poor outcomes in septic shock patient who receives concomitant VP and NE therapy. The use of corticosteroids may mitigate this effect. However, the TSA indicated a lack of firm evidence for these results. A multicenter, prospective, RCT is warranted to con- firm these findings. REFERENCES 1. Singer M, Deutschman CS, Seymour CW, Shankar-Hari M, Annane D, Bauer M, Bellomo R, Bernard   \n",
       "\n",
       "    similarity_score  \n",
       "90            0.6554  \n",
       "40            0.6330  \n",
       "81            0.6260  \n",
       "64            0.6175  \n",
       "87            0.6169  "
      ]
     },
     "execution_count": 9,
     "metadata": {},
     "output_type": "execute_result"
    }
   ],
   "source": [
    "top5chunks"
   ]
  }
 ],
 "metadata": {
  "kernelspec": {
   "display_name": ".venv",
   "language": "python",
   "name": "python3"
  },
  "language_info": {
   "codemirror_mode": {
    "name": "ipython",
    "version": 3
   },
   "file_extension": ".py",
   "mimetype": "text/x-python",
   "name": "python",
   "nbconvert_exporter": "python",
   "pygments_lexer": "ipython3",
   "version": "3.12.3"
  }
 },
 "nbformat": 4,
 "nbformat_minor": 2
}
