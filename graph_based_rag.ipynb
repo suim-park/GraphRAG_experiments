{
 "cells": [
  {
   "cell_type": "markdown",
   "metadata": {},
   "source": [
    "# **Knowledge Graph Visualization of GraphRAG Model**"
   ]
  },
  {
   "cell_type": "markdown",
   "metadata": {},
   "source": [
    "### Author: Bob Zhang\n",
    "### NetID: zz347\n",
    "### Department: MIDS, Duke University"
   ]
  },
  {
   "cell_type": "markdown",
   "metadata": {},
   "source": [
    "## **Introduction**"
   ]
  },
  {
   "cell_type": "markdown",
   "metadata": {},
   "source": [
    "The demand for transparency and trust in decision-making processes has become\n",
    "paramount. This is particularly critical in high-stakes domains such as **healthcare** and\n",
    "**critical care**, where AI-driven decisions directly impact patient outcomes. Recent AI\n",
    "models such as **GraphRAG** integrate powerful neural network architectures like\n",
    "transformers with graph-based retrieval and reasoning mechanisms. But the lack of\n",
    "inherent explainability raises concerns about how physicians and healthcare\n",
    "professionals can interpret its decisions.\n",
    "\n",
    "> This project aims to bridge this gap by enhancing the explainability of GraphRAG through the implementation of a visualization method that allows users to explore the underlying knowledge graph. By enabling interaction with the graph's entities and relationships, this approach provides insight into the model's retrieval mechanisms, fostering greater transparency and trust in its decision-making process."
   ]
  },
  {
   "cell_type": "markdown",
   "metadata": {},
   "source": [
    "## **Methodology**"
   ]
  },
  {
   "cell_type": "markdown",
   "metadata": {},
   "source": [
    "This project demonstrates the construction of GraphRAG from scratch, integrating a graph database powered by **Neo4j** and comparing model-generated answers with ground truth data. The methodology involves building the knowledge graph, implementing the retrieval mechanism, and evaluating the model's performance. The process utilizes **LangChain**, **LLM models (Llama 3.1 and GPT-4 Turbo)**, and **OpenAI’s text-embedding-3-large** for entity extraction and retrieval.\n",
    "\n",
    "---\n",
    "\n",
    "### **1. Building GraphRAG and Database Integration**\n",
    "\n",
    "- **Knowledge Graph Construction**:\n",
    "  - The knowledge graph is constructed using the **LangChain framework**, which facilitates the integration of large language models (LLMs) for entity and relationship extraction.\n",
    "  - **LLM Models**:\n",
    "    - **Llama 3.1** and **GPT-4 Turbo** are employed to extract entities and relationships from input text, enabling the creation of a robust graph structure.\n",
    "\n",
    "- **Database Configuration**:\n",
    "  - The extracted entities and relationships are stored in a **Neo4j graph database**.\n",
    "  - Neo4j can be deployed:\n",
    "    - **Using Docker**: Recommended for users who do not have Neo4j pre-installed on their desktop.\n",
    "    - **On Desktop**: For users with a local Neo4j setup.\n",
    "  - The graph database utilizes **Cypher query language**, similar to SQL in relational databases, to manage and retrieve data.\n",
    "\n",
    "---\n",
    "\n",
    "### **2. Enhancing Retrieval with Vector Indexing**\n",
    "\n",
    "- **Vectorization of Entities and Queries**:\n",
    "  - OpenAI’s **text-embedding-3-large** model is used to vectorize:\n",
    "    - Input queries.\n",
    "    - Extracted entities from the knowledge graph.\n",
    "  - This enables the construction of a **vector index** to enhance retrieval efficiency.\n",
    "\n",
    "- **Hybrid Retrieval Mechanism**:\n",
    "  - Combines graph-based retrieval using Cypher queries with vector similarity search to provide accurate and contextually relevant results.\n",
    "\n",
    "---\n",
    "\n",
    "### **3. Workflow Implementation**\n",
    "\n",
    "- **LangChain Workflow**:\n",
    "  - LangChain orchestrates the entity extraction, knowledge graph construction, and retrieval mechanism, seamlessly integrating LLMs and the Neo4j database.\n",
    "\n",
    "- **Model Querying and Evaluation**:\n",
    "  - Input queries are processed through GraphRAG, and the model retrieves information using the hybrid mechanism.\n",
    "  - The model-generated answers are compared to ground truth data to evaluate accuracy and reliability.\n",
    "\n",
    "---\n",
    "\n",
    "### **4. Tools and Frameworks**\n",
    "\n",
    "- **LangChain**: Provides the framework for knowledge graph creation and integration with LLMs.\n",
    "- **LLMs**:\n",
    "  - **Llama 3.1** and **GPT-4 Turbo** for entity and relationship extraction.\n",
    "- **Neo4j**: Graph database used for storing and querying structured relationships.\n",
    "  - Deployed via Docker container for accessibility.\n",
    "- **OpenAI text-embedding-3-large**: Used for vectorizing entities and input queries to build the vector index.\n",
    "\n",
    "---\n",
    "\n",
    "### **5. Neo4j Setup and Queries**\n",
    "\n",
    "- **Deployment Options**:\n",
    "  - **Docker Container**: Recommended due to ease of setup and portability.\n",
    "  - **Desktop**: For advanced users with Neo4j pre-installed.\n",
    "- **Cypher Query Language**:\n",
    "  - The inherent query language of Neo4j, used to interact with the graph database and retrieve nodes and relationships efficiently.\n"
   ]
  },
  {
   "cell_type": "markdown",
   "metadata": {},
   "source": [
    "### **Enviroment Setup**"
   ]
  },
  {
   "cell_type": "markdown",
   "metadata": {},
   "source": [
    "To ensure the project environment was properly configured, I installed all the required Python modules and packages necessary for implementing and testing the solution. The setup involved the use of several libraries from LangChain, Neo4j, and related ecosystems, along with utilities for handling embeddings, text processing, and graph-based operations. After installing these packages using pip, I verified their functionality by testing basic operations, such as connecting to the Neo4j database, loading documents, and running queries. This environment setup provides the foundational tools required for implementing the project's graph-based retrieval and reasoning workflows."
   ]
  },
  {
   "cell_type": "code",
   "execution_count": 3,
   "metadata": {},
   "outputs": [
    {
     "name": "stdout",
     "output_type": "stream",
     "text": [
      "Requirement already satisfied: pip in ./.venv/lib/python3.12/site-packages (25.0.1)\n",
      "Note: you may need to restart the kernel to use updated packages.\n",
      "Note: you may need to restart the kernel to use updated packages.\n"
     ]
    }
   ],
   "source": [
    "# %pip install --upgrade pip\n",
    "# %pip install --upgrade --quiet  langchain langchain-community langchain-ollama langchain-experimental neo4j tiktoken yfiles_jupyter_graphs python-dotenv json-repair langchain-openai langchain_core"
   ]
  },
  {
   "cell_type": "code",
   "execution_count": 4,
   "metadata": {},
   "outputs": [
    {
     "data": {
      "text/plain": [
       "True"
      ]
     },
     "execution_count": 4,
     "metadata": {},
     "output_type": "execute_result"
    }
   ],
   "source": [
    "from langchain_core.runnables import (\n",
    "    RunnablePassthrough,\n",
    ")  # For creating and managing runnable tasks\n",
    "from langchain_core.prompts import (\n",
    "    ChatPromptTemplate,\n",
    ")  # For managing chat-based prompt templates\n",
    "from pydantic import BaseModel, Field\n",
    "from langchain_core.output_parsers import (\n",
    "    StrOutputParser,\n",
    ")  # For parsing model outputs into structured formats\n",
    "from langchain_community.graphs import Neo4jGraph\n",
    "from neo4j import GraphDatabase\n",
    "from yfiles_jupyter_graphs import GraphWidget\n",
    "from langchain.text_splitter import TokenTextSplitter\n",
    "from langchain_ollama import ChatOllama\n",
    "from langchain_openai import ChatOpenAI\n",
    "from langchain.output_parsers import PydanticOutputParser\n",
    "from langchain_experimental.graph_transformers import LLMGraphTransformer\n",
    "from langchain_community.vectorstores import Neo4jVector\n",
    "from langchain_community.document_loaders import TextLoader\n",
    "from langchain_community.vectorstores.neo4j_vector import remove_lucene_chars\n",
    "\n",
    "\n",
    "# from langchain_ollama import OllamaEmbeddings\n",
    "from langchain_openai import OpenAIEmbeddings\n",
    "from dotenv import load_dotenv\n",
    "import os\n",
    "\n",
    "# Force reload of the .env file\n",
    "load_dotenv(override=True)"
   ]
  },
  {
   "cell_type": "markdown",
   "metadata": {},
   "source": [
    "### Initiate Neo4j Graph"
   ]
  },
  {
   "cell_type": "markdown",
   "metadata": {},
   "source": [
    "To enable seamless integration between the Neo4j graph database and the project, the graph connection was initialized using the Neo4jGraph class from the LangChain community module. The following code was used to establish the connection:"
   ]
  },
  {
   "cell_type": "code",
   "execution_count": 5,
   "metadata": {},
   "outputs": [
    {
     "name": "stderr",
     "output_type": "stream",
     "text": [
      "/var/folders/6s/3xxfn9n94l76v9fzq_1cwkf80000gn/T/ipykernel_21019/2338067899.py:1: LangChainDeprecationWarning: The class `Neo4jGraph` was deprecated in LangChain 0.3.8 and will be removed in 1.0. An updated version of the class exists in the :class:`~langchain-neo4j package and should be used instead. To use it run `pip install -U :class:`~langchain-neo4j` and import as `from :class:`~langchain_neo4j import Neo4jGraph``.\n",
      "  graph = Neo4jGraph(\n"
     ]
    }
   ],
   "source": [
    "graph = Neo4jGraph(\n",
    "    url=os.getenv(\"NEO4J_URL\"),\n",
    "    username=os.getenv(\"NEO4J_USERNAME\"),\n",
    "    password=os.getenv(\"NEO4J_PASSWORD\"),\n",
    ")"
   ]
  },
  {
   "cell_type": "markdown",
   "metadata": {},
   "source": [
    "Once the Neo4jGraph object is initialized, it creates a connection to the Neo4j database, allowing subsequent operations to interact with the graph.The graph object serves as the entry point for all interactions with the Neo4j database. It facilitates: \n",
    "- Running Cypher queries to retrieve or manipulate nodes and relationships.\n",
    "\n",
    "- Building and visualizing the knowledge graph by integrating it with other components of the LangChain framework.\n",
    "\n",
    "- Storing or retrieving entities and their relationships to enhance the explainability of GraphRAG's decision-making process."
   ]
  },
  {
   "cell_type": "markdown",
   "metadata": {},
   "source": [
    "# Documents indexation"
   ]
  },
  {
   "cell_type": "code",
   "execution_count": 6,
   "metadata": {},
   "outputs": [
    {
     "ename": "RuntimeError",
     "evalue": "Error loading dataset/ROSE.txt",
     "output_type": "error",
     "traceback": [
      "\u001b[0;31m---------------------------------------------------------------------------\u001b[0m",
      "\u001b[0;31mFileNotFoundError\u001b[0m                         Traceback (most recent call last)",
      "File \u001b[0;32m~/Downloads/25Spring/IDS 798 Capstone Project/Neo4j/GraphRAG_experiments/.venv/lib/python3.12/site-packages/langchain_community/document_loaders/text.py:42\u001b[0m, in \u001b[0;36mTextLoader.lazy_load\u001b[0;34m(self)\u001b[0m\n\u001b[1;32m     41\u001b[0m \u001b[38;5;28;01mtry\u001b[39;00m:\n\u001b[0;32m---> 42\u001b[0m     \u001b[38;5;28;01mwith\u001b[39;00m \u001b[38;5;28;43mopen\u001b[39;49m\u001b[43m(\u001b[49m\u001b[38;5;28;43mself\u001b[39;49m\u001b[38;5;241;43m.\u001b[39;49m\u001b[43mfile_path\u001b[49m\u001b[43m,\u001b[49m\u001b[43m \u001b[49m\u001b[43mencoding\u001b[49m\u001b[38;5;241;43m=\u001b[39;49m\u001b[38;5;28;43mself\u001b[39;49m\u001b[38;5;241;43m.\u001b[39;49m\u001b[43mencoding\u001b[49m\u001b[43m)\u001b[49m \u001b[38;5;28;01mas\u001b[39;00m f:\n\u001b[1;32m     43\u001b[0m         text \u001b[38;5;241m=\u001b[39m f\u001b[38;5;241m.\u001b[39mread()\n",
      "\u001b[0;31mFileNotFoundError\u001b[0m: [Errno 2] No such file or directory: 'dataset/ROSE.txt'",
      "\nThe above exception was the direct cause of the following exception:\n",
      "\u001b[0;31mRuntimeError\u001b[0m                              Traceback (most recent call last)",
      "Cell \u001b[0;32mIn[6], line 2\u001b[0m\n\u001b[1;32m      1\u001b[0m loader \u001b[38;5;241m=\u001b[39m TextLoader(file_path\u001b[38;5;241m=\u001b[39m\u001b[38;5;124m\"\u001b[39m\u001b[38;5;124mdataset/ROSE.txt\u001b[39m\u001b[38;5;124m\"\u001b[39m)\n\u001b[0;32m----> 2\u001b[0m docs \u001b[38;5;241m=\u001b[39m \u001b[43mloader\u001b[49m\u001b[38;5;241;43m.\u001b[39;49m\u001b[43mload\u001b[49m\u001b[43m(\u001b[49m\u001b[43m)\u001b[49m\n\u001b[1;32m      4\u001b[0m text_splitter \u001b[38;5;241m=\u001b[39m TokenTextSplitter(\n\u001b[1;32m      5\u001b[0m     chunk_size\u001b[38;5;241m=\u001b[39m\u001b[38;5;241m250\u001b[39m, chunk_overlap\u001b[38;5;241m=\u001b[39m\u001b[38;5;241m24\u001b[39m\n\u001b[1;32m      6\u001b[0m )  \u001b[38;5;66;03m# change chunk size and overlap to your needs\u001b[39;00m\n\u001b[1;32m      7\u001b[0m documents \u001b[38;5;241m=\u001b[39m text_splitter\u001b[38;5;241m.\u001b[39msplit_documents(documents\u001b[38;5;241m=\u001b[39mdocs)\n",
      "File \u001b[0;32m~/Downloads/25Spring/IDS 798 Capstone Project/Neo4j/GraphRAG_experiments/.venv/lib/python3.12/site-packages/langchain_core/document_loaders/base.py:31\u001b[0m, in \u001b[0;36mBaseLoader.load\u001b[0;34m(self)\u001b[0m\n\u001b[1;32m     29\u001b[0m \u001b[38;5;28;01mdef\u001b[39;00m\u001b[38;5;250m \u001b[39m\u001b[38;5;21mload\u001b[39m(\u001b[38;5;28mself\u001b[39m) \u001b[38;5;241m-\u001b[39m\u001b[38;5;241m>\u001b[39m \u001b[38;5;28mlist\u001b[39m[Document]:\n\u001b[1;32m     30\u001b[0m \u001b[38;5;250m    \u001b[39m\u001b[38;5;124;03m\"\"\"Load data into Document objects.\"\"\"\u001b[39;00m\n\u001b[0;32m---> 31\u001b[0m     \u001b[38;5;28;01mreturn\u001b[39;00m \u001b[38;5;28;43mlist\u001b[39;49m\u001b[43m(\u001b[49m\u001b[38;5;28;43mself\u001b[39;49m\u001b[38;5;241;43m.\u001b[39;49m\u001b[43mlazy_load\u001b[49m\u001b[43m(\u001b[49m\u001b[43m)\u001b[49m\u001b[43m)\u001b[49m\n",
      "File \u001b[0;32m~/Downloads/25Spring/IDS 798 Capstone Project/Neo4j/GraphRAG_experiments/.venv/lib/python3.12/site-packages/langchain_community/document_loaders/text.py:58\u001b[0m, in \u001b[0;36mTextLoader.lazy_load\u001b[0;34m(self)\u001b[0m\n\u001b[1;32m     56\u001b[0m         \u001b[38;5;28;01mraise\u001b[39;00m \u001b[38;5;167;01mRuntimeError\u001b[39;00m(\u001b[38;5;124mf\u001b[39m\u001b[38;5;124m\"\u001b[39m\u001b[38;5;124mError loading \u001b[39m\u001b[38;5;132;01m{\u001b[39;00m\u001b[38;5;28mself\u001b[39m\u001b[38;5;241m.\u001b[39mfile_path\u001b[38;5;132;01m}\u001b[39;00m\u001b[38;5;124m\"\u001b[39m) \u001b[38;5;28;01mfrom\u001b[39;00m\u001b[38;5;250m \u001b[39m\u001b[38;5;21;01me\u001b[39;00m\n\u001b[1;32m     57\u001b[0m \u001b[38;5;28;01mexcept\u001b[39;00m \u001b[38;5;167;01mException\u001b[39;00m \u001b[38;5;28;01mas\u001b[39;00m e:\n\u001b[0;32m---> 58\u001b[0m     \u001b[38;5;28;01mraise\u001b[39;00m \u001b[38;5;167;01mRuntimeError\u001b[39;00m(\u001b[38;5;124mf\u001b[39m\u001b[38;5;124m\"\u001b[39m\u001b[38;5;124mError loading \u001b[39m\u001b[38;5;132;01m{\u001b[39;00m\u001b[38;5;28mself\u001b[39m\u001b[38;5;241m.\u001b[39mfile_path\u001b[38;5;132;01m}\u001b[39;00m\u001b[38;5;124m\"\u001b[39m) \u001b[38;5;28;01mfrom\u001b[39;00m\u001b[38;5;250m \u001b[39m\u001b[38;5;21;01me\u001b[39;00m\n\u001b[1;32m     60\u001b[0m metadata \u001b[38;5;241m=\u001b[39m {\u001b[38;5;124m\"\u001b[39m\u001b[38;5;124msource\u001b[39m\u001b[38;5;124m\"\u001b[39m: \u001b[38;5;28mstr\u001b[39m(\u001b[38;5;28mself\u001b[39m\u001b[38;5;241m.\u001b[39mfile_path)}\n\u001b[1;32m     61\u001b[0m \u001b[38;5;28;01myield\u001b[39;00m Document(page_content\u001b[38;5;241m=\u001b[39mtext, metadata\u001b[38;5;241m=\u001b[39mmetadata)\n",
      "\u001b[0;31mRuntimeError\u001b[0m: Error loading dataset/ROSE.txt"
     ]
    }
   ],
   "source": [
    "loader = TextLoader(file_path=\"dataset/ROSE.txt\")\n",
    "docs = loader.load()\n",
    "\n",
    "text_splitter = TokenTextSplitter(\n",
    "    chunk_size=250, chunk_overlap=24\n",
    ")  # change chunk size and overlap to your needs\n",
    "documents = text_splitter.split_documents(documents=docs)\n",
    "print(len(documents))\n",
    "# print the type of documents\n",
    "print(type(documents))\n",
    "print(type(documents[0]))"
   ]
  },
  {
   "cell_type": "markdown",
   "metadata": {},
   "source": [
    "# Define LLM and Convert Docs to Graph using LLM Graph Transformer"
   ]
  },
  {
   "cell_type": "code",
   "execution_count": 10,
   "metadata": {},
   "outputs": [
    {
     "ename": "AttributeError",
     "evalue": "module 'openai' has no attribute 'OpenAI'",
     "output_type": "error",
     "traceback": [
      "\u001b[0;31m---------------------------------------------------------------------------\u001b[0m",
      "\u001b[0;31mAttributeError\u001b[0m                            Traceback (most recent call last)",
      "Cell \u001b[0;32mIn[10], line 5\u001b[0m\n\u001b[1;32m      3\u001b[0m     llm \u001b[38;5;241m=\u001b[39m ChatOllama(model\u001b[38;5;241m=\u001b[39m\u001b[38;5;124m\"\u001b[39m\u001b[38;5;124mllama3.1\u001b[39m\u001b[38;5;124m\"\u001b[39m, temperature\u001b[38;5;241m=\u001b[39m\u001b[38;5;241m0\u001b[39m, \u001b[38;5;28mformat\u001b[39m\u001b[38;5;241m=\u001b[39m\u001b[38;5;124m\"\u001b[39m\u001b[38;5;124mjson\u001b[39m\u001b[38;5;124m\"\u001b[39m)\n\u001b[1;32m      4\u001b[0m \u001b[38;5;28;01melse\u001b[39;00m:\n\u001b[0;32m----> 5\u001b[0m     llm \u001b[38;5;241m=\u001b[39m \u001b[43mChatOpenAI\u001b[49m\u001b[43m(\u001b[49m\u001b[43mmodel\u001b[49m\u001b[38;5;241;43m=\u001b[39;49m\u001b[38;5;124;43m\"\u001b[39;49m\u001b[38;5;124;43mgpt-4-turbo\u001b[39;49m\u001b[38;5;124;43m\"\u001b[39;49m\u001b[43m,\u001b[49m\u001b[43m \u001b[49m\u001b[43mtemperature\u001b[49m\u001b[38;5;241;43m=\u001b[39;49m\u001b[38;5;241;43m0\u001b[39;49m\u001b[43m)\u001b[49m\n\u001b[1;32m      7\u001b[0m llm_transformer \u001b[38;5;241m=\u001b[39m LLMGraphTransformer(llm\u001b[38;5;241m=\u001b[39mllm)\n\u001b[1;32m      8\u001b[0m llm_transformer\n",
      "File \u001b[0;32m~/Desktop/2024 Fall/XAI/AIPI-590---XAI-Final-Project/.venv/lib/python3.11/site-packages/langchain_core/load/serializable.py:125\u001b[0m, in \u001b[0;36mSerializable.__init__\u001b[0;34m(self, *args, **kwargs)\u001b[0m\n\u001b[1;32m    123\u001b[0m \u001b[38;5;28;01mdef\u001b[39;00m \u001b[38;5;21m__init__\u001b[39m(\u001b[38;5;28mself\u001b[39m, \u001b[38;5;241m*\u001b[39margs: Any, \u001b[38;5;241m*\u001b[39m\u001b[38;5;241m*\u001b[39mkwargs: Any) \u001b[38;5;241m-\u001b[39m\u001b[38;5;241m>\u001b[39m \u001b[38;5;28;01mNone\u001b[39;00m:\n\u001b[1;32m    124\u001b[0m \u001b[38;5;250m    \u001b[39m\u001b[38;5;124;03m\"\"\"\"\"\"\u001b[39;00m\n\u001b[0;32m--> 125\u001b[0m     \u001b[38;5;28;43msuper\u001b[39;49m\u001b[43m(\u001b[49m\u001b[43m)\u001b[49m\u001b[38;5;241;43m.\u001b[39;49m\u001b[38;5;21;43m__init__\u001b[39;49m\u001b[43m(\u001b[49m\u001b[38;5;241;43m*\u001b[39;49m\u001b[43margs\u001b[49m\u001b[43m,\u001b[49m\u001b[43m \u001b[49m\u001b[38;5;241;43m*\u001b[39;49m\u001b[38;5;241;43m*\u001b[39;49m\u001b[43mkwargs\u001b[49m\u001b[43m)\u001b[49m\n",
      "    \u001b[0;31m[... skipping hidden 1 frame]\u001b[0m\n",
      "File \u001b[0;32m~/Desktop/2024 Fall/XAI/AIPI-590---XAI-Final-Project/.venv/lib/python3.11/site-packages/langchain_openai/chat_models/base.py:551\u001b[0m, in \u001b[0;36mBaseChatOpenAI.validate_environment\u001b[0;34m(self)\u001b[0m\n\u001b[1;32m    549\u001b[0m         \u001b[38;5;28mself\u001b[39m\u001b[38;5;241m.\u001b[39mhttp_client \u001b[38;5;241m=\u001b[39m httpx\u001b[38;5;241m.\u001b[39mClient(proxy\u001b[38;5;241m=\u001b[39m\u001b[38;5;28mself\u001b[39m\u001b[38;5;241m.\u001b[39mopenai_proxy)\n\u001b[1;32m    550\u001b[0m     sync_specific \u001b[38;5;241m=\u001b[39m {\u001b[38;5;124m\"\u001b[39m\u001b[38;5;124mhttp_client\u001b[39m\u001b[38;5;124m\"\u001b[39m: \u001b[38;5;28mself\u001b[39m\u001b[38;5;241m.\u001b[39mhttp_client}\n\u001b[0;32m--> 551\u001b[0m     \u001b[38;5;28mself\u001b[39m\u001b[38;5;241m.\u001b[39mroot_client \u001b[38;5;241m=\u001b[39m \u001b[43mopenai\u001b[49m\u001b[38;5;241;43m.\u001b[39;49m\u001b[43mOpenAI\u001b[49m(\u001b[38;5;241m*\u001b[39m\u001b[38;5;241m*\u001b[39mclient_params, \u001b[38;5;241m*\u001b[39m\u001b[38;5;241m*\u001b[39msync_specific)  \u001b[38;5;66;03m# type: ignore[arg-type]\u001b[39;00m\n\u001b[1;32m    552\u001b[0m     \u001b[38;5;28mself\u001b[39m\u001b[38;5;241m.\u001b[39mclient \u001b[38;5;241m=\u001b[39m \u001b[38;5;28mself\u001b[39m\u001b[38;5;241m.\u001b[39mroot_client\u001b[38;5;241m.\u001b[39mchat\u001b[38;5;241m.\u001b[39mcompletions\n\u001b[1;32m    553\u001b[0m \u001b[38;5;28;01mif\u001b[39;00m \u001b[38;5;129;01mnot\u001b[39;00m \u001b[38;5;28mself\u001b[39m\u001b[38;5;241m.\u001b[39masync_client:\n",
      "\u001b[0;31mAttributeError\u001b[0m: module 'openai' has no attribute 'OpenAI'"
     ]
    }
   ],
   "source": [
    "llm_type = os.getenv(\"LLM_TYPE\", \"not ollama\")\n",
    "if llm_type == \"ollama\":\n",
    "    llm = ChatOllama(model=\"llama3.1\", temperature=0, format=\"json\")\n",
    "else:\n",
    "    llm = ChatOpenAI(model=\"gpt-4-turbo\", temperature=0)\n",
    "\n",
    "llm_transformer = LLMGraphTransformer(llm=llm)\n",
    "llm_transformer\n",
    "graph_documents = llm_transformer.convert_to_graph_documents(documents)"
   ]
  },
  {
   "cell_type": "code",
   "execution_count": 22,
   "metadata": {},
   "outputs": [
    {
     "data": {
      "text/plain": [
       "[GraphDocument(nodes=[Node(id='Acute Respiratory Distress Syndrome', type='Condition', properties={}), Node(id='Mechanical Ventilation', type='Treatment', properties={}), Node(id='Continuous Neuromuscular Blockade', type='Treatment', properties={}), Node(id='Cisatracurium', type='Substance', properties={}), Node(id='Deep Sedation', type='Treatment', properties={}), Node(id='Usual-Care Approach', type='Treatment', properties={}), Node(id='Lighter Sedation Targets', type='Treatment', properties={}), Node(id='High Peep', type='Treatment', properties={}), Node(id='In-Hospital Death', type='Outcome', properties={})], relationships=[Relationship(source=Node(id='Acute Respiratory Distress Syndrome', type='Condition', properties={}), target=Node(id='Mechanical Ventilation', type='Treatment', properties={}), type='TREATED_WITH', properties={}), Relationship(source=Node(id='Continuous Neuromuscular Blockade', type='Treatment', properties={}), target=Node(id='Cisatracurium', type='Substance', properties={}), type='INVOLVES', properties={}), Relationship(source=Node(id='Continuous Neuromuscular Blockade', type='Treatment', properties={}), target=Node(id='Deep Sedation', type='Treatment', properties={}), type='INVOLVES', properties={}), Relationship(source=Node(id='Usual-Care Approach', type='Treatment', properties={}), target=Node(id='Lighter Sedation Targets', type='Treatment', properties={}), type='INVOLVES', properties={}), Relationship(source=Node(id='Mechanical Ventilation', type='Treatment', properties={}), target=Node(id='High Peep', type='Treatment', properties={}), type='INVOLVES', properties={})], source=Document(metadata={'source': 'dataset/ROSE.txt'}, page_content='Abstract\\nBackground\\nThe benefits of early continuous neuromuscular blockade in patients with acute respiratory distress syndrome (ARDS) who are receiving mechanical ventilation remain unclear.\\nMethods\\nWe randomly assigned patients with moderate-to-severe ARDS (defined by a ratio of the partial pressure of arterial oxygen to the fraction of inspired oxygen of <150 mm Hg with a positive end-expiratory pressure [PEEP] of ≥8 cm of water) to a 48-hour continuous infusion of cisatracurium with concomitant deep sedation (intervention group) or to a usual-care approach without routine neuromuscular blockade and with lighter sedation targets (control group). The same mechanical-ventilation strategies were used in both groups, including a strategy involving a high PEEP. The primary end point was in-hospital death from any cause at 90 days.\\nResults\\nThe trial was stopped at the second interim analysis for futility. We enrolled 1006 patients early after the onset of moderate-to-severe ARDS (median, 7.6 hours after onset). During the first 48 hours after randomization, 488 of the 501 patients (97.4%) in the intervention group started a continuous')),\n",
       " GraphDocument(nodes=[Node(id='Intervention_Group', type='Group', properties={}), Node(id='Control_Group', type='Group', properties={}), Node(id='Cisatracurium', type='Substance', properties={}), Node(id='Neuromuscular_Blocking_Agent', type='Substance', properties={}), Node(id='Ards', type='Condition', properties={}), Node(id='Peep', type='Treatment', properties={})], relationships=[Relationship(source=Node(id='Intervention_Group', type='Group', properties={}), target=Node(id='Cisatracurium', type='Substance', properties={}), type='RECEIVED', properties={}), Relationship(source=Node(id='Control_Group', type='Group', properties={}), target=Node(id='Neuromuscular_Blocking_Agent', type='Substance', properties={}), type='RECEIVED', properties={}), Relationship(source=Node(id='Intervention_Group', type='Group', properties={}), target=Node(id='Control_Group', type='Group', properties={}), type='COMPARED_WITH', properties={}), Relationship(source=Node(id='Ards', type='Condition', properties={}), target=Node(id='Peep', type='Treatment', properties={}), type='TREATED_WITH', properties={})], source=Document(metadata={'source': 'dataset/ROSE.txt'}, page_content=' 48 hours after randomization, 488 of the 501 patients (97.4%) in the intervention group started a continuous infusion of cisatracurium (median duration of infusion, 47.8 hours; median dose, 1807 mg), and 86 of the 505 patients (17.0%) in the control group received a neuromuscular blocking agent (median dose, 38 mg). At 90 days, 213 patients (42.5%) in the intervention group and 216 (42.8%) in the control group had died before hospital discharge (between-group difference, −0.3 percentage points; 95% confidence interval, −6.4 to 5.9; P=0.93). While in the hospital, patients in the intervention group were less physically active and had more adverse cardiovascular events than patients in the control group. There were no consistent between-group differences in end points assessed at 3, 6, and 12 months.\\nConclusions\\nAmong patients with moderate-to-severe ARDS who were treated with a strategy involving a high PEEP, there was no significant difference in mortality at 90 days between patients who received an early and continuous cisatracurium infusion and those who were treated with a')),\n",
       " GraphDocument(nodes=[Node(id='Ards', type='Disease', properties={}), Node(id='Cisatracurium', type='Drug', properties={}), Node(id='National Heart, Lung, And Blood Institute', type='Organization', properties={}), Node(id='Rose Clinicaltrials.Gov', type='Clinical_trial', properties={}), Node(id='Nct02509078', type='Clinical_trial_number', properties={}), Node(id='Neuromuscular Blockade', type='Treatment', properties={}), Node(id='Neuromuscular Blocking Agents', type='Drug', properties={}), Node(id='Ards Et Curarisation Systematique', type='Clinical_trial', properties={})], relationships=[Relationship(source=Node(id='Rose Clinicaltrials.Gov', type='Clinical_trial', properties={}), target=Node(id='Nct02509078', type='Clinical_trial_number', properties={}), type='IDENTIFIED_BY', properties={}), Relationship(source=Node(id='Rose Clinicaltrials.Gov', type='Clinical_trial', properties={}), target=Node(id='National Heart, Lung, And Blood Institute', type='Organization', properties={}), type='FUNDED_BY', properties={}), Relationship(source=Node(id='Neuromuscular Blockade', type='Treatment', properties={}), target=Node(id='Ards', type='Disease', properties={}), type='USED_FOR', properties={})], source=Document(metadata={'source': 'dataset/ROSE.txt'}, page_content=' at 90 days between patients who received an early and continuous cisatracurium infusion and those who were treated with a usual-care approach with lighter sedation targets. (Funded by the National Heart, Lung, and Blood Institute; ROSE ClinicalTrials.gov number, NCT02509078.)\\n\\nQuick Take\\nInvestigating Neuromuscular Blockade for ARDS\\n1m 56s\\nThe acute respiratory distress syndrome (ARDS) is an inflammatory form of lung injury that results in respiratory failure with hypoxemia, decreased lung compliance, and bilateral alveolar opacities on chest imaging.1 It is well established that the approaches used for the application of mechanical ventilation in patients with ARDS can affect survival and outcomes after discharge from the intensive care unit (ICU). For example, neuromuscular blockade reduces patient–ventilator dyssynchrony, the work of breathing, and the accumulation of alveolar fluid; patients with ARDS could benefit from these outcomes.2 However, prolonged administration of neuromuscular blocking agents is associated with subsequent neuromuscular weakness.3,4 The largest multicenter trial to date (the ARDS et Curarisation Systematique [')),\n",
       " GraphDocument(nodes=[Node(id='Acurasys_Trial', type='Clinical_trial', properties={}), Node(id='Icu_Practices', type='Medical_practice', properties={}), Node(id='Neuromuscular_Blockade', type='Treatment', properties={}), Node(id='Deep_Sedation', type='Treatment', properties={}), Node(id='Ards', type='Medical_condition', properties={}), Node(id='Mortality', type='Outcome', properties={}), Node(id='Neuromuscular_Function', type='Medical_condition', properties={}), Node(id='Long-Term_Outcomes', type='Outcome', properties={})], relationships=[Relationship(source=Node(id='Acurasys_Trial', type='Clinical_trial', properties={}), target=Node(id='Icu_Practices', type='Medical_practice', properties={}), type='OBSOLETE', properties={}), Relationship(source=Node(id='Acurasys_Trial', type='Clinical_trial', properties={}), target=Node(id='Neuromuscular_Blockade', type='Treatment', properties={}), type='STUDIED', properties={}), Relationship(source=Node(id='Neuromuscular_Blockade', type='Treatment', properties={}), target=Node(id='Ards', type='Medical_condition', properties={}), type='TREATS', properties={}), Relationship(source=Node(id='Neuromuscular_Blockade', type='Treatment', properties={}), target=Node(id='Mortality', type='Outcome', properties={}), type='REDUCES', properties={}), Relationship(source=Node(id='Deep_Sedation', type='Treatment', properties={}), target=Node(id='Ards', type='Medical_condition', properties={}), type='TREATS', properties={}), Relationship(source=Node(id='Neuromuscular_Blockade', type='Treatment', properties={}), target=Node(id='Neuromuscular_Function', type='Medical_condition', properties={}), type='AFFECTS', properties={}), Relationship(source=Node(id='Neuromuscular_Blockade', type='Treatment', properties={}), target=Node(id='Long-Term_Outcomes', type='Outcome', properties={}), type='AFFECTS', properties={})], source=Document(metadata={'source': 'dataset/ROSE.txt'}, page_content=' weakness.3,4 The largest multicenter trial to date (the ARDS et Curarisation Systematique [ACURASYS] trial)5 was conducted a decade ago, and ICU practices have changed since then. The investigators of that trial reported that the early administration of a 48-hour infusion of neuromuscular blockade in patients with moderate-to-severe ARDS (defined by a ratio of the partial pressure of arterial oxygen [Pao2] to the fraction of inspired oxygen [Fio2] of <150 mm Hg with a positive end-expiratory pressure [PEEP] of ≥5 cm of water) resulted in lower mortality than a strategy of deep sedation without routine neuromuscular blockade.5 Despite these encouraging results, early neuromuscular blockade is not widely adopted and is only weakly recommended in current guidelines.6-9 Potential concerns include the lack of research comparing neuromuscular blockade and deep sedation with current practice (which promotes lighter sedation targets8,10–12) as well as limited data on the effect of neuromuscular blockade on neuromuscular function and other long-term outcomes.2,13 In addition, neurom')),\n",
       " GraphDocument(nodes=[Node(id='Neuromuscular Blockade', type='Concept', properties={}), Node(id='Deep Sedation', type='Concept', properties={}), Node(id='Negative Outcomes', type='Concept', properties={}), Node(id='Petal Clinical Trials Network', type='Organization', properties={}), Node(id='Nhlbi', type='Organization', properties={}), Node(id='Rose Trial', type='Event', properties={}), Node(id='Moderate-To-Severe Ards', type='Condition', properties={}), Node(id='Early Neuromuscular Blockade', type='Concept', properties={}), Node(id='Usual Care', type='Concept', properties={}), Node(id='Lighter Sedation Targets', type='Concept', properties={}), Node(id='All-Cause In-Hospital Mortality', type='Outcome', properties={}), Node(id='Acurasys Trial', type='Event', properties={}), Node(id='Cisatracurium', type='Substance', properties={})], relationships=[Relationship(source=Node(id='Neuromuscular Blockade', type='Concept', properties={}), target=Node(id='Deep Sedation', type='Concept', properties={}), type='REQUIRES', properties={}), Relationship(source=Node(id='Deep Sedation', type='Concept', properties={}), target=Node(id='Negative Outcomes', type='Concept', properties={}), type='RESULTS_IN', properties={}), Relationship(source=Node(id='Petal Clinical Trials Network', type='Organization', properties={}), target=Node(id='Nhlbi', type='Organization', properties={}), type='PART_OF', properties={}), Relationship(source=Node(id='Petal Clinical Trials Network', type='Organization', properties={}), target=Node(id='Rose Trial', type='Event', properties={}), type='CONDUCTED', properties={}), Relationship(source=Node(id='Rose Trial', type='Event', properties={}), target=Node(id='Moderate-To-Severe Ards', type='Condition', properties={}), type='INVOLVES', properties={}), Relationship(source=Node(id='Early Neuromuscular Blockade', type='Concept', properties={}), target=Node(id='Usual Care', type='Concept', properties={}), type='COMPARED_WITH', properties={}), Relationship(source=Node(id='Early Neuromuscular Blockade', type='Concept', properties={}), target=Node(id='All-Cause In-Hospital Mortality', type='Outcome', properties={}), type='AFFECTS', properties={}), Relationship(source=Node(id='Rose Trial', type='Event', properties={}), target=Node(id='Acurasys Trial', type='Event', properties={}), type='SIMILAR_TO', properties={}), Relationship(source=Node(id='Acurasys Trial', type='Event', properties={}), target=Node(id='Cisatracurium', type='Substance', properties={}), type='USES', properties={})], source=Document(metadata={'source': 'dataset/ROSE.txt'}, page_content='uscular blockade on neuromuscular function and other long-term outcomes.2,13 In addition, neuromuscular blockade requires deep sedation, which itself can result in negative outcomes.6,12,14\\nThe Prevention and Early Treatment of Acute Lung Injury (PETAL) Clinical Trials Network of the National Heart, Lung, and Blood Institute (NHLBI) conducted the Reevaluation of Systemic Early Neuromuscular Blockade (ROSE) trial — a multicenter, unblinded, randomized trial of patients with moderate-to-severe ARDS — to determine the efficacy and safety of early neuromuscular blockade with concomitant heavy sedation as compared with a strategy of usual care with lighter sedation targets. We hypothesized that the use of early neuromuscular blockade would result in lower all-cause in-hospital mortality at 90 days than usual care.\\nMethods\\nTrial Design and Oversight\\nWe designed the ROSE trial to be consistent with certain elements of the ACURASYS trial.5,15 Similarities included the use of the same neuromuscular blocking agent (cisatracurium) with the same dosing regimen and duration of treatment.')),\n",
       " GraphDocument(nodes=[Node(id='Cisatracurium', type='Substance', properties={}), Node(id='Control Group', type='Group', properties={}), Node(id='Mechanical Ventilation', type='Procedure', properties={}), Node(id='High Peep', type='Strategy', properties={}), Node(id='Conservative Fluid Strategy', type='Strategy', properties={}), Node(id='Nhlbi', type='Organization', properties={}), Node(id='Central Institutional Review Board', type='Organization', properties={}), Node(id='Data And Safety Monitoring Board', type='Organization', properties={}), Node(id='Coordinating Center', type='Organization', properties={}), Node(id='Protocol Committee', type='Organization', properties={}), Node(id='Patients', type='Group', properties={})], relationships=[Relationship(source=Node(id='Control Group', type='Group', properties={}), target=Node(id='Lighter Sedation Targets', type='Strategy', properties={}), type='USES', properties={}), Relationship(source=Node(id='Mechanical Ventilation', type='Procedure', properties={}), target=Node(id='High Peep', type='Strategy', properties={}), type='USES', properties={}), Relationship(source=Node(id='Mechanical Ventilation', type='Procedure', properties={}), target=Node(id='Conservative Fluid Strategy', type='Strategy', properties={}), type='RECOMMENDS', properties={}), Relationship(source=Node(id='Protocol Committee', type='Organization', properties={}), target=Node(id='First Draft', type='Document', properties={}), type='WROTE', properties={}), Relationship(source=Node(id='Patients', type='Group', properties={}), target=Node(id='Written Informed Consent', type='Document', properties={}), type='PROVIDED', properties={})], source=Document(metadata={'source': 'dataset/ROSE.txt'}, page_content='omuscular blocking agent (cisatracurium) with the same dosing regimen and duration of treatment. A key difference was our use of lighter sedation targets in the control group to be consistent with current practice recommendations.6,8,9 To minimize potentially confounding differences in the use of cointerventions, we specified the approach to mechanical ventilation in the protocol, including the use of a strategy involving a high PEEP, and we recommended the use of a conservative fluid strategy.16-18 To capture potential differences in late sequelae, assessors who were unaware of the group assignment interviewed surviving patients or their proxies at 3, 6, and 12 months after randomization. We published the protocol and submitted the statistical analysis plan (available with the full text of this article at NEJM.org) to the NHLBI before data analysis.15 A central institutional review board and a data and safety monitoring board appointed by the NHLBI provided oversight. Our coordinating center gathered and analyzed the data, and the protocol committee wrote the first draft of the manuscript. We vouch for the accuracy and completeness of the data and for the fidelity of the trial to the protocol. We obtained written informed consent from representatives of all patients.\\nPatients')),\n",
       " GraphDocument(nodes=[Node(id='Mechanical_Ventilation', type='Procedure', properties={}), Node(id='Endotracheal_Tube', type='Medical_device', properties={}), Node(id='Pao2:Fio2', type='Medical_condition', properties={}), Node(id='Peep', type='Medical_condition', properties={}), Node(id='Bilateral_Pulmonary_Opacities', type='Medical_condition', properties={}), Node(id='Chest_Radiography', type='Procedure', properties={}), Node(id='Computed_Tomography', type='Procedure', properties={}), Node(id='Arterial_Blood_Gas_Analysis', type='Procedure', properties={}), Node(id='Oxygen_Saturation', type='Medical_condition', properties={}), Node(id='Pulse_Oximetry', type='Procedure', properties={}), Node(id='Neuromuscular_Blockade', type='Treatment', properties={}), Node(id='Deep_Sedation', type='Treatment', properties={}), Node(id='Intervention_Group', type='Group', properties={})], relationships=[Relationship(source=Node(id='Mechanical_Ventilation', type='Procedure', properties={}), target=Node(id='Endotracheal_Tube', type='Medical_device', properties={}), type='USES', properties={}), Relationship(source=Node(id='Pao2:Fio2', type='Medical_condition', properties={}), target=Node(id='Peep', type='Medical_condition', properties={}), type='ASSOCIATED_WITH', properties={}), Relationship(source=Node(id='Bilateral_Pulmonary_Opacities', type='Medical_condition', properties={}), target=Node(id='Chest_Radiography', type='Procedure', properties={}), type='DETECTED_BY', properties={}), Relationship(source=Node(id='Bilateral_Pulmonary_Opacities', type='Medical_condition', properties={}), target=Node(id='Computed_Tomography', type='Procedure', properties={}), type='DETECTED_BY', properties={}), Relationship(source=Node(id='Oxygen_Saturation', type='Medical_condition', properties={}), target=Node(id='Pulse_Oximetry', type='Procedure', properties={}), type='MEASURED_BY', properties={}), Relationship(source=Node(id='Neuromuscular_Blockade', type='Treatment', properties={}), target=Node(id='Deep_Sedation', type='Treatment', properties={}), type='ACCOMPANIED_BY', properties={}), Relationship(source=Node(id='Intervention_Group', type='Group', properties={}), target=Node(id='Neuromuscular_Blockade', type='Treatment', properties={}), type='RECEIVES', properties={}), Relationship(source=Node(id='Intervention_Group', type='Group', properties={}), target=Node(id='Deep_Sedation', type='Treatment', properties={}), type='RECEIVES', properties={})], source=Document(metadata={'source': 'dataset/ROSE.txt'}, page_content=' for the fidelity of the trial to the protocol. We obtained written informed consent from representatives of all patients.\\nPatients\\nWe enrolled patients who were undergoing mechanical ventilation through an endotracheal tube and had the following criteria present for less than 48 hours: Pao2:Fio2 of less than 150 mm Hg with a PEEP of 8 cm or more of water; bilateral pulmonary opacities on chest radiography or on computed tomography that could not be explained by effusions, pulmonary collapse, or nodules; and respiratory failure that could not be explained by cardiac failure or fluid overload. If results of arterial blood gas analysis were unavailable, the Pao2 was inferred from the oxygen saturation as measured by pulse oximetry (Spo2) and was used to estimate the Pao2:Fio2 at a PEEP of 8 cm or more of water.19,20 A full list of exclusion criteria is provided in the Supplementary Methods section in the Supplementary Appendix, available at NEJM.org.\\nRandomization and Treatments\\nWe randomly assigned patients in a 1:1 ratio to receive 48 hours of continuous neuromuscular blockade with concomitant deep sedation (intervention group) or')),\n",
       " GraphDocument(nodes=[Node(id='Intervention_Group', type='Group', properties={}), Node(id='Control_Group', type='Group', properties={}), Node(id='Deep_Sedation', type='Treatment', properties={}), Node(id='Usual_Care', type='Treatment', properties={}), Node(id='Light_Sedation', type='Treatment', properties={}), Node(id='Cisatracurium', type='Drug', properties={}), Node(id='Neuromuscular_Blockade', type='Treatment', properties={}), Node(id='Acurasys_Trial', type='Trial', properties={}), Node(id='Richmond_Agitation–Sedation_Scale', type='Scale', properties={})], relationships=[Relationship(source=Node(id='Intervention_Group', type='Group', properties={}), target=Node(id='Deep_Sedation', type='Treatment', properties={}), type='RECEIVES', properties={}), Relationship(source=Node(id='Control_Group', type='Group', properties={}), target=Node(id='Usual_Care', type='Treatment', properties={}), type='RECEIVES', properties={}), Relationship(source=Node(id='Control_Group', type='Group', properties={}), target=Node(id='Light_Sedation', type='Treatment', properties={}), type='RECEIVES', properties={}), Relationship(source=Node(id='Intervention_Group', type='Group', properties={}), target=Node(id='Cisatracurium', type='Drug', properties={}), type='RECEIVES', properties={}), Relationship(source=Node(id='Intervention_Group', type='Group', properties={}), target=Node(id='Neuromuscular_Blockade', type='Treatment', properties={}), type='RECEIVES', properties={}), Relationship(source=Node(id='Neuromuscular_Blockade', type='Treatment', properties={}), target=Node(id='Acurasys_Trial', type='Trial', properties={}), type='USED_IN', properties={})], source=Document(metadata={'source': 'dataset/ROSE.txt'}, page_content=' to receive 48 hours of continuous neuromuscular blockade with concomitant deep sedation (intervention group) or to receive usual care without routine neuromuscular blockade and with lighter sedation targets (control group). Patients in the intervention group who were not under deep sedation at baseline were deeply sedated within 4 hours after randomization. Subsequently, patients in this group received an intravenous bolus of 15 mg of cisatracurium, followed by a continuous infusion of 37.5 mg per hour for 48 hours. Although treatment was not administered in a blinded manner, we chose not to adjust the dose of the neuromuscular blocking agent according to peripheral nerve stimulation both to replicate the dosing regimen used in the ACURASYS trial and to facilitate adherence to the trial protocol. Neuromuscular blockade could be stopped early if the patient met the criteria for freedom from mechanical ventilation (Fio2 ≤0.40 and PEEP ≤8 cm of water) for at least 12 hours. We recommended the use of light sedation in the control group. Light sedation was defined by a score on the Richmond Agitation–Sedation Scale of 0 or −1 (scores range from 4 [')),\n",
       " GraphDocument(nodes=[Node(id='Richmond Agitation–Sedation Scale', type='Scale', properties={}), Node(id='Riker Sedation–Agitation Scale', type='Scale', properties={}), Node(id='Ramsay Sedation Scale', type='Scale', properties={}), Node(id='Low Tidal Volume Ventilation', type='Medical procedure', properties={}), Node(id='High Peep Strategy', type='Medical procedure', properties={}), Node(id='Lower Peep', type='Medical procedure', properties={})], relationships=[Relationship(source=Node(id='Richmond Agitation–Sedation Scale', type='Scale', properties={}), target=Node(id='Riker Sedation–Agitation Scale', type='Scale', properties={}), type='RELATED', properties={}), Relationship(source=Node(id='Riker Sedation–Agitation Scale', type='Scale', properties={}), target=Node(id='Ramsay Sedation Scale', type='Scale', properties={}), type='RELATED', properties={}), Relationship(source=Node(id='Low Tidal Volume Ventilation', type='Medical procedure', properties={}), target=Node(id='High Peep Strategy', type='Medical procedure', properties={}), type='FOLLOWED_BY', properties={}), Relationship(source=Node(id='High Peep Strategy', type='Medical procedure', properties={}), target=Node(id='Lower Peep', type='Medical procedure', properties={}), type='FOLLOWED_BY', properties={})], source=Document(metadata={'source': 'dataset/ROSE.txt'}, page_content=' a score on the Richmond Agitation–Sedation Scale of 0 or −1 (scores range from 4 [combative] to −5 [unresponsive], with a score of 0 indicating that the patient is alert and calm), a score on the Riker Sedation–Agitation Scale of 3 or 4 (scores range from 1 [unresponsive] to 7 [dangerous agitation], with a score of 4 indicating that the patient is calm and cooperative), or a score on the Ramsay Sedation Scale of 2 or 3 (scores range from 1 [anxious, restless] to 6 [unresponsive], with a score of 2 indicating that the patient is cooperative and oriented).21-23\\nCommon Trial Procedures\\nAll patients were treated with a strategy of low tidal volume ventilation within 2 hours after randomization and a high PEEP strategy for up to 5 days after randomization.16,24,25 We allowed a lower PEEP if the clinician suspected that a higher PEEP worsened oxygenation, hypotension, high plateau pressures (>30 cm of water), or acidemia (pH <7.15) despite tidal-volume reductions, fluid boluses, or increases in respiratory rate. Lower PEEP was also')),\n",
       " GraphDocument(nodes=[Node(id='Peep', type='Concept', properties={}), Node(id='Pneumothorax', type='Condition', properties={}), Node(id='Barotrauma', type='Condition', properties={}), Node(id='Prone Positioning', type='Treatment', properties={}), Node(id='Clinician', type='Person', properties={}), Node(id='Ards', type='Condition', properties={}), Node(id='Neuromuscular Blockade', type='Treatment', properties={}), Node(id='Cisatracurium', type='Medication', properties={}), Node(id='In-Hospital Death', type='Outcome', properties={}), Node(id='Trial Hospital', type='Location', properties={}), Node(id='Long-Term Acute Care Facilities', type='Location', properties={})], relationships=[Relationship(source=Node(id='Peep', type='Concept', properties={}), target=Node(id='Pneumothorax', type='Condition', properties={}), type='ASSOCIATED_WITH', properties={}), Relationship(source=Node(id='Peep', type='Concept', properties={}), target=Node(id='Barotrauma', type='Condition', properties={}), type='ASSOCIATED_WITH', properties={}), Relationship(source=Node(id='Prone Positioning', type='Treatment', properties={}), target=Node(id='Clinician', type='Person', properties={}), type='DISCRETION_OF', properties={}), Relationship(source=Node(id='Prone Positioning', type='Treatment', properties={}), target=Node(id='Ards', type='Condition', properties={}), type='TREATMENT_FOR', properties={}), Relationship(source=Node(id='Neuromuscular Blockade', type='Treatment', properties={}), target=Node(id='Cisatracurium', type='Medication', properties={}), type='EQUIVALENT_TO', properties={}), Relationship(source=Node(id='In-Hospital Death', type='Outcome', properties={}), target=Node(id='Trial Hospital', type='Location', properties={}), type='LOCATION_OF', properties={}), Relationship(source=Node(id='In-Hospital Death', type='Outcome', properties={}), target=Node(id='Long-Term Acute Care Facilities', type='Location', properties={}), type='LOCATION_OF', properties={})], source=Document(metadata={'source': 'dataset/ROSE.txt'}, page_content='.15) despite tidal-volume reductions, fluid boluses, or increases in respiratory rate. Lower PEEP was also permitted if a pneumothorax developed or if the patient was at high risk for barotrauma. The use of prone positioning was at the discretion of the clinician, though we recommended that clinicians wait at least 12 hours after the onset of ARDS, as suggested by current evidence,26 and avoid the automatic use of neuromuscular blockade. We allowed an open-label intravenous bolus injection of 20 mg of cisatracurium in both groups if patients met prespecified criteria (see the Additional Methods section in the Supplementary Appendix). After the 48-hour trial intervention period, decisions regarding further use of neuromuscular blockade, including the choice of agent, were left to the discretion of the treating clinician. To facilitate comparison, we report all neuromuscular blockade use as the equivalent cisatracurium dose.27\\nEnd Points\\nThe primary end point was in-hospital death from any cause at 90 days (in-hospital was defined as the time in the trial hospital plus transfer to another hospital, including the time in long-term acute care facilities). Secondary end points')),\n",
       " GraphDocument(nodes=[Node(id='Trial_Hospital', type='Organization', properties={}), Node(id='Long-Term_Acute_Care_Facilities', type='Organization', properties={}), Node(id='Organ_Dysfunction', type='Condition', properties={}), Node(id='In-Hospital_Death', type='Event', properties={}), Node(id='Days_Free_Of_Organ_Dysfunction', type='Metric', properties={}), Node(id='Days_Not_In_Icu', type='Metric', properties={}), Node(id='Days_Free_Of_Mechanical_Ventilation', type='Metric', properties={}), Node(id='Days_Not_In_Hospital', type='Metric', properties={}), Node(id='Survival', type='Outcome', properties={}), Node(id='Disability', type='Condition', properties={}), Node(id='Health-Related_Quality_Of_Life', type='Metric', properties={}), Node(id='Patient-Reported_Health', type='Metric', properties={}), Node(id='Pain_Interference', type='Condition', properties={}), Node(id='Post-Traumatic_Stress_Symptoms', type='Condition', properties={}), Node(id='Cognitive_Function', type='Condition', properties={}), Node(id='Return_To_Work', type='Event', properties={}), Node(id='Recall_Of_Paralysis', type='Condition', properties={}), Node(id='Icu-Acquired_Weakness', type='Condition', properties={})], relationships=[Relationship(source=Node(id='Trial_Hospital', type='Organization', properties={}), target=Node(id='Long-Term_Acute_Care_Facilities', type='Organization', properties={}), type='TRANSFER', properties={})], source=Document(metadata={'source': 'dataset/ROSE.txt'}, page_content=' in the trial hospital plus transfer to another hospital, including the time in long-term acute care facilities). Secondary end points were organ dysfunction (as assessed on the basis of the Sequential Organ Failure [SOFA] score28; scores range from 0 to 4 for each of six organ systems, with higher scores indicating more severe organ dysfunction), in-hospital death at day 28, days free of organ dysfunction, days not in the ICU, days free of mechanical ventilation, and days not in the hospital at day 28. End points assessed at 3, 6, and 12 months were survival, disability, health-related quality of life, patient-reported health, pain interference, symptoms resembling those of post-traumatic stress, cognitive function, and return to work.29-33 Safety end points included recall of paralysis (assessed with the modified Brice questionnaire), ICU-acquired weakness up to day 28 (assessed with the Medical Research Council scale, which includes scores for muscle strength in 6 muscle groups on each side of the body, for a total of 12 muscle groups; the score for each muscle group can range from 0 [no movement observed] to 5 [the muscle contracts normally against full resistance], with the overall score ranging from')),\n",
       " GraphDocument(nodes=[Node(id='Icu Mobility Scale', type='Scale', properties={}), Node(id='New-Onset Atrial Fibrillation', type='Condition', properties={}), Node(id='Supraventricular Tachycardia', type='Condition', properties={}), Node(id='Barotrauma', type='Condition', properties={}), Node(id='Adverse Events', type='Condition', properties={}), Node(id='Intervention Group', type='Group', properties={}), Node(id='Control Group', type='Group', properties={}), Node(id='Trial Personnel', type='Group', properties={})], relationships=[], source=Document(metadata={'source': 'dataset/ROSE.txt'}, page_content=' from 0 [no movement observed] to 5 [the muscle contracts normally against full resistance], with the overall score ranging from 0 to 60), limitations on physical activity (assessed with the ICU Mobility Scale; scores range from 0 [no movement] to 10 [walking without aid]), new-onset atrial fibrillation or supraventricular tachycardia, barotrauma, and investigator-reported adverse events.34-38 We could not ensure that the in-hospital assessors of end points were unaware of treatment group, but all postdischarge end points were assessed by trial personnel who were unaware of the group assignment.\\nStatistical Analysis\\nUnder the assumption that 27% of patients in the intervention group and 35% in the control group would die, we calculated that 1408 patients would need to be enrolled to provide the trial with 90% power to reject the null hypothesis of no difference between the groups in treatment effect, at a two-sided alpha level of 0.05.5,25,39 The trial was designed to be stopped if superiority of either group was established using symmetric group sequential flexible stopping boundaries, with no stopping rule for futility.40 We compared the primary end point between groups with the')),\n",
       " GraphDocument(nodes=[Node(id='Sequential Flexible Stopping Boundaries', type='Concept', properties={}), Node(id='Wald Test', type='Concept', properties={}), Node(id='Ards', type='Condition', properties={}), Node(id='Pao2:Fio2 <120 Mm Hg', type='Condition', properties={}), Node(id='Pao2:Fio2 ≥120 Mm Hg', type='Condition', properties={}), Node(id='Duration Of Ards', type='Concept', properties={}), Node(id='Neuromuscular Blockade', type='Treatment', properties={}), Node(id='Generalized Linear Model', type='Concept', properties={}), Node(id='Binomial Distribution Function', type='Concept', properties={}), Node(id='Identity Link Function', type='Concept', properties={}), Node(id='Secondary End Points', type='Concept', properties={}), Node(id='Adverse Events', type='Concept', properties={}), Node(id='Weighted Poisson Regression', type='Concept', properties={})], relationships=[Relationship(source=Node(id='Wald Test', type='Concept', properties={}), target=Node(id='Ards', type='Condition', properties={}), type='USED_FOR', properties={}), Relationship(source=Node(id='Generalized Linear Model', type='Concept', properties={}), target=Node(id='Binomial Distribution Function', type='Concept', properties={}), type='USES', properties={}), Relationship(source=Node(id='Generalized Linear Model', type='Concept', properties={}), target=Node(id='Identity Link Function', type='Concept', properties={}), type='USES', properties={}), Relationship(source=Node(id='Weighted Poisson Regression', type='Concept', properties={}), target=Node(id='Adverse Events', type='Concept', properties={}), type='USED_FOR', properties={})], source=Document(metadata={'source': 'dataset/ROSE.txt'}, page_content=' sequential flexible stopping boundaries, with no stopping rule for futility.40 We compared the primary end point between groups with the use of a Wald test for the difference of two proportions. We performed prespecified analyses according to severity of ARDS (Pao2:Fio2 <120 mm Hg or ≥120 mm Hg) and duration of ARDS (a duration less than or greater than the median time from meeting inclusion criteria to randomization) as well as for the potential effect of excluding patients who had previously received neuromuscular blockade (hospitals were divided into terciles on the basis of their exclusion rate of patients who had previously received neuromuscular blockade). We also tested for interactions between treatment group and sex, race, and ethnic group. All treatment-by-subgroup interactions were analyzed on the risk difference scale with the use of a generalized linear model with a binomial distribution function and an identity link function. Secondary end points are reported with observed differences and 95% confidence intervals. Adverse events were compared between groups, with the event the unit of analysis and with the use of weighted Poisson regression; nonserious events were weighted by 1 and serious events were weighted by 2. Mortality at')),\n",
       " GraphDocument(nodes=[Node(id='Weighted Poisson Regression', type='Method', properties={}), Node(id='Nonserious Events', type='Event', properties={}), Node(id='Serious Events', type='Event', properties={}), Node(id='Mortality At 90 Days', type='Outcome', properties={}), Node(id='Mortality At 1 Year', type='Outcome', properties={}), Node(id='Z-Test', type='Method', properties={}), Node(id='Intention-To-Treat Principle', type='Principle', properties={}), Node(id='Sas Software, Version 9.4', type='Software', properties={}), Node(id='Sas Institute', type='Organization', properties={}), Node(id='January 2016 Through April 2018', type='Time period', properties={}), Node(id='4848 Patients', type='Group', properties={}), Node(id='48 Hospitals', type='Location', properties={}), Node(id='United States', type='Country', properties={}), Node(id='1006 Patients', type='Group', properties={}), Node(id='Data And Safety Monitoring Board', type='Organization', properties={}), Node(id='Nhlbi', type='Organization', properties={}), Node(id='Petal Steering Committee', type='Organization', properties={}), Node(id='Pao2:Fio2', type='Medical condition', properties={}), Node(id='Neuromuscular Blockade', type='Medical treatment', properties={})], relationships=[Relationship(source=Node(id='Nonserious Events', type='Event', properties={}), target=Node(id='Weighted Poisson Regression', type='Method', properties={}), type='USED_IN', properties={}), Relationship(source=Node(id='Serious Events', type='Event', properties={}), target=Node(id='Weighted Poisson Regression', type='Method', properties={}), type='USED_IN', properties={}), Relationship(source=Node(id='Mortality At 90 Days', type='Outcome', properties={}), target=Node(id='Z-Test', type='Method', properties={}), type='ANALYZED_BY', properties={}), Relationship(source=Node(id='Mortality At 1 Year', type='Outcome', properties={}), target=Node(id='Z-Test', type='Method', properties={}), type='ANALYZED_BY', properties={}), Relationship(source=Node(id='Sas Software, Version 9.4', type='Software', properties={}), target=Node(id='Sas Institute', type='Organization', properties={}), type='PRODUCED_BY', properties={}), Relationship(source=Node(id='4848 Patients', type='Group', properties={}), target=Node(id='48 Hospitals', type='Location', properties={}), type='SCREENED_AT', properties={}), Relationship(source=Node(id='48 Hospitals', type='Location', properties={}), target=Node(id='United States', type='Country', properties={}), type='LOCATED_IN', properties={}), Relationship(source=Node(id='1006 Patients', type='Group', properties={}), target=Node(id='Data And Safety Monitoring Board', type='Organization', properties={}), type='DECISION_MADE_BY', properties={}), Relationship(source=Node(id='Data And Safety Monitoring Board', type='Organization', properties={}), target=Node(id='Nhlbi', type='Organization', properties={}), type='DECISION_ENDORSED_BY', properties={}), Relationship(source=Node(id='Nhlbi', type='Organization', properties={}), target=Node(id='Petal Steering Committee', type='Organization', properties={}), type='DECISION_ACCEPTED_BY', properties={})], source=Document(metadata={'source': 'dataset/ROSE.txt'}, page_content=' weighted Poisson regression; nonserious events were weighted by 1 and serious events were weighted by 2. Mortality at 90 days and at 1 year was compared between the groups with the use of a z-test, which was based on the point estimates and standard errors of the within-group nonparametric interval-censored survival functions. All analyses were performed according to the intention-to-treat principle, without adjustment for multiple comparisons. Two-sided P values of less than 0.05 were considered to indicate statistical significance. Analyses were performed with SAS software, version 9.4 (SAS Institute).\\nResults\\nPatients\\nFrom January 2016 through April 2018, we screened 4848 patients at 48 hospitals across the United States, and 1006 patients were included in the primary analysis (Figure 1). After the second interim analysis, the decision to stop the trial for futility was made independently by the data and safety monitoring board; the decision was endorsed by the NHLBI and accepted by the PETAL steering committee. The most common reason for exclusion was improvement in the Pao2:Fio2 before enrollment (658 patients). The most common reason for exclusion after screening was the previous receipt of neuromuscular blockade (')),\n",
       " GraphDocument(nodes=[Node(id='Enrollment', type='Event', properties={}), Node(id='Neuromuscular_Blockade_Exclusion', type='Event', properties={}), Node(id='Intervention_Group', type='Group', properties={}), Node(id='Control_Group', type='Group', properties={}), Node(id='Cisatracurium_Infusion', type='Treatment', properties={})], relationships=[Relationship(source=Node(id='Neuromuscular_Blockade_Exclusion', type='Event', properties={}), target=Node(id='Enrollment', type='Event', properties={}), type='REASON_FOR_EXCLUSION', properties={}), Relationship(source=Node(id='Intervention_Group', type='Group', properties={}), target=Node(id='Enrollment', type='Event', properties={}), type='ASSIGNED', properties={}), Relationship(source=Node(id='Control_Group', type='Group', properties={}), target=Node(id='Enrollment', type='Event', properties={}), type='ASSIGNED', properties={}), Relationship(source=Node(id='Cisatracurium_Infusion', type='Treatment', properties={}), target=Node(id='Intervention_Group', type='Group', properties={}), type='ADMINISTERED_TO', properties={})], source=Document(metadata={'source': 'dataset/ROSE.txt'}, page_content=' enrollment (658 patients). The most common reason for exclusion after screening was the previous receipt of neuromuscular blockade (655 patients). Of the patients who were enrolled, 501 were randomly assigned to the intervention group, and 505 to the control group. Baseline characteristics were similar in the two groups (Table 1, and Table S1 in the Supplementary Appendix). Patients were enrolled a median of 7.6 hours (interquartile range, 3.7 to 15.6) after diagnosis of moderate-to-severe ARDS; 9.3% of the patients (94 patients) were enrolled with a qualifying Spo2:Fio2 (Table S2 in the Supplementary Appendix).\\nFigure 1\\n\\nPatient Screening, Enrollment, and Follow-up.\\nTable 1\\n\\nBaseline Characteristics of the Patients.\\nNeuromuscular Blockade, Sedation, and Other Care Processes\\nIn the intervention group, 488 patients (97.4%) received a cisatracurium infusion, beginning a mean (±SD) of 1.9±1.4 hours after randomization. The median duration of cisatracurium administration over the 48-hour intervention period was 47.8')),\n",
       " GraphDocument(nodes=[Node(id='Cisatracurium', type='Substance', properties={}), Node(id='Intervention Group', type='Group', properties={}), Node(id='Control Group', type='Group', properties={}), Node(id='Peep', type='Medical term', properties={})], relationships=[Relationship(source=Node(id='Cisatracurium', type='Substance', properties={}), target=Node(id='Intervention Group', type='Group', properties={}), type='USED_IN', properties={}), Relationship(source=Node(id='Intervention Group', type='Group', properties={}), target=Node(id='Control Group', type='Group', properties={}), type='DEEPER_SEDATION_THAN', properties={}), Relationship(source=Node(id='Intervention Group', type='Group', properties={}), target=Node(id='Control Group', type='Group', properties={}), type='LOWER_PEEP_REQUIREMENTS_THAN', properties={})], source=Document(metadata={'source': 'dataset/ROSE.txt'}, page_content=' randomization. The median duration of cisatracurium administration over the 48-hour intervention period was 47.8 hours (interquartile range, 43.8 to 48.0), and the median cumulative dose was 1807 mg (interquartile range, 1706 to 1815). Overall, the cisatracurium infusion was stopped early in 74 patients (14.8%) because of clinical improvement. In the control group, 86 patients (17.0%) received a neuromuscular blocking agent during the first 48 hours at a median cisatracurium (or equivalent) dose of 38 mg (interquartile range, 14 to 200). Additional details on the dosing of neuromuscular blocking agents are provided in Table S3 in the Supplementary Appendix. Patients in the intervention group were under deeper sedation than patients in the control group both during the 48-hour intervention period and on the third trial day (Figure 2). During the first 24 hours, patients in the intervention group had lower PEEP requirements than patients in the control group (between-group difference, −0.9 cm of water; 95% confidence interval [CI], −1.5 to −0.4). During the first')),\n",
       " GraphDocument(nodes=[Node(id='Intervention Group', type='Group', properties={}), Node(id='Minute Ventilation', type='Measurement', properties={}), Node(id='Fio2 Requirements', type='Measurement', properties={}), Node(id='Driving Pressures', type='Measurement', properties={}), Node(id='Pao2:Fio2', type='Measurement', properties={}), Node(id='Oxygenation', type='Measurement', properties={}), Node(id='Ards', type='Condition', properties={})], relationships=[Relationship(source=Node(id='Intervention Group', type='Group', properties={}), target=Node(id='Minute Ventilation', type='Measurement', properties={}), type='LOWER', properties={}), Relationship(source=Node(id='Intervention Group', type='Group', properties={}), target=Node(id='Fio2 Requirements', type='Measurement', properties={}), type='LOWER', properties={}), Relationship(source=Node(id='Intervention Group', type='Group', properties={}), target=Node(id='Driving Pressures', type='Measurement', properties={}), type='HIGHER', properties={}), Relationship(source=Node(id='Intervention Group', type='Group', properties={}), target=Node(id='Pao2:Fio2', type='Measurement', properties={}), type='NO_DIFFERENCE', properties={}), Relationship(source=Node(id='Oxygenation', type='Measurement', properties={}), target=Node(id='Ards', type='Condition', properties={}), type='IMPROVEMENT', properties={})], source=Document(metadata={'source': 'dataset/ROSE.txt'}, page_content=' cm of water; 95% confidence interval [CI], −1.5 to −0.4). During the first and second 24-hour periods, patients in the intervention group also had lower minute ventilation (the between-group difference on day 1 was −0.7 liters per minute [95% CI, −1.1 to −0.2], and on day 2, −0.8 liters per minute [95% CI, −1.2 to −0.4]), lower Fio2 requirements (the between-group difference on both day 1 and day 2 was −0.04 [95% CI, −0.06 to −0.02]), and higher driving pressures (the between-group difference on day 1 was 0.7 cm of water [95% CI, 0.0 to 1.3], and on day 2, 0.8 cm of water [95% CI, 0.1 to −1.5]). However, there were no between-group differences in the Pao2:Fio2 from day 1 through day 7. Improvement in oxygenation was similar among patients who were enrolled early and those who were enrolled late after the onset of ARDS. From day')),\n",
       " GraphDocument(nodes=[Node(id='Ards', type='Condition', properties={}), Node(id='Peep', type='Treatment', properties={}), Node(id='Fio2', type='Treatment', properties={}), Node(id='Low Tidal Volume Ventilation', type='Treatment', properties={}), Node(id='Low Plateau Pressures', type='Treatment', properties={}), Node(id='Intervention Group', type='Group', properties={}), Node(id='Control Group', type='Group', properties={}), Node(id='In-Hospital Death', type='Event', properties={})], relationships=[Relationship(source=Node(id='Peep', type='Treatment', properties={}), target=Node(id='Ards', type='Condition', properties={}), type='TREATMENT_FOR', properties={}), Relationship(source=Node(id='Fio2', type='Treatment', properties={}), target=Node(id='Ards', type='Condition', properties={}), type='TREATMENT_FOR', properties={}), Relationship(source=Node(id='Low Tidal Volume Ventilation', type='Treatment', properties={}), target=Node(id='Ards', type='Condition', properties={}), type='TREATMENT_FOR', properties={}), Relationship(source=Node(id='Low Plateau Pressures', type='Treatment', properties={}), target=Node(id='Ards', type='Condition', properties={}), type='TREATMENT_FOR', properties={}), Relationship(source=Node(id='In-Hospital Death', type='Event', properties={}), target=Node(id='Intervention Group', type='Group', properties={}), type='OCCURRED_IN', properties={}), Relationship(source=Node(id='In-Hospital Death', type='Event', properties={}), target=Node(id='Control Group', type='Group', properties={}), type='OCCURRED_IN', properties={})], source=Document(metadata={'source': 'dataset/ROSE.txt'}, page_content='ation was similar among patients who were enrolled early and those who were enrolled late after the onset of ARDS. From day 1 through day 7, there was good adherence to the protocol with respect to PEEP and Fio2 recommendations, and adherence to recommended ventilation guidelines ranged from 80.1 to 87.5% with respect to low tidal volume ventilation (≤6.5 ml per kilogram of predicted body weight) and 85.6 to 90.8% with respect to low plateau pressures (≤30 cm of water). The median daily fluid balance was 327 ml (interquartile range, −951 to 1456) on day 2 and −242 ml (interquartile range, −1432 to 728) on day 3, and there were no differences between trial groups. Additional details are provided in Figure S1 and Tables S4 through S8 in the Supplementary Appendix.\\nFigure 2\\n\\nNeuromuscular Blockade and Sedation.\\nPrimary End Point\\nAt 90 days, in-hospital death from any cause occurred in 213 patients (42.5%) in the intervention group and in 216 patients (42.8%) in the control group (between-group difference, −0.3 percentage')),\n",
       " GraphDocument(nodes=[Node(id='Control_Group', type='Group', properties={}), Node(id='Intervention_Group', type='Group', properties={}), Node(id='Ards_Severity', type='Condition', properties={}), Node(id='Ards_Duration', type='Condition', properties={}), Node(id='Previous_Neuromuscular_Blockade_Use', type='Treatment', properties={}), Node(id='Ethnic_Group', type='Group', properties={}), Node(id='Hospital_Mortality', type='Outcome', properties={}), Node(id='Days_Free_Of_Ventilation', type='Outcome', properties={}), Node(id='Days_Out_Of_Icu', type='Outcome', properties={}), Node(id='Days_Out_Of_Hospital', type='Outcome', properties={}), Node(id='Cardiovascular_Sofa_Scores', type='Outcome', properties={})], relationships=[Relationship(source=Node(id='Intervention_Group', type='Group', properties={}), target=Node(id='Control_Group', type='Group', properties={}), type='COMPARISON', properties={}), Relationship(source=Node(id='Ards_Severity', type='Condition', properties={}), target=Node(id='Ards_Duration', type='Condition', properties={}), type='RELATED_TO', properties={}), Relationship(source=Node(id='Ards_Duration', type='Condition', properties={}), target=Node(id='Previous_Neuromuscular_Blockade_Use', type='Treatment', properties={}), type='RELATED_TO', properties={}), Relationship(source=Node(id='Ethnic_Group', type='Group', properties={}), target=Node(id='Intervention_Group', type='Group', properties={}), type='INTERACTION', properties={}), Relationship(source=Node(id='Hospital_Mortality', type='Outcome', properties={}), target=Node(id='Days_Free_Of_Ventilation', type='Outcome', properties={}), type='RELATED_TO', properties={}), Relationship(source=Node(id='Days_Free_Of_Ventilation', type='Outcome', properties={}), target=Node(id='Days_Out_Of_Icu', type='Outcome', properties={}), type='RELATED_TO', properties={}), Relationship(source=Node(id='Days_Out_Of_Icu', type='Outcome', properties={}), target=Node(id='Days_Out_Of_Hospital', type='Outcome', properties={}), type='RELATED_TO', properties={}), Relationship(source=Node(id='Cardiovascular_Sofa_Scores', type='Outcome', properties={}), target=Node(id='Intervention_Group', type='Group', properties={}), type='HIGHER_IN', properties={})], source=Document(metadata={'source': 'dataset/ROSE.txt'}, page_content=' and in 216 patients (42.8%) in the control group (between-group difference, −0.3 percentage points; 95% CI, −6.4 to 5.9; P=0.93) (Figure 3 and Table 2). Treatment-by-subgroup interactions were not significant with respect to ARDS severity, ARDS duration, or previous neuromuscular blockade use stratified according to hospital tercile. Other than the interaction of treatment assignment with ethnic group (P=0.02 for interaction), no other interactions were significant (Fig. S2 and Tables S9 through S15 in the Supplementary Appendix).\\nFigure 3\\n\\nPatients Who Survived to Hospital Discharge and Were Discharged Home during the First 90 Days after Randomization.\\nTable 2\\n\\nEnd Points.\\nSecondary End Points\\nAt 28 days, there was no between-group difference in hospital mortality, days free of ventilation, days out of the ICU, or days out of the hospital (Table 2). Cardiovascular SOFA scores were higher in the intervention group than in the control group on day 1 (between-group difference, 0.2; 95% CI, 0.1 to 0.4')),\n",
       " GraphDocument(nodes=[Node(id='Day 1', type='Time', properties={}), Node(id='Day 2', type='Time', properties={}), Node(id='48-Hour Intervention Period', type='Time', properties={}), Node(id='Day 28', type='Time', properties={}), Node(id='Prone Positioning', type='Treatment', properties={}), Node(id='Control Group', type='Group', properties={}), Node(id='Neuromuscular Blockade', type='Treatment', properties={}), Node(id='Glucocorticoid', type='Treatment', properties={})], relationships=[Relationship(source=Node(id='Day 1', type='Time', properties={}), target=Node(id='Day 2', type='Time', properties={}), type='FOLLOWED_BY', properties={}), Relationship(source=Node(id='48-Hour Intervention Period', type='Time', properties={}), target=Node(id='Day 28', type='Time', properties={}), type='FOLLOWED_BY', properties={}), Relationship(source=Node(id='Control Group', type='Group', properties={}), target=Node(id='Prone Positioning', type='Treatment', properties={}), type='UNDERWENT', properties={}), Relationship(source=Node(id='Control Group', type='Group', properties={}), target=Node(id='Neuromuscular Blockade', type='Treatment', properties={}), type='DID_NOT_RECEIVE', properties={})], source=Document(metadata={'source': 'dataset/ROSE.txt'}, page_content=' on day 1 (between-group difference, 0.2; 95% CI, 0.1 to 0.4) and day 2 (between-group difference, 0.3; 95% CI, 0.1 to 0.5). However, there were no differences thereafter, nor were there differences in total SOFA scores or other organ-specific SOFA scores. The use of adjunctive therapies appeared to be similar in the two groups during the 48-hour intervention period (between-group difference, 0.7 percentage points; 95% CI, −4.0 to 5.5) and through day 28 (between-group difference, 1.2 percentage points; 95% CI, −4.2 to 6.6). Overall, prone positioning was used in 15.8% of patients (159 patients), with similar use in the two groups (between-group difference, 1.9 percentage points; 95% CI, −2.6 to 6.4). Most (56% [42 patients]) of the 75 patients who underwent prone positioning in the control group did not receive concomitant neuromuscular blockade. Glucocorticoid use was also similar in the two groups. The mean')),\n",
       " GraphDocument(nodes=[Node(id='Intervention Group', type='Group', properties={}), Node(id='Control Group', type='Group', properties={}), Node(id='Cisatracurium', type='Substance', properties={}), Node(id='Mortality', type='Concept', properties={}), Node(id='Patient-Reported Outcomes', type='Concept', properties={}), Node(id='Safety And Adverse Events', type='Concept', properties={}), Node(id='Recall Of Paralysis', type='Concept', properties={})], relationships=[Relationship(source=Node(id='Intervention Group', type='Group', properties={}), target=Node(id='Mortality', type='Concept', properties={}), type='ASSOCIATED_WITH', properties={}), Relationship(source=Node(id='Control Group', type='Group', properties={}), target=Node(id='Mortality', type='Concept', properties={}), type='ASSOCIATED_WITH', properties={}), Relationship(source=Node(id='Intervention Group', type='Group', properties={}), target=Node(id='Patient-Reported Outcomes', type='Concept', properties={}), type='ASSOCIATED_WITH', properties={}), Relationship(source=Node(id='Control Group', type='Group', properties={}), target=Node(id='Patient-Reported Outcomes', type='Concept', properties={}), type='ASSOCIATED_WITH', properties={}), Relationship(source=Node(id='Cisatracurium', type='Substance', properties={}), target=Node(id='Safety And Adverse Events', type='Concept', properties={}), type='ASSOCIATED_WITH', properties={}), Relationship(source=Node(id='Intervention Group', type='Group', properties={}), target=Node(id='Recall Of Paralysis', type='Concept', properties={}), type='ASSOCIATED_WITH', properties={}), Relationship(source=Node(id='Control Group', type='Group', properties={}), target=Node(id='Recall Of Paralysis', type='Concept', properties={}), type='ASSOCIATED_WITH', properties={})], source=Document(metadata={'source': 'dataset/ROSE.txt'}, page_content='itant neuromuscular blockade. Glucocorticoid use was also similar in the two groups. The mean (±SE) estimated mortality at 1 year was also not different between groups (51.1±2.2% in the intervention group and 51.1±2.2% in the control group). Patient-reported outcomes were similar between the groups at 3, 6, and 12 months, including health-related scores and health-related limitations with respect to disability, cognitive function, symptoms resembling those of post-traumatic stress, and pain. Additional information on secondary end points is provided in Tables S16 through S23 in the Supplementary Appendix.\\nSafety and Adverse Events\\nSafety and adverse events are summarized in Table 2 and in Tables S24 through S28 in the Supplementary Appendix. Although mortality was high in both groups, only one death was considered possibly related to cisatracurium, no deaths were considered probably or definitely related to cisatracurium, and there were no between-group differences in the percentage of patients who died during the 48-hour trial intervention period or up to 96 hours. Recall of paralysis was uncommon and did not differ between groups. Patients in the control group had higher mean levels')),\n",
       " GraphDocument(nodes=[Node(id='Control_Group', type='Group', properties={}), Node(id='Intervention_Group', type='Group', properties={}), Node(id='Icu_Acquired_Weakness', type='Condition', properties={}), Node(id='Physical_Activity', type='Activity', properties={}), Node(id='Muscle_Strength_Assessment', type='Activity', properties={}), Node(id='Serious_Cardiovascular_Events', type='Event', properties={}), Node(id='New_Onset_Atrial_Fibrillation', type='Condition', properties={}), Node(id='Supraventricular_Tachycardia', type='Condition', properties={}), Node(id='Pneumothorax', type='Condition', properties={}), Node(id='Barotrauma', type='Condition', properties={})], relationships=[Relationship(source=Node(id='Control_Group', type='Group', properties={}), target=Node(id='Physical_Activity', type='Activity', properties={}), type='HIGHER_MEAN_LEVELS', properties={}), Relationship(source=Node(id='Intervention_Group', type='Group', properties={}), target=Node(id='Serious_Cardiovascular_Events', type='Event', properties={}), type='MORE_REPORTED_THAN', properties={}), Relationship(source=Node(id='Intervention_Group', type='Group', properties={}), target=Node(id='Control_Group', type='Group', properties={}), type='MORE_REPORTED_THAN', properties={})], source=Document(metadata={'source': 'dataset/ROSE.txt'}, page_content=' 96 hours. Recall of paralysis was uncommon and did not differ between groups. Patients in the control group had higher mean levels of physical activity up to day 6. The rates of ICU-acquired weakness assessed were not different between groups, but many patients (range, 51.2 to 67.5%) could not complete the weekly in-hospital assessments of muscle strength. More serious cardiovascular events were reported in the intervention group than in the control group (14 vs. 4 events; P=0.02), although the rates of new-onset atrial fibrillation and supraventricular tachycardia did not differ between groups. Rates of pneumothorax and overall barotrauma also did not differ between groups.\\nDiscussion\\nIn a cohort of critically ill patients identified shortly after the diagnosis of moderate-to-severe ARDS, the addition of early continuous neuromuscular blockade with concomitant deep sedation did not result in lower mortality than a usual-care approach to mechanical ventilation that included lighter sedation targets. This trial had high adherence to the protocol, including minimal crossover use of neuromuscular blockade and high adherence to the recommended ventilation and fluid strategy. The results of prespecified subgroup')),\n",
       " GraphDocument(nodes=[Node(id='Neuromuscular Blockade', type='Concept', properties={}), Node(id='High Adherence', type='Concept', properties={}), Node(id='Recommended Ventilation And Fluid Strategy', type='Concept', properties={}), Node(id='Prespecified Subgroup Analyses', type='Concept', properties={}), Node(id='Primary Analysis', type='Concept', properties={}), Node(id='Severity Of Ards', type='Concept', properties={}), Node(id='Duration Of Ards', type='Concept', properties={}), Node(id='Trial Sites', type='Concept', properties={}), Node(id='Exclusion Rates For Previous Neuromuscular Blockade Use', type='Concept', properties={}), Node(id='Acurasys', type='Trial', properties={}), Node(id='Peep Strategy', type='Concept', properties={}), Node(id='Mortality', type='Concept', properties={}), Node(id='Moderate-To-Severe Ards', type='Concept', properties={}), Node(id='Treatment Effect', type='Concept', properties={}), Node(id='Current Guideline Recommendations', type='Concept', properties={}), Node(id='Clinical Studies', type='Concept', properties={}), Node(id='Sedation Targets', type='Concept', properties={}), Node(id='Deep Sedation', type='Concept', properties={}), Node(id='Cardiovascular Adverse Events', type='Concept', properties={})], relationships=[Relationship(source=Node(id='Prespecified Subgroup Analyses', type='Concept', properties={}), target=Node(id='Primary Analysis', type='Concept', properties={}), type='CONSISTENT_WITH', properties={}), Relationship(source=Node(id='Prespecified Subgroup Analyses', type='Concept', properties={}), target=Node(id='Severity Of Ards', type='Concept', properties={}), type='ACROSS', properties={}), Relationship(source=Node(id='Prespecified Subgroup Analyses', type='Concept', properties={}), target=Node(id='Duration Of Ards', type='Concept', properties={}), type='ACROSS', properties={}), Relationship(source=Node(id='Prespecified Subgroup Analyses', type='Concept', properties={}), target=Node(id='Trial Sites', type='Concept', properties={}), type='ACROSS', properties={}), Relationship(source=Node(id='Trial Sites', type='Concept', properties={}), target=Node(id='Exclusion Rates For Previous Neuromuscular Blockade Use', type='Concept', properties={}), type='WITH_DIFFERENT', properties={}), Relationship(source=Node(id='Peep Strategy', type='Concept', properties={}), target=Node(id='Mortality', type='Concept', properties={}), type='MAY_REDUCE', properties={}), Relationship(source=Node(id='Peep Strategy', type='Concept', properties={}), target=Node(id='Moderate-To-Severe Ards', type='Concept', properties={}), type='USED_IN', properties={}), Relationship(source=Node(id='Treatment Effect', type='Concept', properties={}), target=Node(id='Early Continuous Neuromuscular Blockade', type='Concept', properties={}), type='OF', properties={}), Relationship(source=Node(id='Sedation Targets', type='Concept', properties={}), target=Node(id='Control Group', type='Concept', properties={}), type='USED_IN_LIGHTER_THAN', properties={}), Relationship(source=Node(id='Deep Sedation', type='Concept', properties={}), target=Node(id='Intervention Group', type='Concept', properties={}), type='USED_IN', properties={}), Relationship(source=Node(id='Deep Sedation', type='Concept', properties={}), target=Node(id='Control Group', type='Concept', properties={}), type='USED_IN', properties={}), Relationship(source=Node(id='Cardiovascular Adverse Events', type='Concept', properties={}), target=Node(id='Intervention Group', type='Concept', properties={}), type='HIGHER_IN', properties={})], source=Document(metadata={'source': 'dataset/ROSE.txt'}, page_content=' neuromuscular blockade and high adherence to the recommended ventilation and fluid strategy. The results of prespecified subgroup analyses were consistent with those of the primary analysis across severity and duration of ARDS and across trial sites with different exclusion rates for previous neuromuscular blockade use.\\nSeveral factors may explain why our findings differed from those of ACURASYS, the previous multicenter trial that showed a benefit with early continuous neuromuscular blockade. First, we used a higher PEEP strategy in both groups to test our intervention in the context of best care and to reduce the likelihood of differential PEEP use across groups. Higher PEEP may itself reduce mortality among patients with moderate-to-severe ARDS, thereby blunting the potential treatment effect of early continuous neuromuscular blockade.16 Second, on the basis of current guideline recommendations and clinical studies,10–12,15 we designed this trial so that the sedation targets used in the control group were lighter than those used in the ACURASYS trial; deep sedation was used in both the intervention group and the control group in the ACURASYS trial. In our trial, the higher number of cardiovascular adverse events in the intervention group than in the control')),\n",
       " GraphDocument(nodes=[Node(id='Urasys_Trial', type='Trial', properties={}), Node(id='Intervention_Group', type='Group', properties={}), Node(id='Control_Group', type='Group', properties={}), Node(id='Deep_Sedation', type='Medical_condition', properties={}), Node(id='Hypotension', type='Medical_condition', properties={}), Node(id='Bradycardia', type='Medical_condition', properties={}), Node(id='Cardiovascular_Effects', type='Medical_condition', properties={}), Node(id='Lighter_Sedation_Strategy', type='Strategy', properties={}), Node(id='Prone_Positioning', type='Medical_procedure', properties={}), Node(id='Ards', type='Medical_condition', properties={}), Node(id='Acurasys_Trial', type='Trial', properties={}), Node(id='Early_Continuous_Neuromuscular_Blockade', type='Medical_procedure', properties={})], relationships=[Relationship(source=Node(id='Intervention_Group', type='Group', properties={}), target=Node(id='Deep_Sedation', type='Medical_condition', properties={}), type='ASSOCIATED_WITH', properties={}), Relationship(source=Node(id='Deep_Sedation', type='Medical_condition', properties={}), target=Node(id='Hypotension', type='Medical_condition', properties={}), type='CAUSES', properties={}), Relationship(source=Node(id='Deep_Sedation', type='Medical_condition', properties={}), target=Node(id='Bradycardia', type='Medical_condition', properties={}), type='CAUSES', properties={}), Relationship(source=Node(id='Deep_Sedation', type='Medical_condition', properties={}), target=Node(id='Cardiovascular_Effects', type='Medical_condition', properties={}), type='CAUSES', properties={}), Relationship(source=Node(id='Control_Group', type='Group', properties={}), target=Node(id='Lighter_Sedation_Strategy', type='Strategy', properties={}), type='USED', properties={}), Relationship(source=Node(id='Prone_Positioning', type='Medical_procedure', properties={}), target=Node(id='Ards', type='Medical_condition', properties={}), type='REDUCES_RISK_OF', properties={}), Relationship(source=Node(id='Urasys_Trial', type='Trial', properties={}), target=Node(id='Prone_Positioning', type='Medical_procedure', properties={}), type='INCLUDED', properties={}), Relationship(source=Node(id='Urasys_Trial', type='Trial', properties={}), target=Node(id='Acurasys_Trial', type='Trial', properties={}), type='COMPARED_WITH', properties={})], source=Document(metadata={'source': 'dataset/ROSE.txt'}, page_content='URASYS trial. In our trial, the higher number of cardiovascular adverse events in the intervention group than in the control group could be the result of deep sedation in the intervention group, which could have induced hypotension, bradycardia, and other cardiovascular effects. Therefore, the use of the lighter sedation strategy in our control group may have decreased mortality in that group. Third, prone positioning reduces the risk of death in patients with ARDS when it is initiated during the first 12 to 24 hours after the onset of moderate-to-severe ARDS and is administered for at least 16 hours per day.26 The percentage of patients who underwent prone positioning in our trial was similar to that observed in a recent international epidemiologic study, but it was lower than in the ACURASYS trial.5,7 Whether early continuous neuromuscular blockade is more effective with prone positioning is unknown, but it is a possible explanation for the different results of our trial and the ACURASYS trial.\\nPatients in our trial were enrolled earlier after the onset of ARDS than those in the ACURASYS trial.42 Consequently, we may have included patients who might not have survived long enough to be included in the previous')),\n",
       " GraphDocument(nodes=[Node(id='Ys_Trial.42', type='Trial', properties={}), Node(id='Pao2:Fio2', type='Medical_condition', properties={}), Node(id='Hispanic', type='Ethnic_group', properties={}), Node(id='Neuromuscular_Blockade', type='Treatment', properties={}), Node(id='Ventilator_Dyssynchrony', type='Medical_condition', properties={}), Node(id='Ards', type='Medical_condition', properties={})], relationships=[Relationship(source=Node(id='Ys_Trial.42', type='Trial', properties={}), target=Node(id='Pao2:Fio2', type='Medical_condition', properties={}), type='EXCLUDED_CONDITION', properties={}), Relationship(source=Node(id='Ys_Trial.42', type='Trial', properties={}), target=Node(id='Neuromuscular_Blockade', type='Treatment', properties={}), type='EXCLUDED_TREATMENT', properties={}), Relationship(source=Node(id='Neuromuscular_Blockade', type='Treatment', properties={}), target=Node(id='Ventilator_Dyssynchrony', type='Medical_condition', properties={}), type='TREATS', properties={}), Relationship(source=Node(id='Neuromuscular_Blockade', type='Treatment', properties={}), target=Node(id='Ards', type='Medical_condition', properties={}), type='TREATS', properties={})], source=Document(metadata={'source': 'dataset/ROSE.txt'}, page_content='YS trial.42 Consequently, we may have included patients who might not have survived long enough to be included in the previous trial. Although we excluded patients whose Pao2:Fio2 improved to more than 200 mm Hg before randomization, we may also have recruited some patients with lung injury that was either rapidly improving or less established than that observed in the previous trial. However, analyses stratified according to the time from the onset of ARDS to enrollment did not suggest any between-group difference in the rate of improvement in oxygenation or treatment effect. The unexpected interaction between Hispanic ethnic group and treatment may be the result of random chance.\\nOur trial has limitations. The most common reason eligible patients were excluded was that they had previously received neuromuscular blockade. It is possible that treating physicians were identifying and treating a subset of patients who were more likely to benefit from neuromuscular blockade use. However, there was no evidence of benefit even when analyses were restricted to trial sites that rarely excluded those patients. We did not systematically measure the effect of neuromuscular blockade on ventilator dyssynchrony. However, in patients with ARDS or at risk for ARDS, neuromuscular blockade essentially eliminates vent')),\n",
       " GraphDocument(nodes=[Node(id='Ards', type='Condition', properties={}), Node(id='Neuromuscular Blockade', type='Treatment', properties={}), Node(id='Ventilator Dyssynchrony', type='Condition', properties={}), Node(id='Nurses', type='Profession', properties={}), Node(id='Physiotherapists', type='Profession', properties={}), Node(id='Health Care Professionals', type='Profession', properties={}), Node(id='Treatment Assignments', type='Concept', properties={}), Node(id='Neuromuscular Function', type='Concept', properties={}), Node(id='Physical Activity', type='Concept', properties={}), Node(id='Adverse Events', type='Concept', properties={}), Node(id='Moderate-To-Severe Ards', type='Condition', properties={}), Node(id='Higher Peep Strategy', type='Treatment', properties={}), Node(id='Early And Continuous Infusion Of Cisatracurium', type='Treatment', properties={}), Node(id='Usual Care With Lighter Sedation Targets', type='Treatment', properties={}), Node(id='Mortality At 90 Days', type='Outcome', properties={})], relationships=[Relationship(source=Node(id='Neuromuscular Blockade', type='Treatment', properties={}), target=Node(id='Ventilator Dyssynchrony', type='Condition', properties={}), type='ELIMINATES', properties={}), Relationship(source=Node(id='Nurses', type='Profession', properties={}), target=Node(id='Treatment Assignments', type='Concept', properties={}), type='AWARE_OF', properties={}), Relationship(source=Node(id='Physiotherapists', type='Profession', properties={}), target=Node(id='Treatment Assignments', type='Concept', properties={}), type='AWARE_OF', properties={}), Relationship(source=Node(id='Health Care Professionals', type='Profession', properties={}), target=Node(id='Treatment Assignments', type='Concept', properties={}), type='AWARE_OF', properties={}), Relationship(source=Node(id='Early And Continuous Infusion Of Cisatracurium', type='Treatment', properties={}), target=Node(id='Moderate-To-Severe Ards', type='Condition', properties={}), type='USED_FOR', properties={}), Relationship(source=Node(id='Higher Peep Strategy', type='Treatment', properties={}), target=Node(id='Moderate-To-Severe Ards', type='Condition', properties={}), type='USED_FOR', properties={}), Relationship(source=Node(id='Early And Continuous Infusion Of Cisatracurium', type='Treatment', properties={}), target=Node(id='Mortality At 90 Days', type='Outcome', properties={}), type='COMPARED_TO', properties={}), Relationship(source=Node(id='Usual Care With Lighter Sedation Targets', type='Treatment', properties={}), target=Node(id='Mortality At 90 Days', type='Outcome', properties={}), type='COMPARED_TO', properties={})], source=Document(metadata={'source': 'dataset/ROSE.txt'}, page_content='y. However, in patients with ARDS or at risk for ARDS, neuromuscular blockade essentially eliminates ventilator dyssynchrony.43 Finally, nurses, physiotherapists, and other health care professionals were aware of the treatment assignments. This lack of blinding may have influenced short-term assessments of early neuromuscular function, the level of physical activity, and the reporting of adverse events. In conclusion, among patients with moderate-to-severe ARDS who were treated with a higher PEEP strategy, the administration of an early and continuous infusion of cisatracurium did not result in significantly lower mortality at 90 days than usual care with lighter sedation targets.'))]"
      ]
     },
     "execution_count": 22,
     "metadata": {},
     "output_type": "execute_result"
    }
   ],
   "source": [
    "# graph_documents"
   ]
  },
  {
   "cell_type": "markdown",
   "metadata": {},
   "source": [
    "## Storing Graph Documents into Neo4j"
   ]
  },
  {
   "cell_type": "code",
   "execution_count": 23,
   "metadata": {},
   "outputs": [],
   "source": [
    "graph.add_graph_documents(graph_documents, baseEntityLabel=True, include_source=True)"
   ]
  },
  {
   "cell_type": "markdown",
   "metadata": {},
   "source": [
    "# Visualization of Graph Database"
   ]
  },
  {
   "cell_type": "code",
   "execution_count": 5,
   "metadata": {},
   "outputs": [
    {
     "data": {
      "application/vnd.jupyter.widget-view+json": {
       "model_id": "2748335fb8cc4da986ba9ddad24806bc",
       "version_major": 2,
       "version_minor": 0
      },
      "text/plain": [
       "GraphWidget(layout=Layout(height='800px', width='100%'))"
      ]
     },
     "metadata": {},
     "output_type": "display_data"
    }
   ],
   "source": [
    "def showGraph():\n",
    "    driver = GraphDatabase.driver(\n",
    "        uri=os.getenv(\"NEO4J_URL\"),\n",
    "        auth=(os.getenv(\"NEO4J_USERNAME\"), os.getenv(\"NEO4J_PASSWORD\")),\n",
    "    )\n",
    "    session = driver.session()\n",
    "    widget = GraphWidget(graph=session.run(\"MATCH (s)-[r]->(t) RETURN s,r,t\").graph())\n",
    "    widget.node_label_mapping = \"id\"\n",
    "    return widget\n",
    "\n",
    "\n",
    "showGraph()"
   ]
  },
  {
   "cell_type": "markdown",
   "metadata": {},
   "source": [
    "# Define Vector Index as Retriever"
   ]
  },
  {
   "cell_type": "code",
   "execution_count": 3,
   "metadata": {},
   "outputs": [
    {
     "ename": "ClientError",
     "evalue": "{code: Neo.ClientError.Schema.IndexWithNameAlreadyExists} {message: There already exists an index called 'keyword'.}",
     "output_type": "error",
     "traceback": [
      "\u001b[0;31m---------------------------------------------------------------------------\u001b[0m",
      "\u001b[0;31mClientError\u001b[0m                               Traceback (most recent call last)",
      "Cell \u001b[0;32mIn[3], line 1\u001b[0m\n\u001b[0;32m----> 1\u001b[0m vector_index \u001b[38;5;241m=\u001b[39m \u001b[43mNeo4jVector\u001b[49m\u001b[38;5;241;43m.\u001b[39;49m\u001b[43mfrom_existing_graph\u001b[49m\u001b[43m(\u001b[49m\n\u001b[1;32m      2\u001b[0m \u001b[43m    \u001b[49m\u001b[43membedding\u001b[49m\u001b[38;5;241;43m=\u001b[39;49m\u001b[43mOpenAIEmbeddings\u001b[49m\u001b[43m(\u001b[49m\u001b[43m)\u001b[49m\u001b[43m,\u001b[49m\n\u001b[1;32m      3\u001b[0m \u001b[43m    \u001b[49m\u001b[43murl\u001b[49m\u001b[38;5;241;43m=\u001b[39;49m\u001b[43mos\u001b[49m\u001b[38;5;241;43m.\u001b[39;49m\u001b[43mgetenv\u001b[49m\u001b[43m(\u001b[49m\u001b[38;5;124;43m\"\u001b[39;49m\u001b[38;5;124;43mNEO4J_URL\u001b[39;49m\u001b[38;5;124;43m\"\u001b[39;49m\u001b[43m)\u001b[49m\u001b[43m,\u001b[49m\n\u001b[1;32m      4\u001b[0m \u001b[43m    \u001b[49m\u001b[43musername\u001b[49m\u001b[38;5;241;43m=\u001b[39;49m\u001b[43mos\u001b[49m\u001b[38;5;241;43m.\u001b[39;49m\u001b[43mgetenv\u001b[49m\u001b[43m(\u001b[49m\u001b[38;5;124;43m\"\u001b[39;49m\u001b[38;5;124;43mNEO4J_USERNAME\u001b[39;49m\u001b[38;5;124;43m\"\u001b[39;49m\u001b[43m)\u001b[49m\u001b[43m,\u001b[49m\n\u001b[1;32m      5\u001b[0m \u001b[43m    \u001b[49m\u001b[43mpassword\u001b[49m\u001b[38;5;241;43m=\u001b[39;49m\u001b[43mos\u001b[49m\u001b[38;5;241;43m.\u001b[39;49m\u001b[43mgetenv\u001b[49m\u001b[43m(\u001b[49m\u001b[38;5;124;43m\"\u001b[39;49m\u001b[38;5;124;43mNEO4J_PASSWORD\u001b[39;49m\u001b[38;5;124;43m\"\u001b[39;49m\u001b[43m)\u001b[49m\u001b[43m,\u001b[49m\n\u001b[1;32m      6\u001b[0m \u001b[43m    \u001b[49m\u001b[43msearch_type\u001b[49m\u001b[38;5;241;43m=\u001b[39;49m\u001b[38;5;124;43m\"\u001b[39;49m\u001b[38;5;124;43mhybrid\u001b[39;49m\u001b[38;5;124;43m\"\u001b[39;49m\u001b[43m,\u001b[49m\u001b[43m \u001b[49m\u001b[38;5;66;43;03m# combining vector index and keyword index search for better results\u001b[39;49;00m\n\u001b[1;32m      7\u001b[0m \u001b[43m    \u001b[49m\u001b[43mnode_label\u001b[49m\u001b[38;5;241;43m=\u001b[39;49m\u001b[38;5;124;43m'\u001b[39;49m\u001b[38;5;124;43mDocument\u001b[39;49m\u001b[38;5;124;43m'\u001b[39;49m\u001b[43m,\u001b[49m\u001b[38;5;66;43;03m#\"Document\",\u001b[39;49;00m\n\u001b[1;32m      8\u001b[0m \u001b[43m    \u001b[49m\u001b[43mtext_node_properties\u001b[49m\u001b[38;5;241;43m=\u001b[39;49m\u001b[43m[\u001b[49m\u001b[38;5;124;43m\"\u001b[39;49m\u001b[38;5;124;43mtext\u001b[39;49m\u001b[38;5;124;43m\"\u001b[39;49m\u001b[43m]\u001b[49m\u001b[43m,\u001b[49m\n\u001b[1;32m      9\u001b[0m \u001b[43m    \u001b[49m\u001b[43membedding_node_property\u001b[49m\u001b[38;5;241;43m=\u001b[39;49m\u001b[38;5;124;43m\"\u001b[39;49m\u001b[38;5;124;43membedding\u001b[39;49m\u001b[38;5;124;43m\"\u001b[39;49m\u001b[43m,\u001b[49m\n\u001b[1;32m     10\u001b[0m \u001b[43m)\u001b[49m\n\u001b[1;32m     11\u001b[0m vector_retriever \u001b[38;5;241m=\u001b[39m vector_index\u001b[38;5;241m.\u001b[39mas_retriever()\n",
      "File \u001b[0;32m~/miniconda3/lib/python3.11/site-packages/langchain_community/vectorstores/neo4j_vector.py:1568\u001b[0m, in \u001b[0;36mNeo4jVector.from_existing_graph\u001b[0;34m(cls, embedding, node_label, embedding_node_property, text_node_properties, keyword_index_name, index_name, search_type, retrieval_query, **kwargs)\u001b[0m\n\u001b[1;32m   1566\u001b[0m \u001b[38;5;66;03m# If the FTS index doesn't exist yet\u001b[39;00m\n\u001b[1;32m   1567\u001b[0m \u001b[38;5;28;01mif\u001b[39;00m \u001b[38;5;129;01mnot\u001b[39;00m fts_node_label:\n\u001b[0;32m-> 1568\u001b[0m     \u001b[43mstore\u001b[49m\u001b[38;5;241;43m.\u001b[39;49m\u001b[43mcreate_new_keyword_index\u001b[49m\u001b[43m(\u001b[49m\u001b[43mtext_node_properties\u001b[49m\u001b[43m)\u001b[49m\n\u001b[1;32m   1569\u001b[0m \u001b[38;5;28;01melse\u001b[39;00m:  \u001b[38;5;66;03m# Validate that FTS and Vector index use the same information\u001b[39;00m\n\u001b[1;32m   1570\u001b[0m     \u001b[38;5;28;01mif\u001b[39;00m \u001b[38;5;129;01mnot\u001b[39;00m fts_node_label \u001b[38;5;241m==\u001b[39m store\u001b[38;5;241m.\u001b[39mnode_label:\n",
      "File \u001b[0;32m~/miniconda3/lib/python3.11/site-packages/langchain_community/vectorstores/neo4j_vector.py:853\u001b[0m, in \u001b[0;36mNeo4jVector.create_new_keyword_index\u001b[0;34m(self, text_node_properties)\u001b[0m\n\u001b[1;32m    847\u001b[0m node_props \u001b[38;5;241m=\u001b[39m text_node_properties \u001b[38;5;129;01mor\u001b[39;00m [\u001b[38;5;28mself\u001b[39m\u001b[38;5;241m.\u001b[39mtext_node_property]\n\u001b[1;32m    848\u001b[0m fts_index_query \u001b[38;5;241m=\u001b[39m (\n\u001b[1;32m    849\u001b[0m     \u001b[38;5;124mf\u001b[39m\u001b[38;5;124m\"\u001b[39m\u001b[38;5;124mCREATE FULLTEXT INDEX \u001b[39m\u001b[38;5;132;01m{\u001b[39;00m\u001b[38;5;28mself\u001b[39m\u001b[38;5;241m.\u001b[39mkeyword_index_name\u001b[38;5;132;01m}\u001b[39;00m\u001b[38;5;124m \u001b[39m\u001b[38;5;124m\"\u001b[39m\n\u001b[1;32m    850\u001b[0m     \u001b[38;5;124mf\u001b[39m\u001b[38;5;124m\"\u001b[39m\u001b[38;5;124mFOR (n:`\u001b[39m\u001b[38;5;132;01m{\u001b[39;00m\u001b[38;5;28mself\u001b[39m\u001b[38;5;241m.\u001b[39mnode_label\u001b[38;5;132;01m}\u001b[39;00m\u001b[38;5;124m`) ON EACH \u001b[39m\u001b[38;5;124m\"\u001b[39m\n\u001b[1;32m    851\u001b[0m     \u001b[38;5;124mf\u001b[39m\u001b[38;5;124m\"\u001b[39m\u001b[38;5;124m[\u001b[39m\u001b[38;5;132;01m{\u001b[39;00m\u001b[38;5;124m'\u001b[39m\u001b[38;5;124m, \u001b[39m\u001b[38;5;124m'\u001b[39m\u001b[38;5;241m.\u001b[39mjoin([\u001b[38;5;124m'\u001b[39m\u001b[38;5;124mn.`\u001b[39m\u001b[38;5;124m'\u001b[39m\u001b[38;5;250m \u001b[39m\u001b[38;5;241m+\u001b[39m\u001b[38;5;250m \u001b[39mel\u001b[38;5;250m \u001b[39m\u001b[38;5;241m+\u001b[39m\u001b[38;5;250m \u001b[39m\u001b[38;5;124m'\u001b[39m\u001b[38;5;124m`\u001b[39m\u001b[38;5;124m'\u001b[39m\u001b[38;5;250m \u001b[39m\u001b[38;5;28;01mfor\u001b[39;00m\u001b[38;5;250m \u001b[39mel\u001b[38;5;250m \u001b[39m\u001b[38;5;129;01min\u001b[39;00m\u001b[38;5;250m \u001b[39mnode_props])\u001b[38;5;132;01m}\u001b[39;00m\u001b[38;5;124m]\u001b[39m\u001b[38;5;124m\"\u001b[39m\n\u001b[1;32m    852\u001b[0m )\n\u001b[0;32m--> 853\u001b[0m \u001b[38;5;28;43mself\u001b[39;49m\u001b[38;5;241;43m.\u001b[39;49m\u001b[43mquery\u001b[49m\u001b[43m(\u001b[49m\u001b[43mfts_index_query\u001b[49m\u001b[43m)\u001b[49m\n",
      "File \u001b[0;32m~/miniconda3/lib/python3.11/site-packages/langchain_community/vectorstores/neo4j_vector.py:686\u001b[0m, in \u001b[0;36mNeo4jVector.query\u001b[0;34m(self, query, params)\u001b[0m\n\u001b[1;32m    684\u001b[0m params \u001b[38;5;241m=\u001b[39m params \u001b[38;5;129;01mor\u001b[39;00m {}\n\u001b[1;32m    685\u001b[0m \u001b[38;5;28;01mtry\u001b[39;00m:\n\u001b[0;32m--> 686\u001b[0m     data, _, _ \u001b[38;5;241m=\u001b[39m \u001b[38;5;28;43mself\u001b[39;49m\u001b[38;5;241;43m.\u001b[39;49m\u001b[43m_driver\u001b[49m\u001b[38;5;241;43m.\u001b[39;49m\u001b[43mexecute_query\u001b[49m\u001b[43m(\u001b[49m\n\u001b[1;32m    687\u001b[0m \u001b[43m        \u001b[49m\u001b[43mquery\u001b[49m\u001b[43m,\u001b[49m\u001b[43m \u001b[49m\u001b[43mdatabase_\u001b[49m\u001b[38;5;241;43m=\u001b[39;49m\u001b[38;5;28;43mself\u001b[39;49m\u001b[38;5;241;43m.\u001b[39;49m\u001b[43m_database\u001b[49m\u001b[43m,\u001b[49m\u001b[43m \u001b[49m\u001b[43mparameters_\u001b[49m\u001b[38;5;241;43m=\u001b[39;49m\u001b[43mparams\u001b[49m\n\u001b[1;32m    688\u001b[0m \u001b[43m    \u001b[49m\u001b[43m)\u001b[49m\n\u001b[1;32m    689\u001b[0m     \u001b[38;5;28;01mreturn\u001b[39;00m [r\u001b[38;5;241m.\u001b[39mdata() \u001b[38;5;28;01mfor\u001b[39;00m r \u001b[38;5;129;01min\u001b[39;00m data]\n\u001b[1;32m    690\u001b[0m \u001b[38;5;28;01mexcept\u001b[39;00m Neo4jError \u001b[38;5;28;01mas\u001b[39;00m e:\n",
      "File \u001b[0;32m~/miniconda3/lib/python3.11/site-packages/neo4j/_sync/driver.py:970\u001b[0m, in \u001b[0;36mDriver.execute_query\u001b[0;34m(self, query_, parameters_, routing_, database_, impersonated_user_, bookmark_manager_, auth_, result_transformer_, **kwargs)\u001b[0m\n\u001b[1;32m    966\u001b[0m     \u001b[38;5;28;01mraise\u001b[39;00m \u001b[38;5;167;01mValueError\u001b[39;00m(\n\u001b[1;32m    967\u001b[0m         \u001b[38;5;124mf\u001b[39m\u001b[38;5;124m\"\u001b[39m\u001b[38;5;124mInvalid routing control value: \u001b[39m\u001b[38;5;132;01m{\u001b[39;00mrouting_\u001b[38;5;132;01m!r}\u001b[39;00m\u001b[38;5;124m\"\u001b[39m\n\u001b[1;32m    968\u001b[0m     )\n\u001b[1;32m    969\u001b[0m \u001b[38;5;28;01mwith\u001b[39;00m session\u001b[38;5;241m.\u001b[39m_pipelined_begin:\n\u001b[0;32m--> 970\u001b[0m     \u001b[38;5;28;01mreturn\u001b[39;00m \u001b[43msession\u001b[49m\u001b[38;5;241;43m.\u001b[39;49m\u001b[43m_run_transaction\u001b[49m\u001b[43m(\u001b[49m\n\u001b[1;32m    971\u001b[0m \u001b[43m        \u001b[49m\u001b[43maccess_mode\u001b[49m\u001b[43m,\u001b[49m\n\u001b[1;32m    972\u001b[0m \u001b[43m        \u001b[49m\u001b[43mTelemetryAPI\u001b[49m\u001b[38;5;241;43m.\u001b[39;49m\u001b[43mDRIVER\u001b[49m\u001b[43m,\u001b[49m\n\u001b[1;32m    973\u001b[0m \u001b[43m        \u001b[49m\u001b[43mwork\u001b[49m\u001b[43m,\u001b[49m\n\u001b[1;32m    974\u001b[0m \u001b[43m        \u001b[49m\u001b[43m(\u001b[49m\u001b[43mquery_str\u001b[49m\u001b[43m,\u001b[49m\u001b[43m \u001b[49m\u001b[43mparameters\u001b[49m\u001b[43m,\u001b[49m\u001b[43m \u001b[49m\u001b[43mresult_transformer_\u001b[49m\u001b[43m)\u001b[49m\u001b[43m,\u001b[49m\n\u001b[1;32m    975\u001b[0m \u001b[43m        \u001b[49m\u001b[43m{\u001b[49m\u001b[43m}\u001b[49m\u001b[43m,\u001b[49m\n\u001b[1;32m    976\u001b[0m \u001b[43m    \u001b[49m\u001b[43m)\u001b[49m\n",
      "File \u001b[0;32m~/miniconda3/lib/python3.11/site-packages/neo4j/_sync/work/session.py:583\u001b[0m, in \u001b[0;36mSession._run_transaction\u001b[0;34m(self, access_mode, api, transaction_function, args, kwargs)\u001b[0m\n\u001b[1;32m    581\u001b[0m tx \u001b[38;5;241m=\u001b[39m \u001b[38;5;28mself\u001b[39m\u001b[38;5;241m.\u001b[39m_transaction\n\u001b[1;32m    582\u001b[0m \u001b[38;5;28;01mtry\u001b[39;00m:\n\u001b[0;32m--> 583\u001b[0m     result \u001b[38;5;241m=\u001b[39m \u001b[43mtransaction_function\u001b[49m\u001b[43m(\u001b[49m\u001b[43mtx\u001b[49m\u001b[43m,\u001b[49m\u001b[43m \u001b[49m\u001b[38;5;241;43m*\u001b[39;49m\u001b[43margs\u001b[49m\u001b[43m,\u001b[49m\u001b[43m \u001b[49m\u001b[38;5;241;43m*\u001b[39;49m\u001b[38;5;241;43m*\u001b[39;49m\u001b[43mkwargs\u001b[49m\u001b[43m)\u001b[49m\n\u001b[1;32m    584\u001b[0m \u001b[38;5;28;01mexcept\u001b[39;00m asyncio\u001b[38;5;241m.\u001b[39mCancelledError:\n\u001b[1;32m    585\u001b[0m     \u001b[38;5;66;03m# if cancellation callback has not been called yet:\u001b[39;00m\n\u001b[1;32m    586\u001b[0m     \u001b[38;5;28;01mif\u001b[39;00m \u001b[38;5;28mself\u001b[39m\u001b[38;5;241m.\u001b[39m_transaction \u001b[38;5;129;01mis\u001b[39;00m \u001b[38;5;129;01mnot\u001b[39;00m \u001b[38;5;28;01mNone\u001b[39;00m:\n",
      "File \u001b[0;32m~/miniconda3/lib/python3.11/site-packages/neo4j/_sync/driver.py:1306\u001b[0m, in \u001b[0;36m_work\u001b[0;34m(tx, query, parameters, transformer)\u001b[0m\n\u001b[1;32m   1300\u001b[0m \u001b[38;5;28;01mdef\u001b[39;00m \u001b[38;5;21m_work\u001b[39m(\n\u001b[1;32m   1301\u001b[0m     tx: ManagedTransaction,\n\u001b[1;32m   1302\u001b[0m     query: te\u001b[38;5;241m.\u001b[39mLiteralString,\n\u001b[1;32m   1303\u001b[0m     parameters: \u001b[38;5;28mdict\u001b[39m[\u001b[38;5;28mstr\u001b[39m, t\u001b[38;5;241m.\u001b[39mAny],\n\u001b[1;32m   1304\u001b[0m     transformer: t\u001b[38;5;241m.\u001b[39mCallable[[Result], t\u001b[38;5;241m.\u001b[39mUnion[_T]],\n\u001b[1;32m   1305\u001b[0m ) \u001b[38;5;241m-\u001b[39m\u001b[38;5;241m>\u001b[39m _T:\n\u001b[0;32m-> 1306\u001b[0m     res \u001b[38;5;241m=\u001b[39m \u001b[43mtx\u001b[49m\u001b[38;5;241;43m.\u001b[39;49m\u001b[43mrun\u001b[49m\u001b[43m(\u001b[49m\u001b[43mquery\u001b[49m\u001b[43m,\u001b[49m\u001b[43m \u001b[49m\u001b[43mparameters\u001b[49m\u001b[43m)\u001b[49m\n\u001b[1;32m   1307\u001b[0m     \u001b[38;5;28;01mreturn\u001b[39;00m transformer(res)\n",
      "File \u001b[0;32m~/miniconda3/lib/python3.11/site-packages/neo4j/_sync/work/transaction.py:206\u001b[0m, in \u001b[0;36mTransactionBase.run\u001b[0;34m(self, query, parameters, **kwparameters)\u001b[0m\n\u001b[1;32m    203\u001b[0m \u001b[38;5;28mself\u001b[39m\u001b[38;5;241m.\u001b[39m_results\u001b[38;5;241m.\u001b[39mappend(result)\n\u001b[1;32m    205\u001b[0m parameters \u001b[38;5;241m=\u001b[39m \u001b[38;5;28mdict\u001b[39m(parameters \u001b[38;5;129;01mor\u001b[39;00m {}, \u001b[38;5;241m*\u001b[39m\u001b[38;5;241m*\u001b[39mkwparameters)\n\u001b[0;32m--> 206\u001b[0m \u001b[43mresult\u001b[49m\u001b[38;5;241;43m.\u001b[39;49m\u001b[43m_tx_ready_run\u001b[49m\u001b[43m(\u001b[49m\u001b[43mquery\u001b[49m\u001b[43m,\u001b[49m\u001b[43m \u001b[49m\u001b[43mparameters\u001b[49m\u001b[43m)\u001b[49m\n\u001b[1;32m    208\u001b[0m \u001b[38;5;28;01mreturn\u001b[39;00m result\n",
      "File \u001b[0;32m~/miniconda3/lib/python3.11/site-packages/neo4j/_sync/work/result.py:177\u001b[0m, in \u001b[0;36mResult._tx_ready_run\u001b[0;34m(self, query, parameters)\u001b[0m\n\u001b[1;32m    173\u001b[0m \u001b[38;5;28;01mdef\u001b[39;00m \u001b[38;5;21m_tx_ready_run\u001b[39m(\u001b[38;5;28mself\u001b[39m, query, parameters):\n\u001b[1;32m    174\u001b[0m     \u001b[38;5;66;03m# BEGIN+RUN does not carry any extra on the RUN message.\u001b[39;00m\n\u001b[1;32m    175\u001b[0m     \u001b[38;5;66;03m# BEGIN {extra}\u001b[39;00m\n\u001b[1;32m    176\u001b[0m     \u001b[38;5;66;03m# RUN \"query\" {parameters} {extra}\u001b[39;00m\n\u001b[0;32m--> 177\u001b[0m     \u001b[38;5;28;43mself\u001b[39;49m\u001b[38;5;241;43m.\u001b[39;49m\u001b[43m_run\u001b[49m\u001b[43m(\u001b[49m\u001b[43mquery\u001b[49m\u001b[43m,\u001b[49m\u001b[43m \u001b[49m\u001b[43mparameters\u001b[49m\u001b[43m,\u001b[49m\u001b[43m \u001b[49m\u001b[38;5;28;43;01mNone\u001b[39;49;00m\u001b[43m,\u001b[49m\u001b[43m \u001b[49m\u001b[38;5;28;43;01mNone\u001b[39;49;00m\u001b[43m,\u001b[49m\u001b[43m \u001b[49m\u001b[38;5;28;43;01mNone\u001b[39;49;00m\u001b[43m,\u001b[49m\u001b[43m \u001b[49m\u001b[38;5;28;43;01mNone\u001b[39;49;00m\u001b[43m,\u001b[49m\u001b[43m \u001b[49m\u001b[38;5;28;43;01mNone\u001b[39;49;00m\u001b[43m,\u001b[49m\u001b[43m \u001b[49m\u001b[38;5;28;43;01mNone\u001b[39;49;00m\u001b[43m)\u001b[49m\n",
      "File \u001b[0;32m~/miniconda3/lib/python3.11/site-packages/neo4j/_sync/work/result.py:236\u001b[0m, in \u001b[0;36mResult._run\u001b[0;34m(self, query, parameters, db, imp_user, access_mode, bookmarks, notifications_min_severity, notifications_disabled_classifications)\u001b[0m\n\u001b[1;32m    234\u001b[0m \u001b[38;5;28mself\u001b[39m\u001b[38;5;241m.\u001b[39m_pull()\n\u001b[1;32m    235\u001b[0m \u001b[38;5;28mself\u001b[39m\u001b[38;5;241m.\u001b[39m_connection\u001b[38;5;241m.\u001b[39msend_all()\n\u001b[0;32m--> 236\u001b[0m \u001b[38;5;28;43mself\u001b[39;49m\u001b[38;5;241;43m.\u001b[39;49m\u001b[43m_attach\u001b[49m\u001b[43m(\u001b[49m\u001b[43m)\u001b[49m\n",
      "File \u001b[0;32m~/miniconda3/lib/python3.11/site-packages/neo4j/_sync/work/result.py:430\u001b[0m, in \u001b[0;36mResult._attach\u001b[0;34m(self)\u001b[0m\n\u001b[1;32m    428\u001b[0m \u001b[38;5;28;01mif\u001b[39;00m \u001b[38;5;28mself\u001b[39m\u001b[38;5;241m.\u001b[39m_exhausted \u001b[38;5;129;01mis\u001b[39;00m \u001b[38;5;28;01mFalse\u001b[39;00m:\n\u001b[1;32m    429\u001b[0m     \u001b[38;5;28;01mwhile\u001b[39;00m \u001b[38;5;28mself\u001b[39m\u001b[38;5;241m.\u001b[39m_attached \u001b[38;5;129;01mis\u001b[39;00m \u001b[38;5;28;01mFalse\u001b[39;00m:\n\u001b[0;32m--> 430\u001b[0m         \u001b[38;5;28;43mself\u001b[39;49m\u001b[38;5;241;43m.\u001b[39;49m\u001b[43m_connection\u001b[49m\u001b[38;5;241;43m.\u001b[39;49m\u001b[43mfetch_message\u001b[49m\u001b[43m(\u001b[49m\u001b[43m)\u001b[49m\n",
      "File \u001b[0;32m~/miniconda3/lib/python3.11/site-packages/neo4j/_sync/io/_common.py:184\u001b[0m, in \u001b[0;36mConnectionErrorHandler.__getattr__.<locals>.outer.<locals>.inner\u001b[0;34m(*args, **kwargs)\u001b[0m\n\u001b[1;32m    182\u001b[0m \u001b[38;5;28;01mdef\u001b[39;00m \u001b[38;5;21minner\u001b[39m(\u001b[38;5;241m*\u001b[39margs, \u001b[38;5;241m*\u001b[39m\u001b[38;5;241m*\u001b[39mkwargs):\n\u001b[1;32m    183\u001b[0m     \u001b[38;5;28;01mtry\u001b[39;00m:\n\u001b[0;32m--> 184\u001b[0m         \u001b[43mfunc\u001b[49m\u001b[43m(\u001b[49m\u001b[38;5;241;43m*\u001b[39;49m\u001b[43margs\u001b[49m\u001b[43m,\u001b[49m\u001b[43m \u001b[49m\u001b[38;5;241;43m*\u001b[39;49m\u001b[38;5;241;43m*\u001b[39;49m\u001b[43mkwargs\u001b[49m\u001b[43m)\u001b[49m\n\u001b[1;32m    185\u001b[0m     \u001b[38;5;28;01mexcept\u001b[39;00m (Neo4jError, ServiceUnavailable, SessionExpired) \u001b[38;5;28;01mas\u001b[39;00m exc:\n\u001b[1;32m    186\u001b[0m         \u001b[38;5;28;01massert\u001b[39;00m \u001b[38;5;129;01mnot\u001b[39;00m asyncio\u001b[38;5;241m.\u001b[39miscoroutinefunction(\u001b[38;5;28mself\u001b[39m\u001b[38;5;241m.\u001b[39m__on_error)\n",
      "File \u001b[0;32m~/miniconda3/lib/python3.11/site-packages/neo4j/_sync/io/_bolt.py:864\u001b[0m, in \u001b[0;36mBolt.fetch_message\u001b[0;34m(self)\u001b[0m\n\u001b[1;32m    860\u001b[0m \u001b[38;5;66;03m# Receive exactly one message\u001b[39;00m\n\u001b[1;32m    861\u001b[0m tag, fields \u001b[38;5;241m=\u001b[39m \u001b[38;5;28mself\u001b[39m\u001b[38;5;241m.\u001b[39minbox\u001b[38;5;241m.\u001b[39mpop(\n\u001b[1;32m    862\u001b[0m     hydration_hooks\u001b[38;5;241m=\u001b[39m\u001b[38;5;28mself\u001b[39m\u001b[38;5;241m.\u001b[39mresponses[\u001b[38;5;241m0\u001b[39m]\u001b[38;5;241m.\u001b[39mhydration_hooks\n\u001b[1;32m    863\u001b[0m )\n\u001b[0;32m--> 864\u001b[0m res \u001b[38;5;241m=\u001b[39m \u001b[38;5;28;43mself\u001b[39;49m\u001b[38;5;241;43m.\u001b[39;49m\u001b[43m_process_message\u001b[49m\u001b[43m(\u001b[49m\u001b[43mtag\u001b[49m\u001b[43m,\u001b[49m\u001b[43m \u001b[49m\u001b[43mfields\u001b[49m\u001b[43m)\u001b[49m\n\u001b[1;32m    865\u001b[0m \u001b[38;5;28mself\u001b[39m\u001b[38;5;241m.\u001b[39midle_since \u001b[38;5;241m=\u001b[39m monotonic()\n\u001b[1;32m    866\u001b[0m \u001b[38;5;28;01mreturn\u001b[39;00m res\n",
      "File \u001b[0;32m~/miniconda3/lib/python3.11/site-packages/neo4j/_sync/io/_bolt5.py:1208\u001b[0m, in \u001b[0;36mBolt5x7._process_message\u001b[0;34m(self, tag, fields)\u001b[0m\n\u001b[1;32m   1206\u001b[0m \u001b[38;5;28mself\u001b[39m\u001b[38;5;241m.\u001b[39m_enrich_error_diagnostic_record(summary_metadata)\n\u001b[1;32m   1207\u001b[0m \u001b[38;5;28;01mtry\u001b[39;00m:\n\u001b[0;32m-> 1208\u001b[0m     \u001b[43mresponse\u001b[49m\u001b[38;5;241;43m.\u001b[39;49m\u001b[43mon_failure\u001b[49m\u001b[43m(\u001b[49m\u001b[43msummary_metadata\u001b[49m\u001b[43m \u001b[49m\u001b[38;5;129;43;01mor\u001b[39;49;00m\u001b[43m \u001b[49m\u001b[43m{\u001b[49m\u001b[43m}\u001b[49m\u001b[43m)\u001b[49m\n\u001b[1;32m   1209\u001b[0m \u001b[38;5;28;01mexcept\u001b[39;00m (ServiceUnavailable, DatabaseUnavailable):\n\u001b[1;32m   1210\u001b[0m     \u001b[38;5;28;01mif\u001b[39;00m \u001b[38;5;28mself\u001b[39m\u001b[38;5;241m.\u001b[39mpool:\n",
      "File \u001b[0;32m~/miniconda3/lib/python3.11/site-packages/neo4j/_sync/io/_common.py:254\u001b[0m, in \u001b[0;36mResponse.on_failure\u001b[0;34m(self, metadata)\u001b[0m\n\u001b[1;32m    252\u001b[0m handler \u001b[38;5;241m=\u001b[39m \u001b[38;5;28mself\u001b[39m\u001b[38;5;241m.\u001b[39mhandlers\u001b[38;5;241m.\u001b[39mget(\u001b[38;5;124m\"\u001b[39m\u001b[38;5;124mon_summary\u001b[39m\u001b[38;5;124m\"\u001b[39m)\n\u001b[1;32m    253\u001b[0m Util\u001b[38;5;241m.\u001b[39mcallback(handler)\n\u001b[0;32m--> 254\u001b[0m \u001b[38;5;28;01mraise\u001b[39;00m \u001b[38;5;28mself\u001b[39m\u001b[38;5;241m.\u001b[39m_hydrate_error(metadata)\n",
      "\u001b[0;31mClientError\u001b[0m: {code: Neo.ClientError.Schema.IndexWithNameAlreadyExists} {message: There already exists an index called 'keyword'.}"
     ]
    }
   ],
   "source": [
    "vector_index = Neo4jVector.from_existing_graph(\n",
    "    embedding=OpenAIEmbeddings(),\n",
    "    url=os.getenv(\"NEO4J_URL\"),\n",
    "    username=os.getenv(\"NEO4J_USERNAME\"),\n",
    "    password=os.getenv(\"NEO4J_PASSWORD\"),\n",
    "    search_type=\"hybrid\",  # combining vector index and keyword index search for better results\n",
    "    node_label=\"Document\",  # \"Document\",\n",
    "    text_node_properties=[\"text\"],\n",
    "    embedding_node_property=\"embedding\",\n",
    ")\n",
    "vector_retriever = vector_index.as_retriever()"
   ]
  },
  {
   "cell_type": "code",
   "execution_count": null,
   "metadata": {},
   "outputs": [],
   "source": [
    "driver = GraphDatabase.driver(\n",
    "    uri=os.getenv(\"NEO4J_URL\"),\n",
    "    auth=(os.getenv(\"NEO4J_USERNAME\"), os.getenv(\"NEO4J_PASSWORD\")),\n",
    ")\n",
    "\n",
    "\n",
    "def create_fulltext_index(tx):\n",
    "    query = \"\"\"\n",
    "    CREATE FULLTEXT INDEX `fulltext_entity_id`\n",
    "    FOR (n:__Entity__)\n",
    "    ON EACH [n.id];\n",
    "    \"\"\"\n",
    "    tx.run(query)\n",
    "\n",
    "\n",
    "# Function to execute the query\n",
    "def create_index():\n",
    "    with driver.session() as session:\n",
    "        session.execute_write(create_fulltext_index)\n",
    "        print(\"Fulltext index created successfully.\")\n",
    "\n",
    "\n",
    "# Call the function to create the index\n",
    "try:\n",
    "    create_index()\n",
    "except:\n",
    "    # print(\"Error creating the fulltext index.\")\n",
    "    pass\n",
    "\n",
    "# Close the driver connection\n",
    "driver.close()"
   ]
  },
  {
   "cell_type": "code",
   "execution_count": null,
   "metadata": {},
   "outputs": [
    {
     "name": "stdout",
     "output_type": "stream",
     "text": [
      "['ards']\n"
     ]
    }
   ],
   "source": [
    "class Entities(BaseModel):\n",
    "    \"\"\"Identifying information about entities.\"\"\"\n",
    "\n",
    "    names: list[str] = Field(\n",
    "        ...,\n",
    "        description=\"All the medical conditions, concept, treatment or outcomes entities that \"\n",
    "        \"appear in the text\",\n",
    "    )\n",
    "\n",
    "\n",
    "parser = PydanticOutputParser(pydantic_object=Entities)\n",
    "\n",
    "prompt = ChatPromptTemplate.from_messages(\n",
    "    [\n",
    "        (\n",
    "            \"system\",\n",
    "            \"\"\"You are extracting medical conditions entities from the text.\n",
    "        Return the entities as a JSON object with a 'names' field containing an array of strings.\n",
    "        \n",
    "        The output should be formatted as a JSON object with the following structure:\n",
    "        {{\"names\": [\"entity1\", \"entity2\", ...]}}\n",
    "        \n",
    "        DO NOT include any other text or explanation.\"\"\",\n",
    "        ),\n",
    "        (\"human\", \"Extract entities from this text: {question}\"),\n",
    "    ]\n",
    ")\n",
    "\n",
    "inf_llm = ChatOpenAI(model=\"gpt-4-turbo\", temperature=0.5)\n",
    "\n",
    "entity_chain = prompt | inf_llm | parser\n",
    "\n",
    "response = entity_chain.invoke({\"question\": \"What is ards?\"})\n",
    "print(response.names)"
   ]
  },
  {
   "cell_type": "code",
   "execution_count": null,
   "metadata": {},
   "outputs": [
    {
     "data": {
      "text/plain": [
       "Entities(names=['ARDS', 'Sepsis'])"
      ]
     },
     "execution_count": 27,
     "metadata": {},
     "output_type": "execute_result"
    }
   ],
   "source": [
    "entity_chain.invoke(\"What is ARDS and Sepsis?\")"
   ]
  },
  {
   "cell_type": "code",
   "execution_count": null,
   "metadata": {},
   "outputs": [],
   "source": [
    "def generate_full_text_query(input: str) -> str:\n",
    "    words = [el for el in remove_lucene_chars(input).split() if el]\n",
    "    if not words:\n",
    "        return \"\"\n",
    "    full_text_query = \" AND \".join([f\"{word}~2\" for word in words])\n",
    "    print(f\"Generated Query: {full_text_query}\")\n",
    "    return full_text_query.strip()\n",
    "\n",
    "\n",
    "# Fulltext index query\n",
    "def graph_retriever(question: str) -> str:\n",
    "    \"\"\"\n",
    "    Collects the neighborhood of entities mentioned\n",
    "    in the question\n",
    "    \"\"\"\n",
    "\n",
    "    result = \"\"\n",
    "    entities = entity_chain.invoke(question)\n",
    "    print(entities.names)\n",
    "    for entity in entities.names:\n",
    "        response = graph.query(\n",
    "            \"\"\"CALL db.index.fulltext.queryNodes('fulltext_entity_id', $query, {limit:2})\n",
    "            YIELD node,score\n",
    "            CALL {\n",
    "              WITH node\n",
    "              MATCH (node)-[r]->(neighbor)\n",
    "              RETURN node.id+ ' - ' + type(r) + ' -> ' + neighbor.id AS output\n",
    "              UNION ALL\n",
    "              WITH node\n",
    "              MATCH (node)<-[r]-(neighbor)\n",
    "              RETURN neighbor.id + ' - ' + type(r) + ' -> ' +  node.id AS output\n",
    "            }\n",
    "            RETURN output LIMIT 50\n",
    "            \"\"\",\n",
    "            {\"query\": entity},\n",
    "        )\n",
    "        print(f\"response: {response}\")\n",
    "        result += \"\\n\".join([el[\"output\"] for el in response])\n",
    "    return result"
   ]
  },
  {
   "cell_type": "code",
   "execution_count": null,
   "metadata": {},
   "outputs": [
    {
     "name": "stderr",
     "output_type": "stream",
     "text": [
      "Received notification from DBMS server: {severity: WARNING} {code: Neo.ClientNotification.Statement.FeatureDeprecationWarning} {category: DEPRECATION} {title: This feature is deprecated and will be removed in future versions.} {description: CALL subquery without a variable scope clause is now deprecated. Use CALL (node, node) { ... }} {position: line: 3, column: 13, offset: 116} for query: \"CALL db.index.fulltext.queryNodes('fulltext_entity_id', $query, {limit:2})\\n            YIELD node,score\\n            CALL {\\n              WITH node\\n              MATCH (node)-[r]->(neighbor)\\n              RETURN node.id+ ' - ' + type(r) + ' -> ' + neighbor.id AS output\\n              UNION ALL\\n              WITH node\\n              MATCH (node)<-[r]-(neighbor)\\n              RETURN neighbor.id + ' - ' + type(r) + ' -> ' +  node.id AS output\\n            }\\n            RETURN output LIMIT 50\\n            \"\n"
     ]
    },
    {
     "name": "stdout",
     "output_type": "stream",
     "text": [
      "['ARDS']\n",
      "response: [{'output': 'Ards - REQUIRES -> Mechanical Ventilation'}, {'output': '9c5ed7b2bec8619b3b52c82c472b0401 - MENTIONS -> Ards'}, {'output': 'abbbdb63e743f199c244e0090c6cd550 - MENTIONS -> Ards'}, {'output': 'cf1437c35ff826ae08c902089c03d00d - MENTIONS -> Ards'}, {'output': '2831ca76007d23bcc0d4d000ff3ba724 - MENTIONS -> Ards'}, {'output': '86ac7f7e70073e0e54b9732aaf3eb542 - MENTIONS -> Ards'}, {'output': 'f468d6266a93d15be992871df61407e5 - MENTIONS -> Ards'}, {'output': '0caa74b372dfc97f26a18da2df094740 - MENTIONS -> Ards'}, {'output': 'fa8c52ff75b0742806a26b4350ed0599 - MENTIONS -> Ards'}, {'output': 'a76abbabe70f339458a6f33fc3ea38e7 - MENTIONS -> Ards'}, {'output': '1e8fdeafc8c166452355dad958b0e62b - MENTIONS -> Ards'}, {'output': 'e395f01be42133b95ecd6fe0667331a4 - MENTIONS -> Ards'}, {'output': 'Peep - TREATMENT_FOR -> Ards'}, {'output': 'Neuromuscular_Blockade - TREATMENT_FOR -> Ards'}, {'output': 'Low Tidal Volume Ventilation - TREATMENT_FOR -> Ards'}, {'output': 'Fio2 - TREATMENT_FOR -> Ards'}, {'output': 'Low Plateau Pressures - TREATMENT_FOR -> Ards'}, {'output': 'Neuromuscular_Blockade - USED_FOR -> Ards'}, {'output': 'Deep_Sedation - USED_FOR -> Ards'}, {'output': 'Prone Positioning - USED_FOR -> Ards'}, {'output': 'Wald Test - USED_FOR -> Ards'}, {'output': 'Oxygenation - IMPROVEMENT -> Ards'}, {'output': 'Prone_Positioning - TREATS -> Ards'}, {'output': 'Intervention_Group - CONDITION -> Ards'}, {'output': 'Control_Group - CONDITION -> Ards'}, {'output': 'f468d6266a93d15be992871df61407e5 - MENTIONS -> Duration Of Ards'}, {'output': '3b8e2f9d215723aa6531a4ad490371a4 - MENTIONS -> Duration Of Ards'}, {'output': 'Prespecified Subgroup Analyses - ACROSS -> Duration Of Ards'}]\n",
      "Ards - REQUIRES -> Mechanical Ventilation\n",
      "9c5ed7b2bec8619b3b52c82c472b0401 - MENTIONS -> Ards\n",
      "abbbdb63e743f199c244e0090c6cd550 - MENTIONS -> Ards\n",
      "cf1437c35ff826ae08c902089c03d00d - MENTIONS -> Ards\n",
      "2831ca76007d23bcc0d4d000ff3ba724 - MENTIONS -> Ards\n",
      "86ac7f7e70073e0e54b9732aaf3eb542 - MENTIONS -> Ards\n",
      "f468d6266a93d15be992871df61407e5 - MENTIONS -> Ards\n",
      "0caa74b372dfc97f26a18da2df094740 - MENTIONS -> Ards\n",
      "fa8c52ff75b0742806a26b4350ed0599 - MENTIONS -> Ards\n",
      "a76abbabe70f339458a6f33fc3ea38e7 - MENTIONS -> Ards\n",
      "1e8fdeafc8c166452355dad958b0e62b - MENTIONS -> Ards\n",
      "e395f01be42133b95ecd6fe0667331a4 - MENTIONS -> Ards\n",
      "Peep - TREATMENT_FOR -> Ards\n",
      "Neuromuscular_Blockade - TREATMENT_FOR -> Ards\n",
      "Low Tidal Volume Ventilation - TREATMENT_FOR -> Ards\n",
      "Fio2 - TREATMENT_FOR -> Ards\n",
      "Low Plateau Pressures - TREATMENT_FOR -> Ards\n",
      "Neuromuscular_Blockade - USED_FOR -> Ards\n",
      "Deep_Sedation - USED_FOR -> Ards\n",
      "Prone Positioning - USED_FOR -> Ards\n",
      "Wald Test - USED_FOR -> Ards\n",
      "Oxygenation - IMPROVEMENT -> Ards\n",
      "Prone_Positioning - TREATS -> Ards\n",
      "Intervention_Group - CONDITION -> Ards\n",
      "Control_Group - CONDITION -> Ards\n",
      "f468d6266a93d15be992871df61407e5 - MENTIONS -> Duration Of Ards\n",
      "3b8e2f9d215723aa6531a4ad490371a4 - MENTIONS -> Duration Of Ards\n",
      "Prespecified Subgroup Analyses - ACROSS -> Duration Of Ards\n"
     ]
    }
   ],
   "source": [
    "graph_output = graph_retriever(\"What is ARDS?\")\n",
    "print(graph_output)"
   ]
  },
  {
   "cell_type": "code",
   "execution_count": null,
   "metadata": {},
   "outputs": [],
   "source": [
    "def full_retriever(question: str):\n",
    "    graph_data = graph_retriever(question)\n",
    "    vector_data = [el.page_content for el in vector_retriever.invoke(question)]\n",
    "    final_data = f\"\"\"Graph data:\n",
    "{graph_data}\n",
    "vector data:\n",
    "{\"#Document \". join(vector_data)}\n",
    "    \"\"\"\n",
    "    return final_data"
   ]
  },
  {
   "cell_type": "code",
   "execution_count": null,
   "metadata": {},
   "outputs": [],
   "source": [
    "template = \"\"\"Answer the question based only on the following context:\n",
    "{context}\n",
    "\n",
    "Question: {question}\n",
    "Use natural language and be concise.\n",
    "Answer:\"\"\"\n",
    "prompt = ChatPromptTemplate.from_template(template)\n",
    "\n",
    "chain = (\n",
    "    {\n",
    "        \"context\": full_retriever,\n",
    "        \"question\": RunnablePassthrough(),\n",
    "    }\n",
    "    | prompt\n",
    "    | llm\n",
    "    | StrOutputParser()\n",
    ")"
   ]
  },
  {
   "cell_type": "code",
   "execution_count": null,
   "metadata": {},
   "outputs": [
    {
     "name": "stderr",
     "output_type": "stream",
     "text": [
      "Received notification from DBMS server: {severity: WARNING} {code: Neo.ClientNotification.Statement.FeatureDeprecationWarning} {category: DEPRECATION} {title: This feature is deprecated and will be removed in future versions.} {description: CALL subquery without a variable scope clause is now deprecated. Use CALL (node, node) { ... }} {position: line: 3, column: 13, offset: 116} for query: \"CALL db.index.fulltext.queryNodes('fulltext_entity_id', $query, {limit:2})\\n            YIELD node,score\\n            CALL {\\n              WITH node\\n              MATCH (node)-[r]->(neighbor)\\n              RETURN node.id+ ' - ' + type(r) + ' -> ' + neighbor.id AS output\\n              UNION ALL\\n              WITH node\\n              MATCH (node)<-[r]-(neighbor)\\n              RETURN neighbor.id + ' - ' + type(r) + ' -> ' +  node.id AS output\\n            }\\n            RETURN output LIMIT 50\\n            \"\n"
     ]
    },
    {
     "name": "stdout",
     "output_type": "stream",
     "text": [
      "['moderate to severe ARDS']\n",
      "response: [{'output': 'Ards - REQUIRES -> Mechanical Ventilation'}, {'output': '6ccf6204fc494db33f778fafb78ffe5e - MENTIONS -> Moderate-To-Severe Ards'}, {'output': '3b8e2f9d215723aa6531a4ad490371a4 - MENTIONS -> Moderate-To-Severe Ards'}, {'output': 'e395f01be42133b95ecd6fe0667331a4 - MENTIONS -> Moderate-To-Severe Ards'}, {'output': 'Rose Trial - INVOLVES -> Moderate-To-Severe Ards'}, {'output': 'Higher Peep Strategy - USED_FOR -> Moderate-To-Severe Ards'}, {'output': 'Early And Continuous Infusion Of Cisatracurium - USED_FOR -> Moderate-To-Severe Ards'}, {'output': '9c5ed7b2bec8619b3b52c82c472b0401 - MENTIONS -> Ards'}, {'output': 'abbbdb63e743f199c244e0090c6cd550 - MENTIONS -> Ards'}, {'output': 'cf1437c35ff826ae08c902089c03d00d - MENTIONS -> Ards'}, {'output': '2831ca76007d23bcc0d4d000ff3ba724 - MENTIONS -> Ards'}, {'output': '86ac7f7e70073e0e54b9732aaf3eb542 - MENTIONS -> Ards'}, {'output': 'f468d6266a93d15be992871df61407e5 - MENTIONS -> Ards'}, {'output': '0caa74b372dfc97f26a18da2df094740 - MENTIONS -> Ards'}, {'output': 'fa8c52ff75b0742806a26b4350ed0599 - MENTIONS -> Ards'}, {'output': 'a76abbabe70f339458a6f33fc3ea38e7 - MENTIONS -> Ards'}, {'output': '1e8fdeafc8c166452355dad958b0e62b - MENTIONS -> Ards'}, {'output': 'e395f01be42133b95ecd6fe0667331a4 - MENTIONS -> Ards'}, {'output': 'Peep - TREATMENT_FOR -> Ards'}, {'output': 'Neuromuscular_Blockade - TREATMENT_FOR -> Ards'}, {'output': 'Low Tidal Volume Ventilation - TREATMENT_FOR -> Ards'}, {'output': 'Fio2 - TREATMENT_FOR -> Ards'}, {'output': 'Low Plateau Pressures - TREATMENT_FOR -> Ards'}, {'output': 'Neuromuscular_Blockade - USED_FOR -> Ards'}, {'output': 'Deep_Sedation - USED_FOR -> Ards'}, {'output': 'Prone Positioning - USED_FOR -> Ards'}, {'output': 'Wald Test - USED_FOR -> Ards'}, {'output': 'Oxygenation - IMPROVEMENT -> Ards'}, {'output': 'Prone_Positioning - TREATS -> Ards'}, {'output': 'Intervention_Group - CONDITION -> Ards'}, {'output': 'Control_Group - CONDITION -> Ards'}]\n"
     ]
    },
    {
     "name": "stderr",
     "output_type": "stream",
     "text": [
      "Received notification from DBMS server: {severity: WARNING} {code: Neo.ClientNotification.Statement.FeatureDeprecationWarning} {category: DEPRECATION} {title: This feature is deprecated and will be removed in future versions.} {description: CALL subquery without a variable scope clause is now deprecated. Use CALL () { ... }} {position: line: 1, column: 1, offset: 0} for query: \"CALL { CALL db.index.vector.queryNodes($index, $k, $embedding) YIELD node, score WITH collect({node:node, score:score}) AS nodes, max(score) AS max UNWIND nodes AS n RETURN n.node AS node, (n.score / max) AS score UNION CALL db.index.fulltext.queryNodes($keyword_index, $query, {limit: $k}) YIELD node, score WITH collect({node:node, score:score}) AS nodes, max(score) AS max UNWIND nodes AS n RETURN n.node AS node, (n.score / max) AS score } WITH node, max(score) AS score ORDER BY score DESC LIMIT $k RETURN reduce(str='', k IN ['text'] | str + '\\\\n' + k + ': ' + coalesce(node[k], '')) AS text, node {.*, `embedding`: Null, id: Null, `text`: Null} AS metadata, score\"\n"
     ]
    },
    {
     "data": {
      "text/plain": [
       "'No, the early use of continuous neuromuscular blockade with cisatracurium does not improve mortality in patients with moderate to severe ARDS when used with current light sedation protocols. The trial was stopped for futility, indicating that this approach did not result in significantly lower mortality at 90 days compared to usual care with lighter sedation targets.'"
      ]
     },
     "execution_count": 32,
     "metadata": {},
     "output_type": "execute_result"
    }
   ],
   "source": [
    "chain.invoke(\n",
    "    input=\"In patients with moderate to severe ARDS, \"\n",
    "    \"does the early use of continuous neuromuscular blockade with cisatracurium improve mortality when used with current light sedation protocols?\"\n",
    ")"
   ]
  }
 ],
 "metadata": {
  "kernelspec": {
   "display_name": ".venv",
   "language": "python",
   "name": "python3"
  },
  "language_info": {
   "codemirror_mode": {
    "name": "ipython",
    "version": 3
   },
   "file_extension": ".py",
   "mimetype": "text/x-python",
   "name": "python",
   "nbconvert_exporter": "python",
   "pygments_lexer": "ipython3",
   "version": "3.12.3"
  }
 },
 "nbformat": 4,
 "nbformat_minor": 2
}
